{
 "cells": [
  {
   "cell_type": "code",
   "execution_count": 59,
   "metadata": {},
   "outputs": [],
   "source": [
    "from bs4 import BeautifulSoup\n",
    "import bs4\n",
    "import requests\n",
    "import requests_cache\n",
    "import re\n",
    "import pandas as pd\n",
    "import seaborn as sns\n",
    "import plotly.express as px\n",
    "\n",
    "requests_cache.install_cache(\"bases_scraping\", expire_after=10e5)"
   ]
  },
  {
   "cell_type": "code",
   "execution_count": 47,
   "metadata": {},
   "outputs": [],
   "source": [
    "# On désactive les écritures scientifiques\n",
    "pd.set_option('display.float_format', lambda x: '%.3f' % x)"
   ]
  },
  {
   "cell_type": "code",
   "execution_count": 48,
   "metadata": {},
   "outputs": [],
   "source": [
    "prices = []\n",
    "surfaces = []\n",
    "types = []\n",
    "pieces = []\n",
    "cps = []\n",
    "headers = {\n",
    "    'User-Agent': 'Mozilla/5.0 (Macintosh; Intel Mac OS X 10_10_1) AppleWebKit/537.36 (KHTML, like Gecko) Chrome/39.0.2171.95 Safari/537.36'\n",
    "}"
   ]
  },
  {
   "cell_type": "code",
   "execution_count": 49,
   "metadata": {},
   "outputs": [],
   "source": [
    "url = f\"https://www.paruvendu.fr/immobilier/annonceimmofo/liste/listeAnnonces?tt=1&tbApp=1&tbDup=1&tbChb=1&tbLof=1&tbAtl=1&tbPla=1&tbMai=1&tbVil=1&tbCha=1&tbPro=1&tbHot=1&tbMou=1&tbFer=1&at=1&pa=FR&lol=0&ray=50&codeINSEE=35XX0,\"\n",
    "response = requests.get(url, headers=headers)\n",
    "soup = BeautifulSoup(response.text, \"html.parser\")"
   ]
  },
  {
   "cell_type": "code",
   "execution_count": 50,
   "metadata": {},
   "outputs": [
    {
     "data": {
      "text/plain": [
       "14"
      ]
     },
     "execution_count": 50,
     "metadata": {},
     "output_type": "execute_result"
    }
   ],
   "source": [
    "def get_nb_pages():\n",
    "    string = soup.find(\"div\", class_=\"resume\").span.text\n",
    "    a = int(string.split(\"-\")[0])\n",
    "    b = int(string.split(\"-\")[1].split(\"sur\")[0])\n",
    "    c = int(string.split(\"-\")[1].split(\"sur\")[1].replace(\"annonces\",\"\"))    \n",
    "    return c // (b-a)\n",
    "\n",
    "nb_pages = get_nb_pages()\n",
    "nb_pages"
   ]
  },
  {
   "cell_type": "code",
   "execution_count": 51,
   "metadata": {},
   "outputs": [
    {
     "data": {
      "text/html": [
       "<div>\n",
       "<style scoped>\n",
       "    .dataframe tbody tr th:only-of-type {\n",
       "        vertical-align: middle;\n",
       "    }\n",
       "\n",
       "    .dataframe tbody tr th {\n",
       "        vertical-align: top;\n",
       "    }\n",
       "\n",
       "    .dataframe thead th {\n",
       "        text-align: right;\n",
       "    }\n",
       "</style>\n",
       "<table border=\"1\" class=\"dataframe\">\n",
       "  <thead>\n",
       "    <tr style=\"text-align: right;\">\n",
       "      <th></th>\n",
       "      <th>price</th>\n",
       "      <th>surface</th>\n",
       "      <th>pieces</th>\n",
       "      <th>types</th>\n",
       "      <th>code postal</th>\n",
       "      <th>prix au m2</th>\n",
       "    </tr>\n",
       "  </thead>\n",
       "  <tbody>\n",
       "    <tr>\n",
       "      <th>0</th>\n",
       "      <td>353000</td>\n",
       "      <td>65</td>\n",
       "      <td>3</td>\n",
       "      <td>Appartement</td>\n",
       "      <td>Rennes (35000)</td>\n",
       "      <td>5430.769</td>\n",
       "    </tr>\n",
       "    <tr>\n",
       "      <th>1</th>\n",
       "      <td>459000</td>\n",
       "      <td>100</td>\n",
       "      <td>4</td>\n",
       "      <td>Appartement</td>\n",
       "      <td>Rennes (35000)</td>\n",
       "      <td>4590.000</td>\n",
       "    </tr>\n",
       "    <tr>\n",
       "      <th>2</th>\n",
       "      <td>240000</td>\n",
       "      <td>91</td>\n",
       "      <td>4</td>\n",
       "      <td>Appartement</td>\n",
       "      <td>Rennes (35200)</td>\n",
       "      <td>2637.363</td>\n",
       "    </tr>\n",
       "    <tr>\n",
       "      <th>3</th>\n",
       "      <td>348150</td>\n",
       "      <td>98</td>\n",
       "      <td>5</td>\n",
       "      <td>Appartement</td>\n",
       "      <td>Rennes (35000)</td>\n",
       "      <td>3552.551</td>\n",
       "    </tr>\n",
       "    <tr>\n",
       "      <th>4</th>\n",
       "      <td>289000</td>\n",
       "      <td>72</td>\n",
       "      <td>3</td>\n",
       "      <td>Appartement</td>\n",
       "      <td>Rennes (35000)</td>\n",
       "      <td>4013.889</td>\n",
       "    </tr>\n",
       "  </tbody>\n",
       "</table>\n",
       "</div>"
      ],
      "text/plain": [
       "    price  surface  pieces        types     code postal  prix au m2\n",
       "0  353000       65       3  Appartement  Rennes (35000)    5430.769\n",
       "1  459000      100       4  Appartement  Rennes (35000)    4590.000\n",
       "2  240000       91       4  Appartement  Rennes (35200)    2637.363\n",
       "3  348150       98       5  Appartement  Rennes (35000)    3552.551\n",
       "4  289000       72       3  Appartement  Rennes (35000)    4013.889"
      ]
     },
     "execution_count": 51,
     "metadata": {},
     "output_type": "execute_result"
    }
   ],
   "source": [
    "for i in range(1,nb_pages+1):\n",
    "    url = f\"https://www.paruvendu.fr/immobilier/annonceimmofo/liste/listeAnnonces?tt=1&tbApp=1&tbDup=1&tbChb=1&tbLof=1&tbAtl=1&tbPla=1&tbMai=1&tbVil=1&tbCha=1&tbPro=1&tbHot=1&tbMou=1&tbFer=1&at=1&pa=FR&lol=0&ray=50&codeINSEE=35XX0,,&p={i}\"\n",
    "    response = requests.get(url, headers=headers)\n",
    "    soup = BeautifulSoup(response.text, \"html.parser\")\n",
    "    \n",
    "    for annonce in soup.find_all('div', class_=\"ergov3-annonce\"):\n",
    "        # prix du bien\n",
    "        price = annonce.find('div', class_=\"ergov3-priceannonce\")\n",
    "        price = int(price.text.replace(\" \",\"\").replace(\"€\",\"\").replace(\"\\n\",\"\").replace(\"*\",\"\").replace(\"\\r\",\"\"))\n",
    "        #print(re.sub(r'(\\s+){2,}|(\\*)', ' ', annonce.find('div', class_='ergov3-priceannonce').text))\n",
    "\n",
    "        # Titre de l'annonce. Permet de déduire le nombre de pièce, la surface et le type de bien\n",
    "        txt = annonce.find('div', class_=\"ergov3-txtannonce\")\n",
    "        #print(re.sub(r\"\"\"[!?'\".<>(){}@%&*/[/]\"\"\", \" \",txt.h3.text ))\n",
    "        # type de bien\n",
    "        type_bien = txt.h3.text.split('\\r\\n')[1]\n",
    "\n",
    "        # nombre de pièce du bien\n",
    "        nb_pieces = txt.h3.text.split('\\r\\n')[2]\n",
    "\n",
    "        # surface du bien\n",
    "        surface = txt.h3.span.text.split(\",\")[-1].split(\"-\")[-1].replace(\"m²\",\"\").replace(\" \",\"\").replace(\"\\t\",\"\").replace(\"\\n\",\"\").replace(\"\\r\",\"\").replace(\"carrez\",\"\")\n",
    "\n",
    "        # Code postal de l'annonce\n",
    "        #cp = txt.cite.text.replace(\"(\",\"\").replace(\")\",\"\").split(' ')[1].replace(\"\\t\",\"\").replace(\"\\n\",\"\").replace(\"\\r\",\"\")\n",
    "        cp = re.sub(r'\\r\\n','',txt.cite.text)\n",
    "\n",
    "        # Ajout des caractéristiques dans des tableaux\n",
    "        try:\n",
    "            price = int(price)\n",
    "            surface = int(surface)\n",
    "            nb_pieces = int(nb_pieces)\n",
    "            #type_bien = str(type_bien)\n",
    "            #cps = int(cp)\n",
    "\n",
    "            prices.append(price)\n",
    "            surfaces.append(surface)\n",
    "            pieces.append(nb_pieces)\n",
    "            types.append(type_bien)\n",
    "            cps.append(cp)\n",
    "\n",
    "        except Exception as e:\n",
    "           pass\n",
    "\n",
    "df = pd.DataFrame(data={\n",
    "    \"price\": prices,\n",
    "    \"surface\": surfaces,\n",
    "    \"pieces\": pieces,\n",
    "    \"types\": types,\n",
    "    \"code postal\": cps,\n",
    "})\n",
    "\n",
    "df[\"prix au m2\"] = df[\"price\"]/df[\"surface\"]\n",
    "df.head()"
   ]
  },
  {
   "cell_type": "code",
   "execution_count": 45,
   "metadata": {},
   "outputs": [],
   "source": [
    "df.to_csv(\"data/df.csv\")"
   ]
  },
  {
   "cell_type": "code",
   "execution_count": 35,
   "metadata": {},
   "outputs": [
    {
     "data": {
      "text/html": [
       "<div>\n",
       "<style scoped>\n",
       "    .dataframe tbody tr th:only-of-type {\n",
       "        vertical-align: middle;\n",
       "    }\n",
       "\n",
       "    .dataframe tbody tr th {\n",
       "        vertical-align: top;\n",
       "    }\n",
       "\n",
       "    .dataframe thead th {\n",
       "        text-align: right;\n",
       "    }\n",
       "</style>\n",
       "<table border=\"1\" class=\"dataframe\">\n",
       "  <thead>\n",
       "    <tr style=\"text-align: right;\">\n",
       "      <th></th>\n",
       "      <th>price</th>\n",
       "      <th>surface</th>\n",
       "      <th>prix au m2</th>\n",
       "    </tr>\n",
       "    <tr>\n",
       "      <th>pieces</th>\n",
       "      <th></th>\n",
       "      <th></th>\n",
       "      <th></th>\n",
       "    </tr>\n",
       "  </thead>\n",
       "  <tbody>\n",
       "    <tr>\n",
       "      <th>1</th>\n",
       "      <td>137749.154</td>\n",
       "      <td>23.577</td>\n",
       "      <td>5973.213</td>\n",
       "    </tr>\n",
       "    <tr>\n",
       "      <th>2</th>\n",
       "      <td>216081.833</td>\n",
       "      <td>46.083</td>\n",
       "      <td>4843.763</td>\n",
       "    </tr>\n",
       "    <tr>\n",
       "      <th>3</th>\n",
       "      <td>294019.340</td>\n",
       "      <td>65.460</td>\n",
       "      <td>4480.767</td>\n",
       "    </tr>\n",
       "    <tr>\n",
       "      <th>4</th>\n",
       "      <td>411670.637</td>\n",
       "      <td>89.692</td>\n",
       "      <td>4543.698</td>\n",
       "    </tr>\n",
       "    <tr>\n",
       "      <th>5</th>\n",
       "      <td>515565.388</td>\n",
       "      <td>112.694</td>\n",
       "      <td>4529.708</td>\n",
       "    </tr>\n",
       "    <tr>\n",
       "      <th>6</th>\n",
       "      <td>748904.941</td>\n",
       "      <td>159.647</td>\n",
       "      <td>4710.601</td>\n",
       "    </tr>\n",
       "    <tr>\n",
       "      <th>7</th>\n",
       "      <td>863297.400</td>\n",
       "      <td>212.100</td>\n",
       "      <td>4234.934</td>\n",
       "    </tr>\n",
       "    <tr>\n",
       "      <th>8</th>\n",
       "      <td>809235.714</td>\n",
       "      <td>190.286</td>\n",
       "      <td>4186.128</td>\n",
       "    </tr>\n",
       "    <tr>\n",
       "      <th>9</th>\n",
       "      <td>615393.333</td>\n",
       "      <td>214.333</td>\n",
       "      <td>3020.227</td>\n",
       "    </tr>\n",
       "    <tr>\n",
       "      <th>10</th>\n",
       "      <td>858354.000</td>\n",
       "      <td>294.000</td>\n",
       "      <td>3196.689</td>\n",
       "    </tr>\n",
       "    <tr>\n",
       "      <th>11</th>\n",
       "      <td>2090000.000</td>\n",
       "      <td>300.000</td>\n",
       "      <td>6966.667</td>\n",
       "    </tr>\n",
       "    <tr>\n",
       "      <th>12</th>\n",
       "      <td>1295000.000</td>\n",
       "      <td>500.000</td>\n",
       "      <td>2590.000</td>\n",
       "    </tr>\n",
       "    <tr>\n",
       "      <th>13</th>\n",
       "      <td>1886400.000</td>\n",
       "      <td>450.000</td>\n",
       "      <td>4192.000</td>\n",
       "    </tr>\n",
       "  </tbody>\n",
       "</table>\n",
       "</div>"
      ],
      "text/plain": [
       "             price  surface  prix au m2\n",
       "pieces                                 \n",
       "1       137749.154   23.577    5973.213\n",
       "2       216081.833   46.083    4843.763\n",
       "3       294019.340   65.460    4480.767\n",
       "4       411670.637   89.692    4543.698\n",
       "5       515565.388  112.694    4529.708\n",
       "6       748904.941  159.647    4710.601\n",
       "7       863297.400  212.100    4234.934\n",
       "8       809235.714  190.286    4186.128\n",
       "9       615393.333  214.333    3020.227\n",
       "10      858354.000  294.000    3196.689\n",
       "11     2090000.000  300.000    6966.667\n",
       "12     1295000.000  500.000    2590.000\n",
       "13     1886400.000  450.000    4192.000"
      ]
     },
     "execution_count": 35,
     "metadata": {},
     "output_type": "execute_result"
    }
   ],
   "source": [
    "df.groupby(\"pieces\").mean()"
   ]
  },
  {
   "cell_type": "code",
   "execution_count": 54,
   "metadata": {},
   "outputs": [
    {
     "data": {
      "text/plain": [
       "<AxesSubplot:xlabel='pieces'>"
      ]
     },
     "execution_count": 54,
     "metadata": {},
     "output_type": "execute_result"
    },
    {
     "data": {
      "image/png": "[encoded data removed]",
      "text/plain": [
       "<Figure size 432x288 with 1 Axes>"
      ]
     },
     "metadata": {
      "needs_background": "light"
     },
     "output_type": "display_data"
    }
   ],
   "source": [
    "df.groupby(\"pieces\").mean()['prix au m2'].plot(kind=\"bar\")"
   ]
  },
  {
   "cell_type": "code",
   "execution_count": 56,
   "metadata": {},
   "outputs": [
    {
     "data": {
      "text/html": [
       "<div>\n",
       "<style scoped>\n",
       "    .dataframe tbody tr th:only-of-type {\n",
       "        vertical-align: middle;\n",
       "    }\n",
       "\n",
       "    .dataframe tbody tr th {\n",
       "        vertical-align: top;\n",
       "    }\n",
       "\n",
       "    .dataframe thead th {\n",
       "        text-align: right;\n",
       "    }\n",
       "</style>\n",
       "<table border=\"1\" class=\"dataframe\">\n",
       "  <thead>\n",
       "    <tr style=\"text-align: right;\">\n",
       "      <th></th>\n",
       "      <th>price</th>\n",
       "      <th>surface</th>\n",
       "      <th>prix au m2</th>\n",
       "    </tr>\n",
       "    <tr>\n",
       "      <th>pieces</th>\n",
       "      <th></th>\n",
       "      <th></th>\n",
       "      <th></th>\n",
       "    </tr>\n",
       "  </thead>\n",
       "  <tbody>\n",
       "    <tr>\n",
       "      <th>1</th>\n",
       "      <td>143847.053</td>\n",
       "      <td>23.474</td>\n",
       "      <td>6262.842</td>\n",
       "    </tr>\n",
       "    <tr>\n",
       "      <th>2</th>\n",
       "      <td>211575.805</td>\n",
       "      <td>45.585</td>\n",
       "      <td>4822.264</td>\n",
       "    </tr>\n",
       "    <tr>\n",
       "      <th>3</th>\n",
       "      <td>297132.321</td>\n",
       "      <td>65.179</td>\n",
       "      <td>4550.242</td>\n",
       "    </tr>\n",
       "    <tr>\n",
       "      <th>4</th>\n",
       "      <td>424374.343</td>\n",
       "      <td>90.567</td>\n",
       "      <td>4683.882</td>\n",
       "    </tr>\n",
       "    <tr>\n",
       "      <th>5</th>\n",
       "      <td>538401.750</td>\n",
       "      <td>117.083</td>\n",
       "      <td>4568.981</td>\n",
       "    </tr>\n",
       "  </tbody>\n",
       "</table>\n",
       "</div>"
      ],
      "text/plain": [
       "            price  surface  prix au m2\n",
       "pieces                                \n",
       "1      143847.053   23.474    6262.842\n",
       "2      211575.805   45.585    4822.264\n",
       "3      297132.321   65.179    4550.242\n",
       "4      424374.343   90.567    4683.882\n",
       "5      538401.750  117.083    4568.981"
      ]
     },
     "execution_count": 56,
     "metadata": {},
     "output_type": "execute_result"
    }
   ],
   "source": [
    "df_price_surface = df[df['code postal'] == 'Rennes (35000)'].groupby(\"pieces\").mean()\n",
    "df_price_surface.head()"
   ]
  },
  {
   "cell_type": "code",
   "execution_count": 63,
   "metadata": {},
   "outputs": [
    {
     "data": {
      "application/vnd.plotly.v1+json": {
       "config": {
        "plotlyServerURL": "https://plot.ly"
       },
       "data": [
        {
         "alignmentgroup": "True",
         "hovertemplate": "pieces=%{x}<br>prix au m2=%{y}<extra></extra>",
         "legendgroup": "",
         "marker": {
          "color": "#636efa",
          "pattern": {
           "shape": ""
          }
         },
         "name": "",
         "offsetgroup": "",
         "orientation": "v",
         "showlegend": false,
         "textposition": "auto",
         "type": "bar",
         "x": [
          1,
          2,
          3,
          4,
          5,
          6,
          7,
          8,
          9,
          10,
          11,
          12,
          13
         ],
         "xaxis": "x",
         "y": [
          6262.841896515148,
          4822.264437196431,
          4550.241740692351,
          4683.881674470658,
          4568.98088263042,
          4713.020038292061,
          4341.973321775145,
          4711.917115694289,
          2397.0068948534845,
          3196.6894160646716,
          6966.666666666667,
          2590,
          4192
         ],
         "yaxis": "y"
        }
       ],
       "layout": {
        "autosize": true,
        "barmode": "relative",
        "legend": {
         "tracegroupgap": 0
        },
        "margin": {
         "t": 60
        },
        "template": {
         "data": {
          "bar": [
           {
            "error_x": {
             "color": "#2a3f5f"
            },
            "error_y": {
             "color": "#2a3f5f"
            },
            "marker": {
             "line": {
              "color": "#E5ECF6",
              "width": 0.5
             },
             "pattern": {
              "fillmode": "overlay",
              "size": 10,
              "solidity": 0.2
             }
            },
            "type": "bar"
           }
          ],
          "barpolar": [
           {
            "marker": {
             "line": {
              "color": "#E5ECF6",
              "width": 0.5
             },
             "pattern": {
              "fillmode": "overlay",
              "size": 10,
              "solidity": 0.2
             }
            },
            "type": "barpolar"
           }
          ],
          "carpet": [
           {
            "aaxis": {
             "endlinecolor": "#2a3f5f",
             "gridcolor": "white",
             "linecolor": "white",
             "minorgridcolor": "white",
             "startlinecolor": "#2a3f5f"
            },
            "baxis": {
             "endlinecolor": "#2a3f5f",
             "gridcolor": "white",
             "linecolor": "white",
             "minorgridcolor": "white",
             "startlinecolor": "#2a3f5f"
            },
            "type": "carpet"
           }
          ],
          "choropleth": [
           {
            "colorbar": {
             "outlinewidth": 0,
             "ticks": ""
            },
            "type": "choropleth"
           }
          ],
          "contour": [
           {
            "colorbar": {
             "outlinewidth": 0,
             "ticks": ""
            },
            "colorscale": [
             [
              0,
              "#0d0887"
             ],
             [
              0.1111111111111111,
              "#46039f"
             ],
             [
              0.2222222222222222,
              "#7201a8"
             ],
             [
              0.3333333333333333,
              "#9c179e"
             ],
             [
              0.4444444444444444,
              "#bd3786"
             ],
             [
              0.5555555555555556,
              "#d8576b"
             ],
             [
              0.6666666666666666,
              "#ed7953"
             ],
             [
              0.7777777777777778,
              "#fb9f3a"
             ],
             [
              0.8888888888888888,
              "#fdca26"
             ],
             [
              1,
              "#f0f921"
             ]
            ],
            "type": "contour"
           }
          ],
          "contourcarpet": [
           {
            "colorbar": {
             "outlinewidth": 0,
             "ticks": ""
            },
            "type": "contourcarpet"
           }
          ],
          "heatmap": [
           {
            "colorbar": {
             "outlinewidth": 0,
             "ticks": ""
            },
            "colorscale": [
             [
              0,
              "#0d0887"
             ],
             [
              0.1111111111111111,
              "#46039f"
             ],
             [
              0.2222222222222222,
              "#7201a8"
             ],
             [
              0.3333333333333333,
              "#9c179e"
             ],
             [
              0.4444444444444444,
              "#bd3786"
             ],
             [
              0.5555555555555556,
              "#d8576b"
             ],
             [
              0.6666666666666666,
              "#ed7953"
             ],
             [
              0.7777777777777778,
              "#fb9f3a"
             ],
             [
              0.8888888888888888,
              "#fdca26"
             ],
             [
              1,
              "#f0f921"
             ]
            ],
            "type": "heatmap"
           }
          ],
          "heatmapgl": [
           {
            "colorbar": {
             "outlinewidth": 0,
             "ticks": ""
            },
            "colorscale": [
             [
              0,
              "#0d0887"
             ],
             [
              0.1111111111111111,
              "#46039f"
             ],
             [
              0.2222222222222222,
              "#7201a8"
             ],
             [
              0.3333333333333333,
              "#9c179e"
             ],
             [
              0.4444444444444444,
              "#bd3786"
             ],
             [
              0.5555555555555556,
              "#d8576b"
             ],
             [
              0.6666666666666666,
              "#ed7953"
             ],
             [
              0.7777777777777778,
              "#fb9f3a"
             ],
             [
              0.8888888888888888,
              "#fdca26"
             ],
             [
              1,
              "#f0f921"
             ]
            ],
            "type": "heatmapgl"
           }
          ],
          "histogram": [
           {
            "marker": {
             "pattern": {
              "fillmode": "overlay",
              "size": 10,
              "solidity": 0.2
             }
            },
            "type": "histogram"
           }
          ],
          "histogram2d": [
           {
            "colorbar": {
             "outlinewidth": 0,
             "ticks": ""
            },
            "colorscale": [
             [
              0,
              "#0d0887"
             ],
             [
              0.1111111111111111,
              "#46039f"
             ],
             [
              0.2222222222222222,
              "#7201a8"
             ],
             [
              0.3333333333333333,
              "#9c179e"
             ],
             [
              0.4444444444444444,
              "#bd3786"
             ],
             [
              0.5555555555555556,
              "#d8576b"
             ],
             [
              0.6666666666666666,
              "#ed7953"
             ],
             [
              0.7777777777777778,
              "#fb9f3a"
             ],
             [
              0.8888888888888888,
              "#fdca26"
             ],
             [
              1,
              "#f0f921"
             ]
            ],
            "type": "histogram2d"
           }
          ],
          "histogram2dcontour": [
           {
            "colorbar": {
             "outlinewidth": 0,
             "ticks": ""
            },
            "colorscale": [
             [
              0,
              "#0d0887"
             ],
             [
              0.1111111111111111,
              "#46039f"
             ],
             [
              0.2222222222222222,
              "#7201a8"
             ],
             [
              0.3333333333333333,
              "#9c179e"
             ],
             [
              0.4444444444444444,
              "#bd3786"
             ],
             [
              0.5555555555555556,
              "#d8576b"
             ],
             [
              0.6666666666666666,
              "#ed7953"
             ],
             [
              0.7777777777777778,
              "#fb9f3a"
             ],
             [
              0.8888888888888888,
              "#fdca26"
             ],
             [
              1,
              "#f0f921"
             ]
            ],
            "type": "histogram2dcontour"
           }
          ],
          "mesh3d": [
           {
            "colorbar": {
             "outlinewidth": 0,
             "ticks": ""
            },
            "type": "mesh3d"
           }
          ],
          "parcoords": [
           {
            "line": {
             "colorbar": {
              "outlinewidth": 0,
              "ticks": ""
             }
            },
            "type": "parcoords"
           }
          ],
          "pie": [
           {
            "automargin": true,
            "type": "pie"
           }
          ],
          "scatter": [
           {
            "marker": {
             "colorbar": {
              "outlinewidth": 0,
              "ticks": ""
             }
            },
            "type": "scatter"
           }
          ],
          "scatter3d": [
           {
            "line": {
             "colorbar": {
              "outlinewidth": 0,
              "ticks": ""
             }
            },
            "marker": {
             "colorbar": {
              "outlinewidth": 0,
              "ticks": ""
             }
            },
            "type": "scatter3d"
           }
          ],
          "scattercarpet": [
           {
            "marker": {
             "colorbar": {
              "outlinewidth": 0,
              "ticks": ""
             }
            },
            "type": "scattercarpet"
           }
          ],
          "scattergeo": [
           {
            "marker": {
             "colorbar": {
              "outlinewidth": 0,
              "ticks": ""
             }
            },
            "type": "scattergeo"
           }
          ],
          "scattergl": [
           {
            "marker": {
             "colorbar": {
              "outlinewidth": 0,
              "ticks": ""
             }
            },
            "type": "scattergl"
           }
          ],
          "scattermapbox": [
           {
            "marker": {
             "colorbar": {
              "outlinewidth": 0,
              "ticks": ""
             }
            },
            "type": "scattermapbox"
           }
          ],
          "scatterpolar": [
           {
            "marker": {
             "colorbar": {
              "outlinewidth": 0,
              "ticks": ""
             }
            },
            "type": "scatterpolar"
           }
          ],
          "scatterpolargl": [
           {
            "marker": {
             "colorbar": {
              "outlinewidth": 0,
              "ticks": ""
             }
            },
            "type": "scatterpolargl"
           }
          ],
          "scatterternary": [
           {
            "marker": {
             "colorbar": {
              "outlinewidth": 0,
              "ticks": ""
             }
            },
            "type": "scatterternary"
           }
          ],
          "surface": [
           {
            "colorbar": {
             "outlinewidth": 0,
             "ticks": ""
            },
            "colorscale": [
             [
              0,
              "#0d0887"
             ],
             [
              0.1111111111111111,
              "#46039f"
             ],
             [
              0.2222222222222222,
              "#7201a8"
             ],
             [
              0.3333333333333333,
              "#9c179e"
             ],
             [
              0.4444444444444444,
              "#bd3786"
             ],
             [
              0.5555555555555556,
              "#d8576b"
             ],
             [
              0.6666666666666666,
              "#ed7953"
             ],
             [
              0.7777777777777778,
              "#fb9f3a"
             ],
             [
              0.8888888888888888,
              "#fdca26"
             ],
             [
              1,
              "#f0f921"
             ]
            ],
            "type": "surface"
           }
          ],
          "table": [
           {
            "cells": {
             "fill": {
              "color": "#EBF0F8"
             },
             "line": {
              "color": "white"
             }
            },
            "header": {
             "fill": {
              "color": "#C8D4E3"
             },
             "line": {
              "color": "white"
             }
            },
            "type": "table"
           }
          ]
         },
         "layout": {
          "annotationdefaults": {
           "arrowcolor": "#2a3f5f",
           "arrowhead": 0,
           "arrowwidth": 1
          },
          "autotypenumbers": "strict",
          "coloraxis": {
           "colorbar": {
            "outlinewidth": 0,
            "ticks": ""
           }
          },
          "colorscale": {
           "diverging": [
            [
             0,
             "#8e0152"
            ],
            [
             0.1,
             "#c51b7d"
            ],
            [
             0.2,
             "#de77ae"
            ],
            [
             0.3,
             "#f1b6da"
            ],
            [
             0.4,
             "#fde0ef"
            ],
            [
             0.5,
             "#f7f7f7"
            ],
            [
             0.6,
             "#e6f5d0"
            ],
            [
             0.7,
             "#b8e186"
            ],
            [
             0.8,
             "#7fbc41"
            ],
            [
             0.9,
             "#4d9221"
            ],
            [
             1,
             "#276419"
            ]
           ],
           "sequential": [
            [
             0,
             "#0d0887"
            ],
            [
             0.1111111111111111,
             "#46039f"
            ],
            [
             0.2222222222222222,
             "#7201a8"
            ],
            [
             0.3333333333333333,
             "#9c179e"
            ],
            [
             0.4444444444444444,
             "#bd3786"
            ],
            [
             0.5555555555555556,
             "#d8576b"
            ],
            [
             0.6666666666666666,
             "#ed7953"
            ],
            [
             0.7777777777777778,
             "#fb9f3a"
            ],
            [
             0.8888888888888888,
             "#fdca26"
            ],
            [
             1,
             "#f0f921"
            ]
           ],
           "sequentialminus": [
            [
             0,
             "#0d0887"
            ],
            [
             0.1111111111111111,
             "#46039f"
            ],
            [
             0.2222222222222222,
             "#7201a8"
            ],
            [
             0.3333333333333333,
             "#9c179e"
            ],
            [
             0.4444444444444444,
             "#bd3786"
            ],
            [
             0.5555555555555556,
             "#d8576b"
            ],
            [
             0.6666666666666666,
             "#ed7953"
            ],
            [
             0.7777777777777778,
             "#fb9f3a"
            ],
            [
             0.8888888888888888,
             "#fdca26"
            ],
            [
             1,
             "#f0f921"
            ]
           ]
          },
          "colorway": [
           "#636efa",
           "#EF553B",
           "#00cc96",
           "#ab63fa",
           "#FFA15A",
           "#19d3f3",
           "#FF6692",
           "#B6E880",
           "#FF97FF",
           "#FECB52"
          ],
          "font": {
           "color": "#2a3f5f"
          },
          "geo": {
           "bgcolor": "white",
           "lakecolor": "white",
           "landcolor": "#E5ECF6",
           "showlakes": true,
           "showland": true,
           "subunitcolor": "white"
          },
          "hoverlabel": {
           "align": "left"
          },
          "hovermode": "closest",
          "mapbox": {
           "style": "light"
          },
          "paper_bgcolor": "white",
          "plot_bgcolor": "#E5ECF6",
          "polar": {
           "angularaxis": {
            "gridcolor": "white",
            "linecolor": "white",
            "ticks": ""
           },
           "bgcolor": "#E5ECF6",
           "radialaxis": {
            "gridcolor": "white",
            "linecolor": "white",
            "ticks": ""
           }
          },
          "scene": {
           "xaxis": {
            "backgroundcolor": "#E5ECF6",
            "gridcolor": "white",
            "gridwidth": 2,
            "linecolor": "white",
            "showbackground": true,
            "ticks": "",
            "zerolinecolor": "white"
           },
           "yaxis": {
            "backgroundcolor": "#E5ECF6",
            "gridcolor": "white",
            "gridwidth": 2,
            "linecolor": "white",
            "showbackground": true,
            "ticks": "",
            "zerolinecolor": "white"
           },
           "zaxis": {
            "backgroundcolor": "#E5ECF6",
            "gridcolor": "white",
            "gridwidth": 2,
            "linecolor": "white",
            "showbackground": true,
            "ticks": "",
            "zerolinecolor": "white"
           }
          },
          "shapedefaults": {
           "line": {
            "color": "#2a3f5f"
           }
          },
          "ternary": {
           "aaxis": {
            "gridcolor": "white",
            "linecolor": "white",
            "ticks": ""
           },
           "baxis": {
            "gridcolor": "white",
            "linecolor": "white",
            "ticks": ""
           },
           "bgcolor": "#E5ECF6",
           "caxis": {
            "gridcolor": "white",
            "linecolor": "white",
            "ticks": ""
           }
          },
          "title": {
           "x": 0.05
          },
          "xaxis": {
           "automargin": true,
           "gridcolor": "white",
           "linecolor": "white",
           "ticks": "",
           "title": {
            "standoff": 15
           },
           "zerolinecolor": "white",
           "zerolinewidth": 2
          },
          "yaxis": {
           "automargin": true,
           "gridcolor": "white",
           "linecolor": "white",
           "ticks": "",
           "title": {
            "standoff": 15
           },
           "zerolinecolor": "white",
           "zerolinewidth": 2
          }
         }
        },
        "xaxis": {
         "anchor": "y",
         "autorange": true,
         "domain": [
          0,
          1
         ],
         "range": [
          0.5,
          13.5
         ],
         "title": {
          "text": "pieces"
         },
         "type": "linear"
        },
        "yaxis": {
         "anchor": "x",
         "autorange": true,
         "domain": [
          0,
          1
         ],
         "range": [
          0,
          7333.333333333334
         ],
         "title": {
          "text": "prix au m2"
         },
         "type": "linear"
        }
       }
      },
      "image/png": "[encoded data removed]",
      "text/html": [
       "<div>                            <div id=\"40f2dfaa-d6f2-4d86-886e-c21a2e888142\" class=\"plotly-graph-div\" style=\"height:525px; width:100%;\"></div>            <script type=\"text/javascript\">                require([\"plotly\"], function(Plotly) {                    window.PLOTLYENV=window.PLOTLYENV || {};                                    if (document.getElementById(\"40f2dfaa-d6f2-4d86-886e-c21a2e888142\")) {                    Plotly.newPlot(                        \"40f2dfaa-d6f2-4d86-886e-c21a2e888142\",                        [{\"alignmentgroup\":\"True\",\"hovertemplate\":\"pieces=%{x}<br>prix au m2=%{y}<extra></extra>\",\"legendgroup\":\"\",\"marker\":{\"color\":\"#636efa\",\"pattern\":{\"shape\":\"\"}},\"name\":\"\",\"offsetgroup\":\"\",\"orientation\":\"v\",\"showlegend\":false,\"textposition\":\"auto\",\"x\":[1,2,3,4,5,6,7,8,9,10,11,12,13],\"xaxis\":\"x\",\"y\":[6262.841896515148,4822.264437196431,4550.241740692351,4683.881674470658,4568.98088263042,4713.020038292061,4341.973321775145,4711.917115694289,2397.0068948534845,3196.6894160646716,6966.666666666667,2590.0,4192.0],\"yaxis\":\"y\",\"type\":\"bar\"}],                        {\"template\":{\"data\":{\"bar\":[{\"error_x\":{\"color\":\"#2a3f5f\"},\"error_y\":{\"color\":\"#2a3f5f\"},\"marker\":{\"line\":{\"color\":\"#E5ECF6\",\"width\":0.5},\"pattern\":{\"fillmode\":\"overlay\",\"size\":10,\"solidity\":0.2}},\"type\":\"bar\"}],\"barpolar\":[{\"marker\":{\"line\":{\"color\":\"#E5ECF6\",\"width\":0.5},\"pattern\":{\"fillmode\":\"overlay\",\"size\":10,\"solidity\":0.2}},\"type\":\"barpolar\"}],\"carpet\":[{\"aaxis\":{\"endlinecolor\":\"#2a3f5f\",\"gridcolor\":\"white\",\"linecolor\":\"white\",\"minorgridcolor\":\"white\",\"startlinecolor\":\"#2a3f5f\"},\"baxis\":{\"endlinecolor\":\"#2a3f5f\",\"gridcolor\":\"white\",\"linecolor\":\"white\",\"minorgridcolor\":\"white\",\"startlinecolor\":\"#2a3f5f\"},\"type\":\"carpet\"}],\"choropleth\":[{\"colorbar\":{\"outlinewidth\":0,\"ticks\":\"\"},\"type\":\"choropleth\"}],\"contour\":[{\"colorbar\":{\"outlinewidth\":0,\"ticks\":\"\"},\"colorscale\":[[0.0,\"#0d0887\"],[0.1111111111111111,\"#46039f\"],[0.2222222222222222,\"#7201a8\"],[0.3333333333333333,\"#9c179e\"],[0.4444444444444444,\"#bd3786\"],[0.5555555555555556,\"#d8576b\"],[0.6666666666666666,\"#ed7953\"],[0.7777777777777778,\"#fb9f3a\"],[0.8888888888888888,\"#fdca26\"],[1.0,\"#f0f921\"]],\"type\":\"contour\"}],\"contourcarpet\":[{\"colorbar\":{\"outlinewidth\":0,\"ticks\":\"\"},\"type\":\"contourcarpet\"}],\"heatmap\":[{\"colorbar\":{\"outlinewidth\":0,\"ticks\":\"\"},\"colorscale\":[[0.0,\"#0d0887\"],[0.1111111111111111,\"#46039f\"],[0.2222222222222222,\"#7201a8\"],[0.3333333333333333,\"#9c179e\"],[0.4444444444444444,\"#bd3786\"],[0.5555555555555556,\"#d8576b\"],[0.6666666666666666,\"#ed7953\"],[0.7777777777777778,\"#fb9f3a\"],[0.8888888888888888,\"#fdca26\"],[1.0,\"#f0f921\"]],\"type\":\"heatmap\"}],\"heatmapgl\":[{\"colorbar\":{\"outlinewidth\":0,\"ticks\":\"\"},\"colorscale\":[[0.0,\"#0d0887\"],[0.1111111111111111,\"#46039f\"],[0.2222222222222222,\"#7201a8\"],[0.3333333333333333,\"#9c179e\"],[0.4444444444444444,\"#bd3786\"],[0.5555555555555556,\"#d8576b\"],[0.6666666666666666,\"#ed7953\"],[0.7777777777777778,\"#fb9f3a\"],[0.8888888888888888,\"#fdca26\"],[1.0,\"#f0f921\"]],\"type\":\"heatmapgl\"}],\"histogram\":[{\"marker\":{\"pattern\":{\"fillmode\":\"overlay\",\"size\":10,\"solidity\":0.2}},\"type\":\"histogram\"}],\"histogram2d\":[{\"colorbar\":{\"outlinewidth\":0,\"ticks\":\"\"},\"colorscale\":[[0.0,\"#0d0887\"],[0.1111111111111111,\"#46039f\"],[0.2222222222222222,\"#7201a8\"],[0.3333333333333333,\"#9c179e\"],[0.4444444444444444,\"#bd3786\"],[0.5555555555555556,\"#d8576b\"],[0.6666666666666666,\"#ed7953\"],[0.7777777777777778,\"#fb9f3a\"],[0.8888888888888888,\"#fdca26\"],[1.0,\"#f0f921\"]],\"type\":\"histogram2d\"}],\"histogram2dcontour\":[{\"colorbar\":{\"outlinewidth\":0,\"ticks\":\"\"},\"colorscale\":[[0.0,\"#0d0887\"],[0.1111111111111111,\"#46039f\"],[0.2222222222222222,\"#7201a8\"],[0.3333333333333333,\"#9c179e\"],[0.4444444444444444,\"#bd3786\"],[0.5555555555555556,\"#d8576b\"],[0.6666666666666666,\"#ed7953\"],[0.7777777777777778,\"#fb9f3a\"],[0.8888888888888888,\"#fdca26\"],[1.0,\"#f0f921\"]],\"type\":\"histogram2dcontour\"}],\"mesh3d\":[{\"colorbar\":{\"outlinewidth\":0,\"ticks\":\"\"},\"type\":\"mesh3d\"}],\"parcoords\":[{\"line\":{\"colorbar\":{\"outlinewidth\":0,\"ticks\":\"\"}},\"type\":\"parcoords\"}],\"pie\":[{\"automargin\":true,\"type\":\"pie\"}],\"scatter\":[{\"marker\":{\"colorbar\":{\"outlinewidth\":0,\"ticks\":\"\"}},\"type\":\"scatter\"}],\"scatter3d\":[{\"line\":{\"colorbar\":{\"outlinewidth\":0,\"ticks\":\"\"}},\"marker\":{\"colorbar\":{\"outlinewidth\":0,\"ticks\":\"\"}},\"type\":\"scatter3d\"}],\"scattercarpet\":[{\"marker\":{\"colorbar\":{\"outlinewidth\":0,\"ticks\":\"\"}},\"type\":\"scattercarpet\"}],\"scattergeo\":[{\"marker\":{\"colorbar\":{\"outlinewidth\":0,\"ticks\":\"\"}},\"type\":\"scattergeo\"}],\"scattergl\":[{\"marker\":{\"colorbar\":{\"outlinewidth\":0,\"ticks\":\"\"}},\"type\":\"scattergl\"}],\"scattermapbox\":[{\"marker\":{\"colorbar\":{\"outlinewidth\":0,\"ticks\":\"\"}},\"type\":\"scattermapbox\"}],\"scatterpolar\":[{\"marker\":{\"colorbar\":{\"outlinewidth\":0,\"ticks\":\"\"}},\"type\":\"scatterpolar\"}],\"scatterpolargl\":[{\"marker\":{\"colorbar\":{\"outlinewidth\":0,\"ticks\":\"\"}},\"type\":\"scatterpolargl\"}],\"scatterternary\":[{\"marker\":{\"colorbar\":{\"outlinewidth\":0,\"ticks\":\"\"}},\"type\":\"scatterternary\"}],\"surface\":[{\"colorbar\":{\"outlinewidth\":0,\"ticks\":\"\"},\"colorscale\":[[0.0,\"#0d0887\"],[0.1111111111111111,\"#46039f\"],[0.2222222222222222,\"#7201a8\"],[0.3333333333333333,\"#9c179e\"],[0.4444444444444444,\"#bd3786\"],[0.5555555555555556,\"#d8576b\"],[0.6666666666666666,\"#ed7953\"],[0.7777777777777778,\"#fb9f3a\"],[0.8888888888888888,\"#fdca26\"],[1.0,\"#f0f921\"]],\"type\":\"surface\"}],\"table\":[{\"cells\":{\"fill\":{\"color\":\"#EBF0F8\"},\"line\":{\"color\":\"white\"}},\"header\":{\"fill\":{\"color\":\"#C8D4E3\"},\"line\":{\"color\":\"white\"}},\"type\":\"table\"}]},\"layout\":{\"annotationdefaults\":{\"arrowcolor\":\"#2a3f5f\",\"arrowhead\":0,\"arrowwidth\":1},\"autotypenumbers\":\"strict\",\"coloraxis\":{\"colorbar\":{\"outlinewidth\":0,\"ticks\":\"\"}},\"colorscale\":{\"diverging\":[[0,\"#8e0152\"],[0.1,\"#c51b7d\"],[0.2,\"#de77ae\"],[0.3,\"#f1b6da\"],[0.4,\"#fde0ef\"],[0.5,\"#f7f7f7\"],[0.6,\"#e6f5d0\"],[0.7,\"#b8e186\"],[0.8,\"#7fbc41\"],[0.9,\"#4d9221\"],[1,\"#276419\"]],\"sequential\":[[0.0,\"#0d0887\"],[0.1111111111111111,\"#46039f\"],[0.2222222222222222,\"#7201a8\"],[0.3333333333333333,\"#9c179e\"],[0.4444444444444444,\"#bd3786\"],[0.5555555555555556,\"#d8576b\"],[0.6666666666666666,\"#ed7953\"],[0.7777777777777778,\"#fb9f3a\"],[0.8888888888888888,\"#fdca26\"],[1.0,\"#f0f921\"]],\"sequentialminus\":[[0.0,\"#0d0887\"],[0.1111111111111111,\"#46039f\"],[0.2222222222222222,\"#7201a8\"],[0.3333333333333333,\"#9c179e\"],[0.4444444444444444,\"#bd3786\"],[0.5555555555555556,\"#d8576b\"],[0.6666666666666666,\"#ed7953\"],[0.7777777777777778,\"#fb9f3a\"],[0.8888888888888888,\"#fdca26\"],[1.0,\"#f0f921\"]]},\"colorway\":[\"#636efa\",\"#EF553B\",\"#00cc96\",\"#ab63fa\",\"#FFA15A\",\"#19d3f3\",\"#FF6692\",\"#B6E880\",\"#FF97FF\",\"#FECB52\"],\"font\":{\"color\":\"#2a3f5f\"},\"geo\":{\"bgcolor\":\"white\",\"lakecolor\":\"white\",\"landcolor\":\"#E5ECF6\",\"showlakes\":true,\"showland\":true,\"subunitcolor\":\"white\"},\"hoverlabel\":{\"align\":\"left\"},\"hovermode\":\"closest\",\"mapbox\":{\"style\":\"light\"},\"paper_bgcolor\":\"white\",\"plot_bgcolor\":\"#E5ECF6\",\"polar\":{\"angularaxis\":{\"gridcolor\":\"white\",\"linecolor\":\"white\",\"ticks\":\"\"},\"bgcolor\":\"#E5ECF6\",\"radialaxis\":{\"gridcolor\":\"white\",\"linecolor\":\"white\",\"ticks\":\"\"}},\"scene\":{\"xaxis\":{\"backgroundcolor\":\"#E5ECF6\",\"gridcolor\":\"white\",\"gridwidth\":2,\"linecolor\":\"white\",\"showbackground\":true,\"ticks\":\"\",\"zerolinecolor\":\"white\"},\"yaxis\":{\"backgroundcolor\":\"#E5ECF6\",\"gridcolor\":\"white\",\"gridwidth\":2,\"linecolor\":\"white\",\"showbackground\":true,\"ticks\":\"\",\"zerolinecolor\":\"white\"},\"zaxis\":{\"backgroundcolor\":\"#E5ECF6\",\"gridcolor\":\"white\",\"gridwidth\":2,\"linecolor\":\"white\",\"showbackground\":true,\"ticks\":\"\",\"zerolinecolor\":\"white\"}},\"shapedefaults\":{\"line\":{\"color\":\"#2a3f5f\"}},\"ternary\":{\"aaxis\":{\"gridcolor\":\"white\",\"linecolor\":\"white\",\"ticks\":\"\"},\"baxis\":{\"gridcolor\":\"white\",\"linecolor\":\"white\",\"ticks\":\"\"},\"bgcolor\":\"#E5ECF6\",\"caxis\":{\"gridcolor\":\"white\",\"linecolor\":\"white\",\"ticks\":\"\"}},\"title\":{\"x\":0.05},\"xaxis\":{\"automargin\":true,\"gridcolor\":\"white\",\"linecolor\":\"white\",\"ticks\":\"\",\"title\":{\"standoff\":15},\"zerolinecolor\":\"white\",\"zerolinewidth\":2},\"yaxis\":{\"automargin\":true,\"gridcolor\":\"white\",\"linecolor\":\"white\",\"ticks\":\"\",\"title\":{\"standoff\":15},\"zerolinecolor\":\"white\",\"zerolinewidth\":2}}},\"xaxis\":{\"anchor\":\"y\",\"domain\":[0.0,1.0],\"title\":{\"text\":\"pieces\"}},\"yaxis\":{\"anchor\":\"x\",\"domain\":[0.0,1.0],\"title\":{\"text\":\"prix au m2\"}},\"legend\":{\"tracegroupgap\":0},\"margin\":{\"t\":60},\"barmode\":\"relative\"},                        {\"responsive\": true}                    ).then(function(){\n",
       "                            \n",
       "var gd = document.getElementById('40f2dfaa-d6f2-4d86-886e-c21a2e888142');\n",
       "var x = new MutationObserver(function (mutations, observer) {{\n",
       "        var display = window.getComputedStyle(gd).display;\n",
       "        if (!display || display === 'none') {{\n",
       "            console.log([gd, 'removed!']);\n",
       "            Plotly.purge(gd);\n",
       "            observer.disconnect();\n",
       "        }}\n",
       "}});\n",
       "\n",
       "// Listen for the removal of the full notebook cells\n",
       "var notebookContainer = gd.closest('#notebook-container');\n",
       "if (notebookContainer) {{\n",
       "    x.observe(notebookContainer, {childList: true});\n",
       "}}\n",
       "\n",
       "// Listen for the clearing of the current output cell\n",
       "var outputEl = gd.closest('.output');\n",
       "if (outputEl) {{\n",
       "    x.observe(outputEl, {childList: true});\n",
       "}}\n",
       "\n",
       "                        })                };                });            </script>        </div>"
      ]
     },
     "metadata": {},
     "output_type": "display_data"
    }
   ],
   "source": [
    "fig = px.bar(df_price_surface, x=df_price_surface.index, y=\"prix au m2\")\n",
    "fig.show()"
   ]
  },
  {
   "cell_type": "code",
   "execution_count": 36,
   "metadata": {},
   "outputs": [
    {
     "data": {
      "text/html": [
       "<div>\n",
       "<style scoped>\n",
       "    .dataframe tbody tr th:only-of-type {\n",
       "        vertical-align: middle;\n",
       "    }\n",
       "\n",
       "    .dataframe tbody tr th {\n",
       "        vertical-align: top;\n",
       "    }\n",
       "\n",
       "    .dataframe thead th {\n",
       "        text-align: right;\n",
       "    }\n",
       "</style>\n",
       "<table border=\"1\" class=\"dataframe\">\n",
       "  <thead>\n",
       "    <tr style=\"text-align: right;\">\n",
       "      <th></th>\n",
       "      <th>price</th>\n",
       "      <th>surface</th>\n",
       "      <th>pieces</th>\n",
       "      <th>prix au m2</th>\n",
       "    </tr>\n",
       "    <tr>\n",
       "      <th>code postal</th>\n",
       "      <th></th>\n",
       "      <th></th>\n",
       "      <th></th>\n",
       "      <th></th>\n",
       "    </tr>\n",
       "  </thead>\n",
       "  <tbody>\n",
       "    <tr>\n",
       "      <th>Rennes (35000)</th>\n",
       "      <td>412207.782</td>\n",
       "      <td>91.519</td>\n",
       "      <td>3.821</td>\n",
       "      <td>4722.373</td>\n",
       "    </tr>\n",
       "    <tr>\n",
       "      <th>Rennes (35200)</th>\n",
       "      <td>320715.391</td>\n",
       "      <td>85.652</td>\n",
       "      <td>3.870</td>\n",
       "      <td>3631.034</td>\n",
       "    </tr>\n",
       "    <tr>\n",
       "      <th>Rennes (35700)</th>\n",
       "      <td>333686.696</td>\n",
       "      <td>76.826</td>\n",
       "      <td>3.522</td>\n",
       "      <td>4423.801</td>\n",
       "    </tr>\n",
       "  </tbody>\n",
       "</table>\n",
       "</div>"
      ],
      "text/plain": [
       "                    price  surface  pieces  prix au m2\n",
       "code postal                                           \n",
       "Rennes (35000) 412207.782   91.519   3.821    4722.373\n",
       "Rennes (35200) 320715.391   85.652   3.870    3631.034\n",
       "Rennes (35700) 333686.696   76.826   3.522    4423.801"
      ]
     },
     "execution_count": 36,
     "metadata": {},
     "output_type": "execute_result"
    }
   ],
   "source": [
    "df.groupby(\"code postal\").mean()"
   ]
  },
  {
   "cell_type": "code",
   "execution_count": 37,
   "metadata": {},
   "outputs": [
    {
     "name": "stderr",
     "output_type": "stream",
     "text": [
      "/Users/adrien/opt/anaconda3/lib/python3.8/site-packages/seaborn/_decorators.py:36: FutureWarning: Pass the following variable as a keyword arg: x. From version 0.12, the only valid positional argument will be `data`, and passing other arguments without an explicit keyword will result in an error or misinterpretation.\n",
      "  warnings.warn(\n"
     ]
    },
    {
     "data": {
      "text/plain": [
       "<AxesSubplot:xlabel='prix au m2'>"
      ]
     },
     "execution_count": 37,
     "metadata": {},
     "output_type": "execute_result"
    },
    {
     "data": {
      "image/png": "[encoded data removed]",
      "text/plain": [
       "<Figure size 432x288 with 1 Axes>"
      ]
     },
     "metadata": {
      "needs_background": "light"
     },
     "output_type": "display_data"
    }
   ],
   "source": [
    "sns.boxplot(df[\"prix au m2\"])"
   ]
  },
  {
   "cell_type": "code",
   "execution_count": 39,
   "metadata": {},
   "outputs": [
    {
     "data": {
      "text/html": [
       "<div>\n",
       "<style scoped>\n",
       "    .dataframe tbody tr th:only-of-type {\n",
       "        vertical-align: middle;\n",
       "    }\n",
       "\n",
       "    .dataframe tbody tr th {\n",
       "        vertical-align: top;\n",
       "    }\n",
       "\n",
       "    .dataframe thead th {\n",
       "        text-align: right;\n",
       "    }\n",
       "</style>\n",
       "<table border=\"1\" class=\"dataframe\">\n",
       "  <thead>\n",
       "    <tr style=\"text-align: right;\">\n",
       "      <th></th>\n",
       "      <th>price</th>\n",
       "      <th>surface</th>\n",
       "      <th>pieces</th>\n",
       "      <th>types</th>\n",
       "      <th>code postal</th>\n",
       "      <th>prix au m2</th>\n",
       "    </tr>\n",
       "  </thead>\n",
       "  <tbody>\n",
       "    <tr>\n",
       "      <th>21</th>\n",
       "      <td>185000</td>\n",
       "      <td>31</td>\n",
       "      <td>1</td>\n",
       "      <td>Appartement</td>\n",
       "      <td>Rennes (35000)</td>\n",
       "      <td>5967.742</td>\n",
       "    </tr>\n",
       "    <tr>\n",
       "      <th>32</th>\n",
       "      <td>177650</td>\n",
       "      <td>30</td>\n",
       "      <td>1</td>\n",
       "      <td>Appartement</td>\n",
       "      <td>Rennes (35000)</td>\n",
       "      <td>5921.667</td>\n",
       "    </tr>\n",
       "    <tr>\n",
       "      <th>43</th>\n",
       "      <td>182500</td>\n",
       "      <td>27</td>\n",
       "      <td>1</td>\n",
       "      <td>Appartement</td>\n",
       "      <td>Rennes (35000)</td>\n",
       "      <td>6759.259</td>\n",
       "    </tr>\n",
       "    <tr>\n",
       "      <th>53</th>\n",
       "      <td>131000</td>\n",
       "      <td>21</td>\n",
       "      <td>1</td>\n",
       "      <td>Appartement</td>\n",
       "      <td>Rennes (35000)</td>\n",
       "      <td>6238.095</td>\n",
       "    </tr>\n",
       "    <tr>\n",
       "      <th>64</th>\n",
       "      <td>127000</td>\n",
       "      <td>30</td>\n",
       "      <td>1</td>\n",
       "      <td>Appartement</td>\n",
       "      <td>Rennes (35000)</td>\n",
       "      <td>4233.333</td>\n",
       "    </tr>\n",
       "  </tbody>\n",
       "</table>\n",
       "</div>"
      ],
      "text/plain": [
       "     price  surface  pieces        types     code postal  prix au m2\n",
       "21  185000       31       1  Appartement  Rennes (35000)    5967.742\n",
       "32  177650       30       1  Appartement  Rennes (35000)    5921.667\n",
       "43  182500       27       1  Appartement  Rennes (35000)    6759.259\n",
       "53  131000       21       1  Appartement  Rennes (35000)    6238.095\n",
       "64  127000       30       1  Appartement  Rennes (35000)    4233.333"
      ]
     },
     "execution_count": 39,
     "metadata": {},
     "output_type": "execute_result"
    }
   ],
   "source": [
    "filtre = (df[\"code postal\"] == \"Rennes (35000)\") & (df[\"pieces\"] == 1)\n",
    "\n",
    "\n",
    "df_filtre = df[filtre]\n",
    "df_filtre.head()"
   ]
  },
  {
   "cell_type": "code",
   "execution_count": 41,
   "metadata": {},
   "outputs": [
    {
     "name": "stderr",
     "output_type": "stream",
     "text": [
      "/Users/adrien/opt/anaconda3/lib/python3.8/site-packages/seaborn/_decorators.py:36: FutureWarning: Pass the following variable as a keyword arg: x. From version 0.12, the only valid positional argument will be `data`, and passing other arguments without an explicit keyword will result in an error or misinterpretation.\n",
      "  warnings.warn(\n"
     ]
    },
    {
     "data": {
      "text/plain": [
       "<AxesSubplot:xlabel='prix au m2'>"
      ]
     },
     "execution_count": 41,
     "metadata": {},
     "output_type": "execute_result"
    },
    {
     "data": {
      "image/png": "[encoded data removed]",
      "text/plain": [
       "<Figure size 432x288 with 1 Axes>"
      ]
     },
     "metadata": {
      "needs_background": "light"
     },
     "output_type": "display_data"
    }
   ],
   "source": [
    "sns.boxplot(df_filtre[\"prix au m2\"])"
   ]
  },
  {
   "cell_type": "code",
   "execution_count": 43,
   "metadata": {},
   "outputs": [
    {
     "data": {
      "text/html": [
       "<div>\n",
       "<style scoped>\n",
       "    .dataframe tbody tr th:only-of-type {\n",
       "        vertical-align: middle;\n",
       "    }\n",
       "\n",
       "    .dataframe tbody tr th {\n",
       "        vertical-align: top;\n",
       "    }\n",
       "\n",
       "    .dataframe thead th {\n",
       "        text-align: right;\n",
       "    }\n",
       "</style>\n",
       "<table border=\"1\" class=\"dataframe\">\n",
       "  <thead>\n",
       "    <tr style=\"text-align: right;\">\n",
       "      <th></th>\n",
       "      <th>price</th>\n",
       "      <th>surface</th>\n",
       "      <th>pieces</th>\n",
       "      <th>types</th>\n",
       "      <th>code postal</th>\n",
       "      <th>prix au m2</th>\n",
       "    </tr>\n",
       "  </thead>\n",
       "  <tbody>\n",
       "    <tr>\n",
       "      <th>138</th>\n",
       "      <td>59000</td>\n",
       "      <td>9</td>\n",
       "      <td>1</td>\n",
       "      <td>Appartement</td>\n",
       "      <td>Rennes (35000)</td>\n",
       "      <td>6555.556</td>\n",
       "    </tr>\n",
       "    <tr>\n",
       "      <th>139</th>\n",
       "      <td>59000</td>\n",
       "      <td>9</td>\n",
       "      <td>1</td>\n",
       "      <td>Appartement</td>\n",
       "      <td>Rennes (35000)</td>\n",
       "      <td>6555.556</td>\n",
       "    </tr>\n",
       "    <tr>\n",
       "      <th>154</th>\n",
       "      <td>82900</td>\n",
       "      <td>15</td>\n",
       "      <td>1</td>\n",
       "      <td>Appartement</td>\n",
       "      <td>Rennes (35000)</td>\n",
       "      <td>5526.667</td>\n",
       "    </tr>\n",
       "    <tr>\n",
       "      <th>252</th>\n",
       "      <td>103000</td>\n",
       "      <td>19</td>\n",
       "      <td>1</td>\n",
       "      <td>Appartement</td>\n",
       "      <td>Rennes (35000)</td>\n",
       "      <td>5421.053</td>\n",
       "    </tr>\n",
       "    <tr>\n",
       "      <th>171</th>\n",
       "      <td>113184</td>\n",
       "      <td>20</td>\n",
       "      <td>1</td>\n",
       "      <td>Appartement</td>\n",
       "      <td>Rennes (35000)</td>\n",
       "      <td>5659.200</td>\n",
       "    </tr>\n",
       "    <tr>\n",
       "      <th>208</th>\n",
       "      <td>125700</td>\n",
       "      <td>22</td>\n",
       "      <td>1</td>\n",
       "      <td>Appartement</td>\n",
       "      <td>Rennes (35000)</td>\n",
       "      <td>5713.636</td>\n",
       "    </tr>\n",
       "    <tr>\n",
       "      <th>64</th>\n",
       "      <td>127000</td>\n",
       "      <td>30</td>\n",
       "      <td>1</td>\n",
       "      <td>Appartement</td>\n",
       "      <td>Rennes (35000)</td>\n",
       "      <td>4233.333</td>\n",
       "    </tr>\n",
       "    <tr>\n",
       "      <th>169</th>\n",
       "      <td>131000</td>\n",
       "      <td>16</td>\n",
       "      <td>1</td>\n",
       "      <td>Appartement</td>\n",
       "      <td>Rennes (35000)</td>\n",
       "      <td>8187.500</td>\n",
       "    </tr>\n",
       "    <tr>\n",
       "      <th>53</th>\n",
       "      <td>131000</td>\n",
       "      <td>21</td>\n",
       "      <td>1</td>\n",
       "      <td>Appartement</td>\n",
       "      <td>Rennes (35000)</td>\n",
       "      <td>6238.095</td>\n",
       "    </tr>\n",
       "    <tr>\n",
       "      <th>123</th>\n",
       "      <td>131500</td>\n",
       "      <td>33</td>\n",
       "      <td>1</td>\n",
       "      <td>Appartement</td>\n",
       "      <td>Rennes (35000)</td>\n",
       "      <td>3984.848</td>\n",
       "    </tr>\n",
       "    <tr>\n",
       "      <th>255</th>\n",
       "      <td>137000</td>\n",
       "      <td>26</td>\n",
       "      <td>1</td>\n",
       "      <td>Appartement</td>\n",
       "      <td>Rennes (35000)</td>\n",
       "      <td>5269.231</td>\n",
       "    </tr>\n",
       "    <tr>\n",
       "      <th>357</th>\n",
       "      <td>145000</td>\n",
       "      <td>24</td>\n",
       "      <td>1</td>\n",
       "      <td>Appartement</td>\n",
       "      <td>Rennes (35000)</td>\n",
       "      <td>6041.667</td>\n",
       "    </tr>\n",
       "    <tr>\n",
       "      <th>71</th>\n",
       "      <td>149000</td>\n",
       "      <td>34</td>\n",
       "      <td>1</td>\n",
       "      <td>Appartement</td>\n",
       "      <td>Rennes (35000)</td>\n",
       "      <td>4382.353</td>\n",
       "    </tr>\n",
       "    <tr>\n",
       "      <th>194</th>\n",
       "      <td>159000</td>\n",
       "      <td>26</td>\n",
       "      <td>1</td>\n",
       "      <td>Appartement</td>\n",
       "      <td>Rennes (35000)</td>\n",
       "      <td>6115.385</td>\n",
       "    </tr>\n",
       "    <tr>\n",
       "      <th>269</th>\n",
       "      <td>163000</td>\n",
       "      <td>25</td>\n",
       "      <td>1</td>\n",
       "      <td>Appartement</td>\n",
       "      <td>Rennes (35000)</td>\n",
       "      <td>6520.000</td>\n",
       "    </tr>\n",
       "    <tr>\n",
       "      <th>223</th>\n",
       "      <td>169000</td>\n",
       "      <td>21</td>\n",
       "      <td>1</td>\n",
       "      <td>Appartement</td>\n",
       "      <td>Rennes (35000)</td>\n",
       "      <td>8047.619</td>\n",
       "    </tr>\n",
       "    <tr>\n",
       "      <th>268</th>\n",
       "      <td>172000</td>\n",
       "      <td>25</td>\n",
       "      <td>1</td>\n",
       "      <td>Appartement</td>\n",
       "      <td>Rennes (35000)</td>\n",
       "      <td>6880.000</td>\n",
       "    </tr>\n",
       "    <tr>\n",
       "      <th>192</th>\n",
       "      <td>174000</td>\n",
       "      <td>25</td>\n",
       "      <td>1</td>\n",
       "      <td>Appartement</td>\n",
       "      <td>Rennes (35000)</td>\n",
       "      <td>6960.000</td>\n",
       "    </tr>\n",
       "    <tr>\n",
       "      <th>267</th>\n",
       "      <td>174000</td>\n",
       "      <td>24</td>\n",
       "      <td>1</td>\n",
       "      <td>Appartement</td>\n",
       "      <td>Rennes (35000)</td>\n",
       "      <td>7250.000</td>\n",
       "    </tr>\n",
       "    <tr>\n",
       "      <th>32</th>\n",
       "      <td>177650</td>\n",
       "      <td>30</td>\n",
       "      <td>1</td>\n",
       "      <td>Appartement</td>\n",
       "      <td>Rennes (35000)</td>\n",
       "      <td>5921.667</td>\n",
       "    </tr>\n",
       "    <tr>\n",
       "      <th>43</th>\n",
       "      <td>182500</td>\n",
       "      <td>27</td>\n",
       "      <td>1</td>\n",
       "      <td>Appartement</td>\n",
       "      <td>Rennes (35000)</td>\n",
       "      <td>6759.259</td>\n",
       "    </tr>\n",
       "    <tr>\n",
       "      <th>21</th>\n",
       "      <td>185000</td>\n",
       "      <td>31</td>\n",
       "      <td>1</td>\n",
       "      <td>Appartement</td>\n",
       "      <td>Rennes (35000)</td>\n",
       "      <td>5967.742</td>\n",
       "    </tr>\n",
       "    <tr>\n",
       "      <th>80</th>\n",
       "      <td>193544</td>\n",
       "      <td>30</td>\n",
       "      <td>1</td>\n",
       "      <td>Appartement</td>\n",
       "      <td>Rennes (35000)</td>\n",
       "      <td>6451.467</td>\n",
       "    </tr>\n",
       "  </tbody>\n",
       "</table>\n",
       "</div>"
      ],
      "text/plain": [
       "      price  surface  pieces        types     code postal  prix au m2\n",
       "138   59000        9       1  Appartement  Rennes (35000)    6555.556\n",
       "139   59000        9       1  Appartement  Rennes (35000)    6555.556\n",
       "154   82900       15       1  Appartement  Rennes (35000)    5526.667\n",
       "252  103000       19       1  Appartement  Rennes (35000)    5421.053\n",
       "171  113184       20       1  Appartement  Rennes (35000)    5659.200\n",
       "208  125700       22       1  Appartement  Rennes (35000)    5713.636\n",
       "64   127000       30       1  Appartement  Rennes (35000)    4233.333\n",
       "169  131000       16       1  Appartement  Rennes (35000)    8187.500\n",
       "53   131000       21       1  Appartement  Rennes (35000)    6238.095\n",
       "123  131500       33       1  Appartement  Rennes (35000)    3984.848\n",
       "255  137000       26       1  Appartement  Rennes (35000)    5269.231\n",
       "357  145000       24       1  Appartement  Rennes (35000)    6041.667\n",
       "71   149000       34       1  Appartement  Rennes (35000)    4382.353\n",
       "194  159000       26       1  Appartement  Rennes (35000)    6115.385\n",
       "269  163000       25       1  Appartement  Rennes (35000)    6520.000\n",
       "223  169000       21       1  Appartement  Rennes (35000)    8047.619\n",
       "268  172000       25       1  Appartement  Rennes (35000)    6880.000\n",
       "192  174000       25       1  Appartement  Rennes (35000)    6960.000\n",
       "267  174000       24       1  Appartement  Rennes (35000)    7250.000\n",
       "32   177650       30       1  Appartement  Rennes (35000)    5921.667\n",
       "43   182500       27       1  Appartement  Rennes (35000)    6759.259\n",
       "21   185000       31       1  Appartement  Rennes (35000)    5967.742\n",
       "80   193544       30       1  Appartement  Rennes (35000)    6451.467"
      ]
     },
     "execution_count": 43,
     "metadata": {},
     "output_type": "execute_result"
    }
   ],
   "source": [
    "df_filtre.sort_values(by=\"price\")"
   ]
  },
  {
   "cell_type": "code",
   "execution_count": 44,
   "metadata": {},
   "outputs": [
    {
     "data": {
      "text/html": [
       "<div>\n",
       "<style scoped>\n",
       "    .dataframe tbody tr th:only-of-type {\n",
       "        vertical-align: middle;\n",
       "    }\n",
       "\n",
       "    .dataframe tbody tr th {\n",
       "        vertical-align: top;\n",
       "    }\n",
       "\n",
       "    .dataframe thead th {\n",
       "        text-align: right;\n",
       "    }\n",
       "</style>\n",
       "<table border=\"1\" class=\"dataframe\">\n",
       "  <thead>\n",
       "    <tr style=\"text-align: right;\">\n",
       "      <th></th>\n",
       "      <th>price</th>\n",
       "      <th>surface</th>\n",
       "      <th>pieces</th>\n",
       "      <th>types</th>\n",
       "      <th>code postal</th>\n",
       "      <th>prix au m2</th>\n",
       "    </tr>\n",
       "  </thead>\n",
       "  <tbody>\n",
       "    <tr>\n",
       "      <th>123</th>\n",
       "      <td>131500</td>\n",
       "      <td>33</td>\n",
       "      <td>1</td>\n",
       "      <td>Appartement</td>\n",
       "      <td>Rennes (35000)</td>\n",
       "      <td>3984.848</td>\n",
       "    </tr>\n",
       "    <tr>\n",
       "      <th>64</th>\n",
       "      <td>127000</td>\n",
       "      <td>30</td>\n",
       "      <td>1</td>\n",
       "      <td>Appartement</td>\n",
       "      <td>Rennes (35000)</td>\n",
       "      <td>4233.333</td>\n",
       "    </tr>\n",
       "    <tr>\n",
       "      <th>71</th>\n",
       "      <td>149000</td>\n",
       "      <td>34</td>\n",
       "      <td>1</td>\n",
       "      <td>Appartement</td>\n",
       "      <td>Rennes (35000)</td>\n",
       "      <td>4382.353</td>\n",
       "    </tr>\n",
       "    <tr>\n",
       "      <th>255</th>\n",
       "      <td>137000</td>\n",
       "      <td>26</td>\n",
       "      <td>1</td>\n",
       "      <td>Appartement</td>\n",
       "      <td>Rennes (35000)</td>\n",
       "      <td>5269.231</td>\n",
       "    </tr>\n",
       "    <tr>\n",
       "      <th>252</th>\n",
       "      <td>103000</td>\n",
       "      <td>19</td>\n",
       "      <td>1</td>\n",
       "      <td>Appartement</td>\n",
       "      <td>Rennes (35000)</td>\n",
       "      <td>5421.053</td>\n",
       "    </tr>\n",
       "    <tr>\n",
       "      <th>154</th>\n",
       "      <td>82900</td>\n",
       "      <td>15</td>\n",
       "      <td>1</td>\n",
       "      <td>Appartement</td>\n",
       "      <td>Rennes (35000)</td>\n",
       "      <td>5526.667</td>\n",
       "    </tr>\n",
       "    <tr>\n",
       "      <th>171</th>\n",
       "      <td>113184</td>\n",
       "      <td>20</td>\n",
       "      <td>1</td>\n",
       "      <td>Appartement</td>\n",
       "      <td>Rennes (35000)</td>\n",
       "      <td>5659.200</td>\n",
       "    </tr>\n",
       "    <tr>\n",
       "      <th>208</th>\n",
       "      <td>125700</td>\n",
       "      <td>22</td>\n",
       "      <td>1</td>\n",
       "      <td>Appartement</td>\n",
       "      <td>Rennes (35000)</td>\n",
       "      <td>5713.636</td>\n",
       "    </tr>\n",
       "    <tr>\n",
       "      <th>32</th>\n",
       "      <td>177650</td>\n",
       "      <td>30</td>\n",
       "      <td>1</td>\n",
       "      <td>Appartement</td>\n",
       "      <td>Rennes (35000)</td>\n",
       "      <td>5921.667</td>\n",
       "    </tr>\n",
       "    <tr>\n",
       "      <th>21</th>\n",
       "      <td>185000</td>\n",
       "      <td>31</td>\n",
       "      <td>1</td>\n",
       "      <td>Appartement</td>\n",
       "      <td>Rennes (35000)</td>\n",
       "      <td>5967.742</td>\n",
       "    </tr>\n",
       "    <tr>\n",
       "      <th>357</th>\n",
       "      <td>145000</td>\n",
       "      <td>24</td>\n",
       "      <td>1</td>\n",
       "      <td>Appartement</td>\n",
       "      <td>Rennes (35000)</td>\n",
       "      <td>6041.667</td>\n",
       "    </tr>\n",
       "    <tr>\n",
       "      <th>194</th>\n",
       "      <td>159000</td>\n",
       "      <td>26</td>\n",
       "      <td>1</td>\n",
       "      <td>Appartement</td>\n",
       "      <td>Rennes (35000)</td>\n",
       "      <td>6115.385</td>\n",
       "    </tr>\n",
       "    <tr>\n",
       "      <th>53</th>\n",
       "      <td>131000</td>\n",
       "      <td>21</td>\n",
       "      <td>1</td>\n",
       "      <td>Appartement</td>\n",
       "      <td>Rennes (35000)</td>\n",
       "      <td>6238.095</td>\n",
       "    </tr>\n",
       "    <tr>\n",
       "      <th>80</th>\n",
       "      <td>193544</td>\n",
       "      <td>30</td>\n",
       "      <td>1</td>\n",
       "      <td>Appartement</td>\n",
       "      <td>Rennes (35000)</td>\n",
       "      <td>6451.467</td>\n",
       "    </tr>\n",
       "    <tr>\n",
       "      <th>269</th>\n",
       "      <td>163000</td>\n",
       "      <td>25</td>\n",
       "      <td>1</td>\n",
       "      <td>Appartement</td>\n",
       "      <td>Rennes (35000)</td>\n",
       "      <td>6520.000</td>\n",
       "    </tr>\n",
       "    <tr>\n",
       "      <th>138</th>\n",
       "      <td>59000</td>\n",
       "      <td>9</td>\n",
       "      <td>1</td>\n",
       "      <td>Appartement</td>\n",
       "      <td>Rennes (35000)</td>\n",
       "      <td>6555.556</td>\n",
       "    </tr>\n",
       "    <tr>\n",
       "      <th>139</th>\n",
       "      <td>59000</td>\n",
       "      <td>9</td>\n",
       "      <td>1</td>\n",
       "      <td>Appartement</td>\n",
       "      <td>Rennes (35000)</td>\n",
       "      <td>6555.556</td>\n",
       "    </tr>\n",
       "    <tr>\n",
       "      <th>43</th>\n",
       "      <td>182500</td>\n",
       "      <td>27</td>\n",
       "      <td>1</td>\n",
       "      <td>Appartement</td>\n",
       "      <td>Rennes (35000)</td>\n",
       "      <td>6759.259</td>\n",
       "    </tr>\n",
       "    <tr>\n",
       "      <th>268</th>\n",
       "      <td>172000</td>\n",
       "      <td>25</td>\n",
       "      <td>1</td>\n",
       "      <td>Appartement</td>\n",
       "      <td>Rennes (35000)</td>\n",
       "      <td>6880.000</td>\n",
       "    </tr>\n",
       "    <tr>\n",
       "      <th>192</th>\n",
       "      <td>174000</td>\n",
       "      <td>25</td>\n",
       "      <td>1</td>\n",
       "      <td>Appartement</td>\n",
       "      <td>Rennes (35000)</td>\n",
       "      <td>6960.000</td>\n",
       "    </tr>\n",
       "    <tr>\n",
       "      <th>267</th>\n",
       "      <td>174000</td>\n",
       "      <td>24</td>\n",
       "      <td>1</td>\n",
       "      <td>Appartement</td>\n",
       "      <td>Rennes (35000)</td>\n",
       "      <td>7250.000</td>\n",
       "    </tr>\n",
       "    <tr>\n",
       "      <th>223</th>\n",
       "      <td>169000</td>\n",
       "      <td>21</td>\n",
       "      <td>1</td>\n",
       "      <td>Appartement</td>\n",
       "      <td>Rennes (35000)</td>\n",
       "      <td>8047.619</td>\n",
       "    </tr>\n",
       "    <tr>\n",
       "      <th>169</th>\n",
       "      <td>131000</td>\n",
       "      <td>16</td>\n",
       "      <td>1</td>\n",
       "      <td>Appartement</td>\n",
       "      <td>Rennes (35000)</td>\n",
       "      <td>8187.500</td>\n",
       "    </tr>\n",
       "  </tbody>\n",
       "</table>\n",
       "</div>"
      ],
      "text/plain": [
       "      price  surface  pieces        types     code postal  prix au m2\n",
       "123  131500       33       1  Appartement  Rennes (35000)    3984.848\n",
       "64   127000       30       1  Appartement  Rennes (35000)    4233.333\n",
       "71   149000       34       1  Appartement  Rennes (35000)    4382.353\n",
       "255  137000       26       1  Appartement  Rennes (35000)    5269.231\n",
       "252  103000       19       1  Appartement  Rennes (35000)    5421.053\n",
       "154   82900       15       1  Appartement  Rennes (35000)    5526.667\n",
       "171  113184       20       1  Appartement  Rennes (35000)    5659.200\n",
       "208  125700       22       1  Appartement  Rennes (35000)    5713.636\n",
       "32   177650       30       1  Appartement  Rennes (35000)    5921.667\n",
       "21   185000       31       1  Appartement  Rennes (35000)    5967.742\n",
       "357  145000       24       1  Appartement  Rennes (35000)    6041.667\n",
       "194  159000       26       1  Appartement  Rennes (35000)    6115.385\n",
       "53   131000       21       1  Appartement  Rennes (35000)    6238.095\n",
       "80   193544       30       1  Appartement  Rennes (35000)    6451.467\n",
       "269  163000       25       1  Appartement  Rennes (35000)    6520.000\n",
       "138   59000        9       1  Appartement  Rennes (35000)    6555.556\n",
       "139   59000        9       1  Appartement  Rennes (35000)    6555.556\n",
       "43   182500       27       1  Appartement  Rennes (35000)    6759.259\n",
       "268  172000       25       1  Appartement  Rennes (35000)    6880.000\n",
       "192  174000       25       1  Appartement  Rennes (35000)    6960.000\n",
       "267  174000       24       1  Appartement  Rennes (35000)    7250.000\n",
       "223  169000       21       1  Appartement  Rennes (35000)    8047.619\n",
       "169  131000       16       1  Appartement  Rennes (35000)    8187.500"
      ]
     },
     "execution_count": 44,
     "metadata": {},
     "output_type": "execute_result"
    }
   ],
   "source": [
    "df_filtre.sort_values(by=\"prix au m2\")"
   ]
  },
  {
   "cell_type": "code",
   "execution_count": null,
   "metadata": {},
   "outputs": [],
   "source": []
  }
 ],
 "metadata": {
  "kernelspec": {
   "display_name": "Python 3",
   "language": "python",
   "name": "python3"
  },
  "language_info": {
   "codemirror_mode": {
    "name": "ipython",
    "version": 3
   },
   "file_extension": ".py",
   "mimetype": "text/x-python",
   "name": "python",
   "nbconvert_exporter": "python",
   "pygments_lexer": "ipython3",
   "version": "3.8.3"
  }
 },
 "nbformat": 4,
 "nbformat_minor": 5
}

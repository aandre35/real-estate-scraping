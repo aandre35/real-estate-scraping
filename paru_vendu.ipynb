{
 "cells": [
  {
   "cell_type": "code",
   "execution_count": 96,
   "metadata": {},
   "outputs": [],
   "source": [
    "from bs4 import BeautifulSoup\n",
    "import bs4\n",
    "import requests\n",
    "import requests_cache\n",
    "import re\n",
    "import pandas as pd\n",
    "import seaborn as sns\n",
    "import plotly.express as px\n",
    "from tqdm import tqdm\n",
    "import numpy as np\n",
    "\n",
    "requests_cache.install_cache(\"bases_scraping\", expire_after=10e5)"
   ]
  },
  {
   "cell_type": "code",
   "execution_count": 97,
   "metadata": {},
   "outputs": [],
   "source": [
    "# On désactive les écritures scientifiques\n",
    "pd.set_option('display.float_format', lambda x: '%.3f' % x)"
   ]
  },
  {
   "cell_type": "code",
   "execution_count": 98,
   "metadata": {},
   "outputs": [],
   "source": [
    "headers = {\n",
    "    'User-Agent': 'Mozilla/5.0 (Macintosh; Intel Mac OS X 10_10_1) AppleWebKit/537.36 (KHTML, like Gecko) Chrome/39.0.2171.95 Safari/537.36'\n",
    "}"
   ]
  },
  {
   "cell_type": "code",
   "execution_count": 99,
   "metadata": {},
   "outputs": [],
   "source": [
    "secteur = \"75000\"\n",
    "url = f\"https://www.paruvendu.fr/immobilier/annonceimmofo/liste/listeAnnonces?tt=1&tbApp=1&tbDup=1&tbChb=1&tbLof=1&tbAtl=1&tbPla=1&tbMai=1&tbVil=1&tbCha=1&tbPro=1&tbHot=1&tbMou=1&tbFer=1&at=1&pa=FR&lol=0&ray=50&codeINSEE={secteur},\"\n",
    "response = requests.get(url, headers=headers)\n",
    "soup = BeautifulSoup(response.text, \"html.parser\")"
   ]
  },
  {
   "cell_type": "code",
   "execution_count": 100,
   "metadata": {},
   "outputs": [
    {
     "data": {
      "text/plain": [
       "85"
      ]
     },
     "execution_count": 100,
     "metadata": {},
     "output_type": "execute_result"
    }
   ],
   "source": [
    "def get_nb_pages():\n",
    "    string = soup.find(\"div\", class_=\"resume\").span.text\n",
    "    a = int(string.split(\"-\")[0])\n",
    "    b = int(string.split(\"-\")[1].split(\"sur\")[0])\n",
    "    c = int(string.split(\"-\")[1].split(\"sur\")[1].replace(\"annonces\",\"\").replace(\" \",\"\"))    \n",
    "    return c // (b-a)\n",
    "\n",
    "nb_pages = get_nb_pages()\n",
    "nb_pages"
   ]
  },
  {
   "cell_type": "code",
   "execution_count": 128,
   "metadata": {},
   "outputs": [
    {
     "name": "stderr",
     "output_type": "stream",
     "text": [
      "100%|██████████| 85/85 [00:11<00:00,  7.41it/s]\n"
     ]
    },
    {
     "data": {
      "text/html": [
       "<div>\n",
       "<style scoped>\n",
       "    .dataframe tbody tr th:only-of-type {\n",
       "        vertical-align: middle;\n",
       "    }\n",
       "\n",
       "    .dataframe tbody tr th {\n",
       "        vertical-align: top;\n",
       "    }\n",
       "\n",
       "    .dataframe thead th {\n",
       "        text-align: right;\n",
       "    }\n",
       "</style>\n",
       "<table border=\"1\" class=\"dataframe\">\n",
       "  <thead>\n",
       "    <tr style=\"text-align: right;\">\n",
       "      <th></th>\n",
       "      <th>price</th>\n",
       "      <th>surface</th>\n",
       "      <th>pieces</th>\n",
       "      <th>types</th>\n",
       "      <th>code postal</th>\n",
       "      <th>prix au m2</th>\n",
       "    </tr>\n",
       "  </thead>\n",
       "  <tbody>\n",
       "    <tr>\n",
       "      <th>0</th>\n",
       "      <td>276000</td>\n",
       "      <td>214</td>\n",
       "      <td>7</td>\n",
       "      <td>Appartement</td>\n",
       "      <td>13</td>\n",
       "      <td>1289.720</td>\n",
       "    </tr>\n",
       "    <tr>\n",
       "      <th>1</th>\n",
       "      <td>550000</td>\n",
       "      <td>87</td>\n",
       "      <td>4</td>\n",
       "      <td>Appartement</td>\n",
       "      <td>19</td>\n",
       "      <td>6321.839</td>\n",
       "    </tr>\n",
       "    <tr>\n",
       "      <th>2</th>\n",
       "      <td>458000</td>\n",
       "      <td>48</td>\n",
       "      <td>2</td>\n",
       "      <td>Appartement</td>\n",
       "      <td>19</td>\n",
       "      <td>9541.667</td>\n",
       "    </tr>\n",
       "    <tr>\n",
       "      <th>3</th>\n",
       "      <td>424000</td>\n",
       "      <td>59</td>\n",
       "      <td>3</td>\n",
       "      <td>Appartement</td>\n",
       "      <td>19</td>\n",
       "      <td>7186.441</td>\n",
       "    </tr>\n",
       "    <tr>\n",
       "      <th>4</th>\n",
       "      <td>335000</td>\n",
       "      <td>37</td>\n",
       "      <td>2</td>\n",
       "      <td>Appartement</td>\n",
       "      <td>12</td>\n",
       "      <td>9054.054</td>\n",
       "    </tr>\n",
       "  </tbody>\n",
       "</table>\n",
       "</div>"
      ],
      "text/plain": [
       "    price  surface  pieces        types code postal  prix au m2\n",
       "0  276000      214       7  Appartement          13    1289.720\n",
       "1  550000       87       4  Appartement          19    6321.839\n",
       "2  458000       48       2  Appartement          19    9541.667\n",
       "3  424000       59       3  Appartement          19    7186.441\n",
       "4  335000       37       2  Appartement          12    9054.054"
      ]
     },
     "execution_count": 128,
     "metadata": {},
     "output_type": "execute_result"
    }
   ],
   "source": [
    "prices = []\n",
    "surfaces = []\n",
    "types = []\n",
    "pieces = []\n",
    "cps = []\n",
    "\n",
    "for i in tqdm(range(1,nb_pages+1)):\n",
    "    url = f\"https://www.paruvendu.fr/immobilier/annonceimmofo/liste/listeAnnonces?tt=1&tbApp=1&tbDup=1&tbChb=1&tbLof=1&tbAtl=1&tbPla=1&tbMai=1&tbVil=1&tbCha=1&tbPro=1&tbHot=1&tbMou=1&tbFer=1&at=1&pa=FR&lol=0&ray=50&codeINSEE={secteur},,&p={i}\"\n",
    "    response = requests.get(url, headers=headers)\n",
    "    soup = BeautifulSoup(response.text, \"html.parser\")\n",
    "    \n",
    "    for annonce in soup.find_all('div', class_=\"ergov3-annonce\"):\n",
    "        try:\n",
    "            # prix du bien\n",
    "            price = annonce.find('div', class_=\"ergov3-priceannonce\")\n",
    "            price = int(price.text.replace(\" \",\"\").replace(\"€\",\"\").replace(\"\\n\",\"\").replace(\"*\",\"\").replace(\"\\r\",\"\"))\n",
    "            #print(re.sub(r'(\\s+){2,}|(\\*)', ' ', annonce.find('div', class_='ergov3-priceannonce').text))\n",
    "\n",
    "            # Titre de l'annonce. Permet de déduire le nombre de pièce, la surface et le type de bien\n",
    "            txt = annonce.find('div', class_=\"ergov3-txtannonce\")\n",
    "            #print(re.sub(r\"\"\"[!?'\".<>(){}@%&*/[/]\"\"\", \" \",txt.h3.text ))\n",
    "            # type de bien\n",
    "            type_bien = txt.h3.text.split('\\r\\n')[1]\n",
    "\n",
    "            # nombre de pièce du bien\n",
    "            nb_pieces = txt.h3.text.split('\\r\\n')[2]\n",
    "\n",
    "            # surface du bien\n",
    "            surface = txt.h3.span.text.split(\",\")[-1].split(\"-\")[-1].replace(\"m²\",\"\").replace(\" \",\"\").replace(\"\\t\",\"\").replace(\"\\n\",\"\").replace(\"\\r\",\"\").replace(\"carrez\",\"\")\n",
    "\n",
    "            # Code postal de l'annonce\n",
    "            #cp = txt.cite.text.replace(\"(\",\"\").replace(\")\",\"\").split(' ')[1].replace(\"\\t\",\"\").replace(\"\\n\",\"\").replace(\"\\r\",\"\")\n",
    "            #cp = re.sub(r'\\r\\n','',txt.cite.text)\n",
    "            cp = re.sub(r'[^\\d]+', '', txt.cite.text)  \n",
    "            if cp=='':\n",
    "                cp='0'\n",
    "            # Ajout des caractéristiques dans des tableaux\n",
    "            price = int(price)\n",
    "            surface = int(surface)\n",
    "            nb_pieces = int(nb_pieces)\n",
    "            #type_bien = str(type_bien)\n",
    "            #cps = int(cp)\n",
    "\n",
    "            prices.append(price)\n",
    "            surfaces.append(surface)\n",
    "            pieces.append(nb_pieces)\n",
    "            types.append(type_bien)\n",
    "            cps.append(cp)\n",
    "\n",
    "        except Exception as e:\n",
    "           pass\n",
    "\n",
    "df = pd.DataFrame(data={\n",
    "    \"price\": prices,\n",
    "    \"surface\": surfaces,\n",
    "    \"pieces\": pieces,\n",
    "    \"types\": types,\n",
    "    \"code postal\": cps,\n",
    "})\n",
    "\n",
    "df[\"prix au m2\"] = df[\"price\"]/df[\"surface\"]\n",
    "df.head()"
   ]
  },
  {
   "cell_type": "code",
   "execution_count": 129,
   "metadata": {},
   "outputs": [],
   "source": [
    "df['code postal'] = df['code postal'].astype(np.int16)"
   ]
  },
  {
   "cell_type": "code",
   "execution_count": 130,
   "metadata": {},
   "outputs": [
    {
     "data": {
      "text/html": [
       "<div>\n",
       "<style scoped>\n",
       "    .dataframe tbody tr th:only-of-type {\n",
       "        vertical-align: middle;\n",
       "    }\n",
       "\n",
       "    .dataframe tbody tr th {\n",
       "        vertical-align: top;\n",
       "    }\n",
       "\n",
       "    .dataframe thead th {\n",
       "        text-align: right;\n",
       "    }\n",
       "</style>\n",
       "<table border=\"1\" class=\"dataframe\">\n",
       "  <thead>\n",
       "    <tr style=\"text-align: right;\">\n",
       "      <th></th>\n",
       "      <th>price</th>\n",
       "      <th>surface</th>\n",
       "      <th>code postal</th>\n",
       "      <th>prix au m2</th>\n",
       "    </tr>\n",
       "    <tr>\n",
       "      <th>pieces</th>\n",
       "      <th></th>\n",
       "      <th></th>\n",
       "      <th></th>\n",
       "      <th></th>\n",
       "    </tr>\n",
       "  </thead>\n",
       "  <tbody>\n",
       "    <tr>\n",
       "      <th>1</th>\n",
       "      <td>253417.195</td>\n",
       "      <td>21.780</td>\n",
       "      <td>160.085</td>\n",
       "      <td>11884.332</td>\n",
       "    </tr>\n",
       "    <tr>\n",
       "      <th>2</th>\n",
       "      <td>468795.519</td>\n",
       "      <td>41.706</td>\n",
       "      <td>95.945</td>\n",
       "      <td>11334.346</td>\n",
       "    </tr>\n",
       "    <tr>\n",
       "      <th>3</th>\n",
       "      <td>726503.400</td>\n",
       "      <td>65.183</td>\n",
       "      <td>65.427</td>\n",
       "      <td>11044.542</td>\n",
       "    </tr>\n",
       "    <tr>\n",
       "      <th>4</th>\n",
       "      <td>1043444.576</td>\n",
       "      <td>91.330</td>\n",
       "      <td>93.557</td>\n",
       "      <td>11254.111</td>\n",
       "    </tr>\n",
       "    <tr>\n",
       "      <th>5</th>\n",
       "      <td>1568165.360</td>\n",
       "      <td>125.086</td>\n",
       "      <td>166.266</td>\n",
       "      <td>12206.171</td>\n",
       "    </tr>\n",
       "    <tr>\n",
       "      <th>6</th>\n",
       "      <td>1934706.522</td>\n",
       "      <td>157.391</td>\n",
       "      <td>429.022</td>\n",
       "      <td>12052.393</td>\n",
       "    </tr>\n",
       "    <tr>\n",
       "      <th>7</th>\n",
       "      <td>2082555.556</td>\n",
       "      <td>201.389</td>\n",
       "      <td>10.444</td>\n",
       "      <td>10800.267</td>\n",
       "    </tr>\n",
       "    <tr>\n",
       "      <th>8</th>\n",
       "      <td>3914166.667</td>\n",
       "      <td>323.333</td>\n",
       "      <td>1608.333</td>\n",
       "      <td>12391.935</td>\n",
       "    </tr>\n",
       "    <tr>\n",
       "      <th>9</th>\n",
       "      <td>4089500.000</td>\n",
       "      <td>366.250</td>\n",
       "      <td>2402.750</td>\n",
       "      <td>10356.597</td>\n",
       "    </tr>\n",
       "    <tr>\n",
       "      <th>10</th>\n",
       "      <td>3000000.000</td>\n",
       "      <td>350.000</td>\n",
       "      <td>20.000</td>\n",
       "      <td>8571.429</td>\n",
       "    </tr>\n",
       "    <tr>\n",
       "      <th>11</th>\n",
       "      <td>2200000.000</td>\n",
       "      <td>300.000</td>\n",
       "      <td>14.500</td>\n",
       "      <td>7333.333</td>\n",
       "    </tr>\n",
       "    <tr>\n",
       "      <th>12</th>\n",
       "      <td>2055000.000</td>\n",
       "      <td>302.500</td>\n",
       "      <td>6.500</td>\n",
       "      <td>6924.686</td>\n",
       "    </tr>\n",
       "    <tr>\n",
       "      <th>14</th>\n",
       "      <td>507500.000</td>\n",
       "      <td>7725.000</td>\n",
       "      <td>8.500</td>\n",
       "      <td>712.833</td>\n",
       "    </tr>\n",
       "  </tbody>\n",
       "</table>\n",
       "</div>"
      ],
      "text/plain": [
       "             price  surface  code postal  prix au m2\n",
       "pieces                                              \n",
       "1       253417.195   21.780      160.085   11884.332\n",
       "2       468795.519   41.706       95.945   11334.346\n",
       "3       726503.400   65.183       65.427   11044.542\n",
       "4      1043444.576   91.330       93.557   11254.111\n",
       "5      1568165.360  125.086      166.266   12206.171\n",
       "6      1934706.522  157.391      429.022   12052.393\n",
       "7      2082555.556  201.389       10.444   10800.267\n",
       "8      3914166.667  323.333     1608.333   12391.935\n",
       "9      4089500.000  366.250     2402.750   10356.597\n",
       "10     3000000.000  350.000       20.000    8571.429\n",
       "11     2200000.000  300.000       14.500    7333.333\n",
       "12     2055000.000  302.500        6.500    6924.686\n",
       "14      507500.000 7725.000        8.500     712.833"
      ]
     },
     "execution_count": 130,
     "metadata": {},
     "output_type": "execute_result"
    }
   ],
   "source": [
    "df.groupby(\"pieces\").mean()"
   ]
  },
  {
   "cell_type": "code",
   "execution_count": 131,
   "metadata": {},
   "outputs": [
    {
     "data": {
      "text/plain": [
       "<AxesSubplot:xlabel='pieces'>"
      ]
     },
     "execution_count": 131,
     "metadata": {},
     "output_type": "execute_result"
    },
    {
     "data": {
      "image/png": "[encoded data removed]",
      "text/plain": [
       "<Figure size 432x288 with 1 Axes>"
      ]
     },
     "metadata": {
      "needs_background": "light"
     },
     "output_type": "display_data"
    }
   ],
   "source": [
    "df.groupby(\"pieces\").mean()['prix au m2'].plot(kind=\"bar\")"
   ]
  },
  {
   "cell_type": "code",
   "execution_count": 132,
   "metadata": {},
   "outputs": [
    {
     "data": {
      "text/html": [
       "<div>\n",
       "<style scoped>\n",
       "    .dataframe tbody tr th:only-of-type {\n",
       "        vertical-align: middle;\n",
       "    }\n",
       "\n",
       "    .dataframe tbody tr th {\n",
       "        vertical-align: top;\n",
       "    }\n",
       "\n",
       "    .dataframe thead th {\n",
       "        text-align: right;\n",
       "    }\n",
       "</style>\n",
       "<table border=\"1\" class=\"dataframe\">\n",
       "  <thead>\n",
       "    <tr style=\"text-align: right;\">\n",
       "      <th></th>\n",
       "      <th></th>\n",
       "      <th>price</th>\n",
       "      <th>surface</th>\n",
       "      <th>prix au m2</th>\n",
       "    </tr>\n",
       "    <tr>\n",
       "      <th>pieces</th>\n",
       "      <th>code postal</th>\n",
       "      <th></th>\n",
       "      <th></th>\n",
       "      <th></th>\n",
       "    </tr>\n",
       "  </thead>\n",
       "  <tbody>\n",
       "    <tr>\n",
       "      <th rowspan=\"5\" valign=\"top\">1</th>\n",
       "      <th>0</th>\n",
       "      <td>625000.000</td>\n",
       "      <td>80.000</td>\n",
       "      <td>7812.500</td>\n",
       "    </tr>\n",
       "    <tr>\n",
       "      <th>1</th>\n",
       "      <td>422500.000</td>\n",
       "      <td>30.500</td>\n",
       "      <td>13870.968</td>\n",
       "    </tr>\n",
       "    <tr>\n",
       "      <th>2</th>\n",
       "      <td>217444.444</td>\n",
       "      <td>17.444</td>\n",
       "      <td>13025.393</td>\n",
       "    </tr>\n",
       "    <tr>\n",
       "      <th>3</th>\n",
       "      <td>232444.444</td>\n",
       "      <td>18.889</td>\n",
       "      <td>12190.466</td>\n",
       "    </tr>\n",
       "    <tr>\n",
       "      <th>4</th>\n",
       "      <td>343250.000</td>\n",
       "      <td>25.625</td>\n",
       "      <td>13798.111</td>\n",
       "    </tr>\n",
       "  </tbody>\n",
       "</table>\n",
       "</div>"
      ],
      "text/plain": [
       "                        price  surface  prix au m2\n",
       "pieces code postal                                \n",
       "1      0           625000.000   80.000    7812.500\n",
       "       1           422500.000   30.500   13870.968\n",
       "       2           217444.444   17.444   13025.393\n",
       "       3           232444.444   18.889   12190.466\n",
       "       4           343250.000   25.625   13798.111"
      ]
     },
     "execution_count": 132,
     "metadata": {},
     "output_type": "execute_result"
    }
   ],
   "source": [
    "df_price_surface = df.groupby([\"pieces\", \"code postal\"]).mean()\n",
    "df_price_surface.head()"
   ]
  },
  {
   "cell_type": "code",
   "execution_count": 133,
   "metadata": {},
   "outputs": [
    {
     "data": {
      "text/plain": [
       "([7, 4, 2, 3, 1, 6, 5, 8, 10, 11, 14, 12, 9],\n",
       " [13,\n",
       "  19,\n",
       "  12,\n",
       "  20,\n",
       "  18,\n",
       "  7,\n",
       "  9,\n",
       "  5,\n",
       "  9580,\n",
       "  15,\n",
       "  17,\n",
       "  14,\n",
       "  1,\n",
       "  16,\n",
       "  10,\n",
       "  6,\n",
       "  11,\n",
       "  2,\n",
       "  8,\n",
       "  4,\n",
       "  3,\n",
       "  75,\n",
       "  1975,\n",
       "  1875,\n",
       "  2075,\n",
       "  475,\n",
       "  0])"
      ]
     },
     "execution_count": 133,
     "metadata": {},
     "output_type": "execute_result"
    }
   ],
   "source": [
    "pieces = df[\"pieces\"].unique().tolist()\n",
    "secteurs = df[\"code postal\"].unique().tolist()\n",
    "\n",
    "data = []\n",
    "for s in secteurs:\n",
    "    secteur_i = []\n",
    "    df_secteur_i = df[df['code postal'] == s]\n",
    "    for p in pieces:\n",
    "        secteur_i.append(df_secteur_i.loc[df_secteur_i['pieces'] == p, \"prix au m2\"].mean())\n",
    "    data.append(secteur_i)\n",
    "pieces, secteurs"
   ]
  },
  {
   "cell_type": "code",
   "execution_count": 136,
   "metadata": {},
   "outputs": [],
   "source": [
    "df_heatmap = pd.pivot_table(df, values='prix au m2', columns=['pieces'], index=['code postal'], aggfunc=np.mean).sort_index()"
   ]
  },
  {
   "cell_type": "code",
   "execution_count": 139,
   "metadata": {},
   "outputs": [
    {
     "data": {
      "text/plain": [
       "(27, 13)"
      ]
     },
     "execution_count": 139,
     "metadata": {},
     "output_type": "execute_result"
    }
   ],
   "source": [
    "df_heatmap.values.shape"
   ]
  },
  {
   "cell_type": "code",
   "execution_count": 141,
   "metadata": {},
   "outputs": [
    {
     "data": {
      "text/plain": [
       "27"
      ]
     },
     "execution_count": 141,
     "metadata": {},
     "output_type": "execute_result"
    }
   ],
   "source": [
    "len(df_heatmap.index)"
   ]
  },
  {
   "cell_type": "code",
   "execution_count": 143,
   "metadata": {},
   "outputs": [
    {
     "data": {
      "text/plain": [
       "13"
      ]
     },
     "execution_count": 143,
     "metadata": {},
     "output_type": "execute_result"
    }
   ],
   "source": [
    "len(df_heatmap.columns)"
   ]
  },
  {
   "cell_type": "code",
   "execution_count": 147,
   "metadata": {},
   "outputs": [
    {
     "data": {
      "text/plain": [
       "array([[ 7812.5       ,     0.        ,  7032.78688525,  9833.33333333,\n",
       "            0.        ,     0.        ,     0.        ,     0.        ,\n",
       "            0.        ,     0.        ,     0.        ,     0.        ,\n",
       "            0.        ],\n",
       "       [13870.96774194, 14903.05982478, 18077.83018868, 11127.74902825,\n",
       "        10255.95238095,     0.        ,  1046.77419355,     0.        ,\n",
       "            0.        ,     0.        ,     0.        ,  1629.03225806,\n",
       "         1400.        ],\n",
       "       [13025.39304425, 13935.36686638, 12716.01633139,     0.        ,\n",
       "            0.        ,     0.        ,     0.        ,     0.        ,\n",
       "            0.        ,     0.        ,     0.        ,     0.        ,\n",
       "            0.        ],\n",
       "       [12190.46637742, 13743.33454736, 12813.7379804 , 12447.38520408,\n",
       "        14251.41723356,     0.        ,     0.        ,     0.        ,\n",
       "            0.        ,     0.        ,     0.        ,     0.        ,\n",
       "            0.        ],\n",
       "       [13798.11126677, 15227.26111834, 15986.42830486, 15337.02683444,\n",
       "         3424.65753425, 13043.47826087,     0.        ,     0.        ,\n",
       "            0.        ,     0.        ,     0.        ,     0.        ,\n",
       "            0.        ],\n",
       "       [12749.36658015, 13773.58412959, 15323.17480184, 15437.5       ,\n",
       "        14221.15384615,     0.        , 25000.        ,     0.        ,\n",
       "            0.        ,     0.        ,     0.        ,     0.        ,\n",
       "            0.        ],\n",
       "       [16462.52622378, 14485.80769253, 18296.90943292, 15591.36937282,\n",
       "            0.        , 14476.74418605, 13862.9674964 ,     0.        ,\n",
       "            0.        ,     0.        ,     0.        ,     0.        ,\n",
       "            0.        ],\n",
       "       [14549.47596263, 15356.70265729, 14863.64478065, 15809.52380952,\n",
       "        18153.06807198, 17222.48319722, 15469.37321937,     0.        ,\n",
       "         1527.02702703,     0.        ,     0.        ,     0.        ,\n",
       "            0.        ],\n",
       "       [11835.00140927, 15942.13955034, 13831.59761105, 14284.25215481,\n",
       "        16152.67902257, 16283.06238569,     0.        , 11238.0952381 ,\n",
       "         1903.03030303,     0.        ,     0.        ,     0.        ,\n",
       "            0.        ],\n",
       "       [12417.60444266, 12888.52587633, 11949.46366871, 11878.528099  ,\n",
       "        12143.4514306 , 12140.14466546,     0.        ,     0.        ,\n",
       "            0.        ,     0.        ,     0.        ,     0.        ,\n",
       "            0.        ],\n",
       "       [11464.59655296, 10909.74312853, 11264.72302784, 10752.22358096,\n",
       "        11078.07680497,  9522.03408811,     0.        ,     0.        ,\n",
       "            0.        ,     0.        ,     0.        ,     0.        ,\n",
       "            0.        ],\n",
       "       [11747.49528956, 11665.55770047, 11162.84521813, 10855.27708408,\n",
       "        11670.17157155, 11393.44262295,  8751.15207373,     0.        ,\n",
       "            0.        ,     0.        ,     0.        ,     0.        ,\n",
       "            0.        ],\n",
       "       [11251.96107617, 10641.1817123 , 10175.63236387, 10471.07792823,\n",
       "         8855.8361201 , 11438.84892086,     0.        , 11218.75      ,\n",
       "            0.        ,     0.        ,     0.        , 12220.33898305,\n",
       "            0.        ],\n",
       "       [12082.45609642, 10374.61844235, 10274.32720044, 10089.9387121 ,\n",
       "        11147.6436284 , 14611.49875554,  4320.32773257,     0.        ,\n",
       "            0.        ,     0.        ,     0.        ,     0.        ,\n",
       "            0.        ],\n",
       "       [11504.07756606, 11131.00240844, 10889.42460724, 14258.65002773,\n",
       "        16748.56636756,  7001.37458683, 10481.28342246,  6000.        ,\n",
       "            0.        ,     0.        ,  7333.33333333,     0.        ,\n",
       "            0.        ],\n",
       "       [12082.84145252, 11119.78337625, 10936.41242269, 11899.9555483 ,\n",
       "        10688.24106943,  5375.57240031,     0.        ,     0.        ,\n",
       "            0.        ,     0.        ,  7333.33333333,     0.        ,\n",
       "            0.        ],\n",
       "       [13272.27805296, 10929.47190034, 12226.04523562, 11581.04254305,\n",
       "        12643.29272281, 13879.55965907, 13590.90909091, 15129.41176471,\n",
       "        13507.69230769,     0.        ,     0.        ,     0.        ,\n",
       "           25.66666667],\n",
       "       [12825.16103387, 10865.80866217, 12188.35617668, 10198.85637556,\n",
       "        11638.22086905, 12741.32690948,     0.        ,     0.        ,\n",
       "            0.        ,     0.        ,     0.        ,     0.        ,\n",
       "            0.        ],\n",
       "       [10381.73292984, 10451.13475955, 10207.4973858 , 10667.43098225,\n",
       "        11705.75783528, 11896.55172414,     0.        ,     0.        ,\n",
       "            0.        ,     0.        ,     0.        ,     0.        ,\n",
       "            0.        ],\n",
       "       [10046.3701855 ,  9648.03951903,  9321.83225364,  8810.04278095,\n",
       "         8209.8944379 ,  8992.8057554 , 13771.21307354,     0.        ,\n",
       "            0.        ,     0.        ,     0.        ,     0.        ,\n",
       "            0.        ],\n",
       "       [10615.87575661, 10162.08500203,  9765.94063872,  9188.79718891,\n",
       "        11200.43478261, 11707.1411103 ,     0.        ,  8701.2987013 ,\n",
       "            0.        ,  8571.42857143,     0.        ,     0.        ,\n",
       "            0.        ],\n",
       "       [12028.21869489, 12704.91803279,  9381.07489994, 14076.08695652,\n",
       "            0.        ,     0.        ,     0.        ,     0.        ,\n",
       "            0.        ,     0.        ,     0.        ,     0.        ,\n",
       "            0.        ],\n",
       "       [    0.        , 18444.44444444,     0.        ,     0.        ,\n",
       "            0.        ,     0.        ,     0.        ,     0.        ,\n",
       "            0.        ,     0.        ,     0.        ,     0.        ,\n",
       "            0.        ],\n",
       "       [    0.        , 12500.        , 12878.78787879,     0.        ,\n",
       "            0.        ,     0.        ,     0.        ,     0.        ,\n",
       "            0.        ,     0.        ,     0.        ,     0.        ,\n",
       "            0.        ],\n",
       "       [    0.        ,  9300.        ,  8291.66666667,  9081.08108108,\n",
       "            0.        ,     0.        ,     0.        ,     0.        ,\n",
       "            0.        ,     0.        ,     0.        ,     0.        ,\n",
       "            0.        ],\n",
       "       [12500.        ,     0.        ,  9454.54545455,     0.        ,\n",
       "         7526.31578947,     0.        ,     0.        ,     0.        ,\n",
       "            0.        ,     0.        ,     0.        ,     0.        ,\n",
       "            0.        ],\n",
       "       [16150.1191702 , 14510.61108204, 10746.28180039, 12493.92276423,\n",
       "        12882.91947087, 14477.13257965,     0.        , 22064.0569395 ,\n",
       "        24488.63636364,     0.        ,     0.        ,     0.        ,\n",
       "            0.        ]])"
      ]
     },
     "execution_count": 147,
     "metadata": {},
     "output_type": "execute_result"
    }
   ],
   "source": [
    "data = df_heatmap.values\n",
    "data = np.nan_to_num(data, copy=True, nan=0.0)\n",
    "data"
   ]
  },
  {
   "cell_type": "code",
   "execution_count": 148,
   "metadata": {},
   "outputs": [
    {
     "data": {
      "application/vnd.plotly.v1+json": {
       "config": {
        "plotlyServerURL": "https://plot.ly"
       },
       "data": [
        {
         "coloraxis": "coloraxis",
         "hovertemplate": "Arrondisement: %{x}<br>Nombre de pièces: %{y}<br>Prix au m2: %{z}<extra></extra>",
         "name": "0",
         "type": "heatmap",
         "x": [
          1,
          2,
          3,
          4,
          5,
          6,
          7,
          8,
          9,
          10,
          11,
          12,
          14
         ],
         "xaxis": "x",
         "y": [
          0,
          1,
          2,
          3,
          4,
          5,
          6,
          7,
          8,
          9,
          10,
          11,
          12,
          13,
          14,
          15,
          16,
          17,
          18,
          19,
          20,
          75,
          475,
          1875,
          1975,
          2075,
          9580
         ],
         "yaxis": "y",
         "z": [
          [
           7812.5,
           0,
           7032.786885245901,
           9833.333333333332,
           0,
           0,
           0,
           0,
           0,
           0,
           0,
           0,
           0
          ],
          [
           13870.967741935485,
           14903.059824782486,
           18077.830188679247,
           11127.749028248712,
           10255.952380952382,
           0,
           1046.774193548387,
           0,
           0,
           0,
           0,
           1629.032258064516,
           1400
          ],
          [
           13025.393044252694,
           13935.366866380888,
           12716.016331386172,
           0,
           0,
           0,
           0,
           0,
           0,
           0,
           0,
           0,
           0
          ],
          [
           12190.466377422901,
           13743.33454735866,
           12813.737980404645,
           12447.385204081633,
           14251.41723356009,
           0,
           0,
           0,
           0,
           0,
           0,
           0,
           0
          ],
          [
           13798.111266767548,
           15227.261118338789,
           15986.428304859077,
           15337.026834440365,
           3424.6575342465753,
           13043.478260869566,
           0,
           0,
           0,
           0,
           0,
           0,
           0
          ],
          [
           12749.366580150785,
           13773.58412958758,
           15323.174801835627,
           15437.5,
           14221.153846153846,
           0,
           25000,
           0,
           0,
           0,
           0,
           0,
           0
          ],
          [
           16462.52622377622,
           14485.80769253326,
           18296.909432915494,
           15591.3693728186,
           0,
           14476.744186046511,
           13862.967496396479,
           0,
           0,
           0,
           0,
           0,
           0
          ],
          [
           14549.475962633858,
           15356.702657286762,
           14863.64478064895,
           15809.52380952381,
           18153.06807197763,
           17222.483197224832,
           15469.37321937322,
           0,
           1527.027027027027,
           0,
           0,
           0,
           0
          ],
          [
           11835.001409266115,
           15942.139550338727,
           13831.5976110489,
           14284.252154809292,
           16152.679022572673,
           16283.062385693964,
           0,
           11238.095238095239,
           1903.030303030303,
           0,
           0,
           0,
           0
          ],
          [
           12417.604442658794,
           12888.525876330947,
           11949.463668706796,
           11878.528099003315,
           12143.45143059747,
           12140.14466546112,
           0,
           0,
           0,
           0,
           0,
           0,
           0
          ],
          [
           11464.59655295734,
           10909.743128527607,
           11264.72302784334,
           10752.22358095677,
           11078.076804972054,
           9522.034088111921,
           0,
           0,
           0,
           0,
           0,
           0,
           0
          ],
          [
           11747.495289560185,
           11665.557700471358,
           11162.845218131364,
           10855.277084081496,
           11670.171571547718,
           11393.442622950819,
           8751.15207373272,
           0,
           0,
           0,
           0,
           0,
           0
          ],
          [
           11251.961076172656,
           10641.181712295043,
           10175.63236387231,
           10471.07792822839,
           8855.836120098773,
           11438.84892086331,
           0,
           11218.75,
           0,
           0,
           0,
           12220.338983050848,
           0
          ],
          [
           12082.456096422922,
           10374.618442351863,
           10274.32720044112,
           10089.938712095001,
           11147.643628396447,
           14611.498755543575,
           4320.327732574251,
           0,
           0,
           0,
           0,
           0,
           0
          ],
          [
           11504.077566055761,
           11131.002408439435,
           10889.424607242292,
           14258.650027730735,
           16748.566367557287,
           7001.374586829392,
           10481.283422459894,
           6000,
           0,
           0,
           7333.333333333333,
           0,
           0
          ],
          [
           12082.841452521337,
           11119.783376253414,
           10936.412422688267,
           11899.955548297743,
           10688.241069426836,
           5375.572400307479,
           0,
           0,
           0,
           0,
           7333.333333333333,
           0,
           0
          ],
          [
           13272.278052963553,
           10929.471900335357,
           12226.045235618909,
           11581.04254304849,
           12643.29272281179,
           13879.559659065522,
           13590.90909090909,
           15129.411764705883,
           13507.692307692309,
           0,
           0,
           0,
           25.666666666666668
          ],
          [
           12825.161033869312,
           10865.808662167496,
           12188.356176681711,
           10198.856375561025,
           11638.220869051884,
           12741.326909481068,
           0,
           0,
           0,
           0,
           0,
           0,
           0
          ],
          [
           10381.732929843842,
           10451.134759553062,
           10207.497385798762,
           10667.430982251664,
           11705.757835281915,
           11896.551724137931,
           0,
           0,
           0,
           0,
           0,
           0,
           0
          ],
          [
           10046.370185499916,
           9648.039519029764,
           9321.83225364236,
           8810.04278095335,
           8209.89443789863,
           8992.805755395684,
           13771.213073538654,
           0,
           0,
           0,
           0,
           0,
           0
          ],
          [
           10615.87575661014,
           10162.085002033744,
           9765.940638716003,
           9188.797188911392,
           11200.434782608696,
           11707.141110295915,
           0,
           8701.298701298701,
           0,
           8571.42857142857,
           0,
           0,
           0
          ],
          [
           12028.218694885361,
           12704.918032786885,
           9381.074899942825,
           14076.08695652174,
           0,
           0,
           0,
           0,
           0,
           0,
           0,
           0,
           0
          ],
          [
           0,
           18444.444444444445,
           0,
           0,
           0,
           0,
           0,
           0,
           0,
           0,
           0,
           0,
           0
          ],
          [
           0,
           12500,
           12878.787878787878,
           0,
           0,
           0,
           0,
           0,
           0,
           0,
           0,
           0,
           0
          ],
          [
           0,
           9300,
           8291.666666666666,
           9081.081081081082,
           0,
           0,
           0,
           0,
           0,
           0,
           0,
           0,
           0
          ],
          [
           12500,
           0,
           9454.545454545454,
           0,
           7526.315789473684,
           0,
           0,
           0,
           0,
           0,
           0,
           0,
           0
          ],
          [
           16150.119170197722,
           14510.611082039653,
           10746.281800391389,
           12493.922764227642,
           12882.919470874913,
           14477.132579650566,
           0,
           22064.05693950178,
           24488.636363636364,
           0,
           0,
           0,
           0
          ]
         ]
        }
       ],
       "layout": {
        "autosize": true,
        "coloraxis": {
         "colorbar": {
          "title": {
           "text": "Prix au m2"
          }
         },
         "colorscale": [
          [
           0,
           "#0d0887"
          ],
          [
           0.1111111111111111,
           "#46039f"
          ],
          [
           0.2222222222222222,
           "#7201a8"
          ],
          [
           0.3333333333333333,
           "#9c179e"
          ],
          [
           0.4444444444444444,
           "#bd3786"
          ],
          [
           0.5555555555555556,
           "#d8576b"
          ],
          [
           0.6666666666666666,
           "#ed7953"
          ],
          [
           0.7777777777777778,
           "#fb9f3a"
          ],
          [
           0.8888888888888888,
           "#fdca26"
          ],
          [
           1,
           "#f0f921"
          ]
         ]
        },
        "margin": {
         "t": 60
        },
        "template": {
         "data": {
          "bar": [
           {
            "error_x": {
             "color": "#2a3f5f"
            },
            "error_y": {
             "color": "#2a3f5f"
            },
            "marker": {
             "line": {
              "color": "#E5ECF6",
              "width": 0.5
             },
             "pattern": {
              "fillmode": "overlay",
              "size": 10,
              "solidity": 0.2
             }
            },
            "type": "bar"
           }
          ],
          "barpolar": [
           {
            "marker": {
             "line": {
              "color": "#E5ECF6",
              "width": 0.5
             },
             "pattern": {
              "fillmode": "overlay",
              "size": 10,
              "solidity": 0.2
             }
            },
            "type": "barpolar"
           }
          ],
          "carpet": [
           {
            "aaxis": {
             "endlinecolor": "#2a3f5f",
             "gridcolor": "white",
             "linecolor": "white",
             "minorgridcolor": "white",
             "startlinecolor": "#2a3f5f"
            },
            "baxis": {
             "endlinecolor": "#2a3f5f",
             "gridcolor": "white",
             "linecolor": "white",
             "minorgridcolor": "white",
             "startlinecolor": "#2a3f5f"
            },
            "type": "carpet"
           }
          ],
          "choropleth": [
           {
            "colorbar": {
             "outlinewidth": 0,
             "ticks": ""
            },
            "type": "choropleth"
           }
          ],
          "contour": [
           {
            "colorbar": {
             "outlinewidth": 0,
             "ticks": ""
            },
            "colorscale": [
             [
              0,
              "#0d0887"
             ],
             [
              0.1111111111111111,
              "#46039f"
             ],
             [
              0.2222222222222222,
              "#7201a8"
             ],
             [
              0.3333333333333333,
              "#9c179e"
             ],
             [
              0.4444444444444444,
              "#bd3786"
             ],
             [
              0.5555555555555556,
              "#d8576b"
             ],
             [
              0.6666666666666666,
              "#ed7953"
             ],
             [
              0.7777777777777778,
              "#fb9f3a"
             ],
             [
              0.8888888888888888,
              "#fdca26"
             ],
             [
              1,
              "#f0f921"
             ]
            ],
            "type": "contour"
           }
          ],
          "contourcarpet": [
           {
            "colorbar": {
             "outlinewidth": 0,
             "ticks": ""
            },
            "type": "contourcarpet"
           }
          ],
          "heatmap": [
           {
            "colorbar": {
             "outlinewidth": 0,
             "ticks": ""
            },
            "colorscale": [
             [
              0,
              "#0d0887"
             ],
             [
              0.1111111111111111,
              "#46039f"
             ],
             [
              0.2222222222222222,
              "#7201a8"
             ],
             [
              0.3333333333333333,
              "#9c179e"
             ],
             [
              0.4444444444444444,
              "#bd3786"
             ],
             [
              0.5555555555555556,
              "#d8576b"
             ],
             [
              0.6666666666666666,
              "#ed7953"
             ],
             [
              0.7777777777777778,
              "#fb9f3a"
             ],
             [
              0.8888888888888888,
              "#fdca26"
             ],
             [
              1,
              "#f0f921"
             ]
            ],
            "type": "heatmap"
           }
          ],
          "heatmapgl": [
           {
            "colorbar": {
             "outlinewidth": 0,
             "ticks": ""
            },
            "colorscale": [
             [
              0,
              "#0d0887"
             ],
             [
              0.1111111111111111,
              "#46039f"
             ],
             [
              0.2222222222222222,
              "#7201a8"
             ],
             [
              0.3333333333333333,
              "#9c179e"
             ],
             [
              0.4444444444444444,
              "#bd3786"
             ],
             [
              0.5555555555555556,
              "#d8576b"
             ],
             [
              0.6666666666666666,
              "#ed7953"
             ],
             [
              0.7777777777777778,
              "#fb9f3a"
             ],
             [
              0.8888888888888888,
              "#fdca26"
             ],
             [
              1,
              "#f0f921"
             ]
            ],
            "type": "heatmapgl"
           }
          ],
          "histogram": [
           {
            "marker": {
             "pattern": {
              "fillmode": "overlay",
              "size": 10,
              "solidity": 0.2
             }
            },
            "type": "histogram"
           }
          ],
          "histogram2d": [
           {
            "colorbar": {
             "outlinewidth": 0,
             "ticks": ""
            },
            "colorscale": [
             [
              0,
              "#0d0887"
             ],
             [
              0.1111111111111111,
              "#46039f"
             ],
             [
              0.2222222222222222,
              "#7201a8"
             ],
             [
              0.3333333333333333,
              "#9c179e"
             ],
             [
              0.4444444444444444,
              "#bd3786"
             ],
             [
              0.5555555555555556,
              "#d8576b"
             ],
             [
              0.6666666666666666,
              "#ed7953"
             ],
             [
              0.7777777777777778,
              "#fb9f3a"
             ],
             [
              0.8888888888888888,
              "#fdca26"
             ],
             [
              1,
              "#f0f921"
             ]
            ],
            "type": "histogram2d"
           }
          ],
          "histogram2dcontour": [
           {
            "colorbar": {
             "outlinewidth": 0,
             "ticks": ""
            },
            "colorscale": [
             [
              0,
              "#0d0887"
             ],
             [
              0.1111111111111111,
              "#46039f"
             ],
             [
              0.2222222222222222,
              "#7201a8"
             ],
             [
              0.3333333333333333,
              "#9c179e"
             ],
             [
              0.4444444444444444,
              "#bd3786"
             ],
             [
              0.5555555555555556,
              "#d8576b"
             ],
             [
              0.6666666666666666,
              "#ed7953"
             ],
             [
              0.7777777777777778,
              "#fb9f3a"
             ],
             [
              0.8888888888888888,
              "#fdca26"
             ],
             [
              1,
              "#f0f921"
             ]
            ],
            "type": "histogram2dcontour"
           }
          ],
          "mesh3d": [
           {
            "colorbar": {
             "outlinewidth": 0,
             "ticks": ""
            },
            "type": "mesh3d"
           }
          ],
          "parcoords": [
           {
            "line": {
             "colorbar": {
              "outlinewidth": 0,
              "ticks": ""
             }
            },
            "type": "parcoords"
           }
          ],
          "pie": [
           {
            "automargin": true,
            "type": "pie"
           }
          ],
          "scatter": [
           {
            "marker": {
             "colorbar": {
              "outlinewidth": 0,
              "ticks": ""
             }
            },
            "type": "scatter"
           }
          ],
          "scatter3d": [
           {
            "line": {
             "colorbar": {
              "outlinewidth": 0,
              "ticks": ""
             }
            },
            "marker": {
             "colorbar": {
              "outlinewidth": 0,
              "ticks": ""
             }
            },
            "type": "scatter3d"
           }
          ],
          "scattercarpet": [
           {
            "marker": {
             "colorbar": {
              "outlinewidth": 0,
              "ticks": ""
             }
            },
            "type": "scattercarpet"
           }
          ],
          "scattergeo": [
           {
            "marker": {
             "colorbar": {
              "outlinewidth": 0,
              "ticks": ""
             }
            },
            "type": "scattergeo"
           }
          ],
          "scattergl": [
           {
            "marker": {
             "colorbar": {
              "outlinewidth": 0,
              "ticks": ""
             }
            },
            "type": "scattergl"
           }
          ],
          "scattermapbox": [
           {
            "marker": {
             "colorbar": {
              "outlinewidth": 0,
              "ticks": ""
             }
            },
            "type": "scattermapbox"
           }
          ],
          "scatterpolar": [
           {
            "marker": {
             "colorbar": {
              "outlinewidth": 0,
              "ticks": ""
             }
            },
            "type": "scatterpolar"
           }
          ],
          "scatterpolargl": [
           {
            "marker": {
             "colorbar": {
              "outlinewidth": 0,
              "ticks": ""
             }
            },
            "type": "scatterpolargl"
           }
          ],
          "scatterternary": [
           {
            "marker": {
             "colorbar": {
              "outlinewidth": 0,
              "ticks": ""
             }
            },
            "type": "scatterternary"
           }
          ],
          "surface": [
           {
            "colorbar": {
             "outlinewidth": 0,
             "ticks": ""
            },
            "colorscale": [
             [
              0,
              "#0d0887"
             ],
             [
              0.1111111111111111,
              "#46039f"
             ],
             [
              0.2222222222222222,
              "#7201a8"
             ],
             [
              0.3333333333333333,
              "#9c179e"
             ],
             [
              0.4444444444444444,
              "#bd3786"
             ],
             [
              0.5555555555555556,
              "#d8576b"
             ],
             [
              0.6666666666666666,
              "#ed7953"
             ],
             [
              0.7777777777777778,
              "#fb9f3a"
             ],
             [
              0.8888888888888888,
              "#fdca26"
             ],
             [
              1,
              "#f0f921"
             ]
            ],
            "type": "surface"
           }
          ],
          "table": [
           {
            "cells": {
             "fill": {
              "color": "#EBF0F8"
             },
             "line": {
              "color": "white"
             }
            },
            "header": {
             "fill": {
              "color": "#C8D4E3"
             },
             "line": {
              "color": "white"
             }
            },
            "type": "table"
           }
          ]
         },
         "layout": {
          "annotationdefaults": {
           "arrowcolor": "#2a3f5f",
           "arrowhead": 0,
           "arrowwidth": 1
          },
          "autotypenumbers": "strict",
          "coloraxis": {
           "colorbar": {
            "outlinewidth": 0,
            "ticks": ""
           }
          },
          "colorscale": {
           "diverging": [
            [
             0,
             "#8e0152"
            ],
            [
             0.1,
             "#c51b7d"
            ],
            [
             0.2,
             "#de77ae"
            ],
            [
             0.3,
             "#f1b6da"
            ],
            [
             0.4,
             "#fde0ef"
            ],
            [
             0.5,
             "#f7f7f7"
            ],
            [
             0.6,
             "#e6f5d0"
            ],
            [
             0.7,
             "#b8e186"
            ],
            [
             0.8,
             "#7fbc41"
            ],
            [
             0.9,
             "#4d9221"
            ],
            [
             1,
             "#276419"
            ]
           ],
           "sequential": [
            [
             0,
             "#0d0887"
            ],
            [
             0.1111111111111111,
             "#46039f"
            ],
            [
             0.2222222222222222,
             "#7201a8"
            ],
            [
             0.3333333333333333,
             "#9c179e"
            ],
            [
             0.4444444444444444,
             "#bd3786"
            ],
            [
             0.5555555555555556,
             "#d8576b"
            ],
            [
             0.6666666666666666,
             "#ed7953"
            ],
            [
             0.7777777777777778,
             "#fb9f3a"
            ],
            [
             0.8888888888888888,
             "#fdca26"
            ],
            [
             1,
             "#f0f921"
            ]
           ],
           "sequentialminus": [
            [
             0,
             "#0d0887"
            ],
            [
             0.1111111111111111,
             "#46039f"
            ],
            [
             0.2222222222222222,
             "#7201a8"
            ],
            [
             0.3333333333333333,
             "#9c179e"
            ],
            [
             0.4444444444444444,
             "#bd3786"
            ],
            [
             0.5555555555555556,
             "#d8576b"
            ],
            [
             0.6666666666666666,
             "#ed7953"
            ],
            [
             0.7777777777777778,
             "#fb9f3a"
            ],
            [
             0.8888888888888888,
             "#fdca26"
            ],
            [
             1,
             "#f0f921"
            ]
           ]
          },
          "colorway": [
           "#636efa",
           "#EF553B",
           "#00cc96",
           "#ab63fa",
           "#FFA15A",
           "#19d3f3",
           "#FF6692",
           "#B6E880",
           "#FF97FF",
           "#FECB52"
          ],
          "font": {
           "color": "#2a3f5f"
          },
          "geo": {
           "bgcolor": "white",
           "lakecolor": "white",
           "landcolor": "#E5ECF6",
           "showlakes": true,
           "showland": true,
           "subunitcolor": "white"
          },
          "hoverlabel": {
           "align": "left"
          },
          "hovermode": "closest",
          "mapbox": {
           "style": "light"
          },
          "paper_bgcolor": "white",
          "plot_bgcolor": "#E5ECF6",
          "polar": {
           "angularaxis": {
            "gridcolor": "white",
            "linecolor": "white",
            "ticks": ""
           },
           "bgcolor": "#E5ECF6",
           "radialaxis": {
            "gridcolor": "white",
            "linecolor": "white",
            "ticks": ""
           }
          },
          "scene": {
           "xaxis": {
            "backgroundcolor": "#E5ECF6",
            "gridcolor": "white",
            "gridwidth": 2,
            "linecolor": "white",
            "showbackground": true,
            "ticks": "",
            "zerolinecolor": "white"
           },
           "yaxis": {
            "backgroundcolor": "#E5ECF6",
            "gridcolor": "white",
            "gridwidth": 2,
            "linecolor": "white",
            "showbackground": true,
            "ticks": "",
            "zerolinecolor": "white"
           },
           "zaxis": {
            "backgroundcolor": "#E5ECF6",
            "gridcolor": "white",
            "gridwidth": 2,
            "linecolor": "white",
            "showbackground": true,
            "ticks": "",
            "zerolinecolor": "white"
           }
          },
          "shapedefaults": {
           "line": {
            "color": "#2a3f5f"
           }
          },
          "ternary": {
           "aaxis": {
            "gridcolor": "white",
            "linecolor": "white",
            "ticks": ""
           },
           "baxis": {
            "gridcolor": "white",
            "linecolor": "white",
            "ticks": ""
           },
           "bgcolor": "#E5ECF6",
           "caxis": {
            "gridcolor": "white",
            "linecolor": "white",
            "ticks": ""
           }
          },
          "title": {
           "x": 0.05
          },
          "xaxis": {
           "automargin": true,
           "gridcolor": "white",
           "linecolor": "white",
           "ticks": "",
           "title": {
            "standoff": 15
           },
           "zerolinecolor": "white",
           "zerolinewidth": 2
          },
          "yaxis": {
           "automargin": true,
           "gridcolor": "white",
           "linecolor": "white",
           "ticks": "",
           "title": {
            "standoff": 15
           },
           "zerolinecolor": "white",
           "zerolinewidth": 2
          }
         }
        },
        "xaxis": {
         "anchor": "y",
         "autorange": true,
         "constrain": "domain",
         "domain": [
          0.4997568408819482,
          0.5002431591180517
         ],
         "range": [
          0.5,
          15
         ],
         "scaleanchor": "y",
         "side": "top",
         "title": {
          "text": "Arrondisement"
         },
         "type": "linear"
        },
        "yaxis": {
         "anchor": "x",
         "autorange": true,
         "constrain": "domain",
         "domain": [
          0,
          1
         ],
         "range": [
          13332.5,
          -0.5
         ],
         "title": {
          "text": "Nombre de pièces"
         },
         "type": "linear"
        }
       }
      },
      "image/png": "[encoded data removed]",
      "text/html": [
       "<div>                            <div id=\"253f1a8c-94ba-43f0-8b6b-5253eb4561eb\" class=\"plotly-graph-div\" style=\"height:525px; width:100%;\"></div>            <script type=\"text/javascript\">                require([\"plotly\"], function(Plotly) {                    window.PLOTLYENV=window.PLOTLYENV || {};                                    if (document.getElementById(\"253f1a8c-94ba-43f0-8b6b-5253eb4561eb\")) {                    Plotly.newPlot(                        \"253f1a8c-94ba-43f0-8b6b-5253eb4561eb\",                        [{\"coloraxis\":\"coloraxis\",\"name\":\"0\",\"x\":[1,2,3,4,5,6,7,8,9,10,11,12,14],\"y\":[0,1,2,3,4,5,6,7,8,9,10,11,12,13,14,15,16,17,18,19,20,75,475,1875,1975,2075,9580],\"z\":[[7812.5,0.0,7032.786885245901,9833.333333333332,0.0,0.0,0.0,0.0,0.0,0.0,0.0,0.0,0.0],[13870.967741935485,14903.059824782486,18077.830188679247,11127.749028248712,10255.952380952382,0.0,1046.774193548387,0.0,0.0,0.0,0.0,1629.032258064516,1400.0],[13025.393044252694,13935.366866380888,12716.016331386172,0.0,0.0,0.0,0.0,0.0,0.0,0.0,0.0,0.0,0.0],[12190.466377422901,13743.33454735866,12813.737980404645,12447.385204081633,14251.41723356009,0.0,0.0,0.0,0.0,0.0,0.0,0.0,0.0],[13798.111266767548,15227.261118338789,15986.428304859077,15337.026834440365,3424.6575342465753,13043.478260869566,0.0,0.0,0.0,0.0,0.0,0.0,0.0],[12749.366580150785,13773.58412958758,15323.174801835627,15437.5,14221.153846153846,0.0,25000.0,0.0,0.0,0.0,0.0,0.0,0.0],[16462.52622377622,14485.80769253326,18296.909432915494,15591.3693728186,0.0,14476.744186046511,13862.967496396479,0.0,0.0,0.0,0.0,0.0,0.0],[14549.475962633858,15356.702657286762,14863.64478064895,15809.52380952381,18153.06807197763,17222.483197224832,15469.37321937322,0.0,1527.027027027027,0.0,0.0,0.0,0.0],[11835.001409266115,15942.139550338727,13831.5976110489,14284.252154809292,16152.679022572673,16283.062385693964,0.0,11238.095238095239,1903.030303030303,0.0,0.0,0.0,0.0],[12417.604442658794,12888.525876330947,11949.463668706796,11878.528099003315,12143.45143059747,12140.14466546112,0.0,0.0,0.0,0.0,0.0,0.0,0.0],[11464.59655295734,10909.743128527607,11264.72302784334,10752.22358095677,11078.076804972054,9522.034088111921,0.0,0.0,0.0,0.0,0.0,0.0,0.0],[11747.495289560185,11665.557700471358,11162.845218131364,10855.277084081496,11670.171571547718,11393.442622950819,8751.15207373272,0.0,0.0,0.0,0.0,0.0,0.0],[11251.961076172656,10641.181712295043,10175.63236387231,10471.07792822839,8855.836120098773,11438.84892086331,0.0,11218.75,0.0,0.0,0.0,12220.338983050848,0.0],[12082.456096422922,10374.618442351863,10274.32720044112,10089.938712095001,11147.643628396447,14611.498755543575,4320.327732574251,0.0,0.0,0.0,0.0,0.0,0.0],[11504.077566055761,11131.002408439435,10889.424607242292,14258.650027730735,16748.566367557287,7001.374586829392,10481.283422459894,6000.0,0.0,0.0,7333.333333333333,0.0,0.0],[12082.841452521337,11119.783376253414,10936.412422688267,11899.955548297743,10688.241069426836,5375.572400307479,0.0,0.0,0.0,0.0,7333.333333333333,0.0,0.0],[13272.278052963553,10929.471900335357,12226.045235618909,11581.04254304849,12643.29272281179,13879.559659065522,13590.90909090909,15129.411764705883,13507.692307692309,0.0,0.0,0.0,25.666666666666668],[12825.161033869312,10865.808662167496,12188.356176681711,10198.856375561025,11638.220869051884,12741.326909481068,0.0,0.0,0.0,0.0,0.0,0.0,0.0],[10381.732929843842,10451.134759553062,10207.497385798762,10667.430982251664,11705.757835281915,11896.551724137931,0.0,0.0,0.0,0.0,0.0,0.0,0.0],[10046.370185499916,9648.039519029764,9321.83225364236,8810.04278095335,8209.89443789863,8992.805755395684,13771.213073538654,0.0,0.0,0.0,0.0,0.0,0.0],[10615.87575661014,10162.085002033744,9765.940638716003,9188.797188911392,11200.434782608696,11707.141110295915,0.0,8701.298701298701,0.0,8571.42857142857,0.0,0.0,0.0],[12028.218694885361,12704.918032786885,9381.074899942825,14076.08695652174,0.0,0.0,0.0,0.0,0.0,0.0,0.0,0.0,0.0],[0.0,18444.444444444445,0.0,0.0,0.0,0.0,0.0,0.0,0.0,0.0,0.0,0.0,0.0],[0.0,12500.0,12878.787878787878,0.0,0.0,0.0,0.0,0.0,0.0,0.0,0.0,0.0,0.0],[0.0,9300.0,8291.666666666666,9081.081081081082,0.0,0.0,0.0,0.0,0.0,0.0,0.0,0.0,0.0],[12500.0,0.0,9454.545454545454,0.0,7526.315789473684,0.0,0.0,0.0,0.0,0.0,0.0,0.0,0.0],[16150.119170197722,14510.611082039653,10746.281800391389,12493.922764227642,12882.919470874913,14477.132579650566,0.0,22064.05693950178,24488.636363636364,0.0,0.0,0.0,0.0]],\"type\":\"heatmap\",\"xaxis\":\"x\",\"yaxis\":\"y\",\"hovertemplate\":\"Arrondisement: %{x}<br>Nombre de pi\\u00e8ces: %{y}<br>Prix au m2: %{z}<extra></extra>\"}],                        {\"template\":{\"data\":{\"bar\":[{\"error_x\":{\"color\":\"#2a3f5f\"},\"error_y\":{\"color\":\"#2a3f5f\"},\"marker\":{\"line\":{\"color\":\"#E5ECF6\",\"width\":0.5},\"pattern\":{\"fillmode\":\"overlay\",\"size\":10,\"solidity\":0.2}},\"type\":\"bar\"}],\"barpolar\":[{\"marker\":{\"line\":{\"color\":\"#E5ECF6\",\"width\":0.5},\"pattern\":{\"fillmode\":\"overlay\",\"size\":10,\"solidity\":0.2}},\"type\":\"barpolar\"}],\"carpet\":[{\"aaxis\":{\"endlinecolor\":\"#2a3f5f\",\"gridcolor\":\"white\",\"linecolor\":\"white\",\"minorgridcolor\":\"white\",\"startlinecolor\":\"#2a3f5f\"},\"baxis\":{\"endlinecolor\":\"#2a3f5f\",\"gridcolor\":\"white\",\"linecolor\":\"white\",\"minorgridcolor\":\"white\",\"startlinecolor\":\"#2a3f5f\"},\"type\":\"carpet\"}],\"choropleth\":[{\"colorbar\":{\"outlinewidth\":0,\"ticks\":\"\"},\"type\":\"choropleth\"}],\"contour\":[{\"colorbar\":{\"outlinewidth\":0,\"ticks\":\"\"},\"colorscale\":[[0.0,\"#0d0887\"],[0.1111111111111111,\"#46039f\"],[0.2222222222222222,\"#7201a8\"],[0.3333333333333333,\"#9c179e\"],[0.4444444444444444,\"#bd3786\"],[0.5555555555555556,\"#d8576b\"],[0.6666666666666666,\"#ed7953\"],[0.7777777777777778,\"#fb9f3a\"],[0.8888888888888888,\"#fdca26\"],[1.0,\"#f0f921\"]],\"type\":\"contour\"}],\"contourcarpet\":[{\"colorbar\":{\"outlinewidth\":0,\"ticks\":\"\"},\"type\":\"contourcarpet\"}],\"heatmap\":[{\"colorbar\":{\"outlinewidth\":0,\"ticks\":\"\"},\"colorscale\":[[0.0,\"#0d0887\"],[0.1111111111111111,\"#46039f\"],[0.2222222222222222,\"#7201a8\"],[0.3333333333333333,\"#9c179e\"],[0.4444444444444444,\"#bd3786\"],[0.5555555555555556,\"#d8576b\"],[0.6666666666666666,\"#ed7953\"],[0.7777777777777778,\"#fb9f3a\"],[0.8888888888888888,\"#fdca26\"],[1.0,\"#f0f921\"]],\"type\":\"heatmap\"}],\"heatmapgl\":[{\"colorbar\":{\"outlinewidth\":0,\"ticks\":\"\"},\"colorscale\":[[0.0,\"#0d0887\"],[0.1111111111111111,\"#46039f\"],[0.2222222222222222,\"#7201a8\"],[0.3333333333333333,\"#9c179e\"],[0.4444444444444444,\"#bd3786\"],[0.5555555555555556,\"#d8576b\"],[0.6666666666666666,\"#ed7953\"],[0.7777777777777778,\"#fb9f3a\"],[0.8888888888888888,\"#fdca26\"],[1.0,\"#f0f921\"]],\"type\":\"heatmapgl\"}],\"histogram\":[{\"marker\":{\"pattern\":{\"fillmode\":\"overlay\",\"size\":10,\"solidity\":0.2}},\"type\":\"histogram\"}],\"histogram2d\":[{\"colorbar\":{\"outlinewidth\":0,\"ticks\":\"\"},\"colorscale\":[[0.0,\"#0d0887\"],[0.1111111111111111,\"#46039f\"],[0.2222222222222222,\"#7201a8\"],[0.3333333333333333,\"#9c179e\"],[0.4444444444444444,\"#bd3786\"],[0.5555555555555556,\"#d8576b\"],[0.6666666666666666,\"#ed7953\"],[0.7777777777777778,\"#fb9f3a\"],[0.8888888888888888,\"#fdca26\"],[1.0,\"#f0f921\"]],\"type\":\"histogram2d\"}],\"histogram2dcontour\":[{\"colorbar\":{\"outlinewidth\":0,\"ticks\":\"\"},\"colorscale\":[[0.0,\"#0d0887\"],[0.1111111111111111,\"#46039f\"],[0.2222222222222222,\"#7201a8\"],[0.3333333333333333,\"#9c179e\"],[0.4444444444444444,\"#bd3786\"],[0.5555555555555556,\"#d8576b\"],[0.6666666666666666,\"#ed7953\"],[0.7777777777777778,\"#fb9f3a\"],[0.8888888888888888,\"#fdca26\"],[1.0,\"#f0f921\"]],\"type\":\"histogram2dcontour\"}],\"mesh3d\":[{\"colorbar\":{\"outlinewidth\":0,\"ticks\":\"\"},\"type\":\"mesh3d\"}],\"parcoords\":[{\"line\":{\"colorbar\":{\"outlinewidth\":0,\"ticks\":\"\"}},\"type\":\"parcoords\"}],\"pie\":[{\"automargin\":true,\"type\":\"pie\"}],\"scatter\":[{\"marker\":{\"colorbar\":{\"outlinewidth\":0,\"ticks\":\"\"}},\"type\":\"scatter\"}],\"scatter3d\":[{\"line\":{\"colorbar\":{\"outlinewidth\":0,\"ticks\":\"\"}},\"marker\":{\"colorbar\":{\"outlinewidth\":0,\"ticks\":\"\"}},\"type\":\"scatter3d\"}],\"scattercarpet\":[{\"marker\":{\"colorbar\":{\"outlinewidth\":0,\"ticks\":\"\"}},\"type\":\"scattercarpet\"}],\"scattergeo\":[{\"marker\":{\"colorbar\":{\"outlinewidth\":0,\"ticks\":\"\"}},\"type\":\"scattergeo\"}],\"scattergl\":[{\"marker\":{\"colorbar\":{\"outlinewidth\":0,\"ticks\":\"\"}},\"type\":\"scattergl\"}],\"scattermapbox\":[{\"marker\":{\"colorbar\":{\"outlinewidth\":0,\"ticks\":\"\"}},\"type\":\"scattermapbox\"}],\"scatterpolar\":[{\"marker\":{\"colorbar\":{\"outlinewidth\":0,\"ticks\":\"\"}},\"type\":\"scatterpolar\"}],\"scatterpolargl\":[{\"marker\":{\"colorbar\":{\"outlinewidth\":0,\"ticks\":\"\"}},\"type\":\"scatterpolargl\"}],\"scatterternary\":[{\"marker\":{\"colorbar\":{\"outlinewidth\":0,\"ticks\":\"\"}},\"type\":\"scatterternary\"}],\"surface\":[{\"colorbar\":{\"outlinewidth\":0,\"ticks\":\"\"},\"colorscale\":[[0.0,\"#0d0887\"],[0.1111111111111111,\"#46039f\"],[0.2222222222222222,\"#7201a8\"],[0.3333333333333333,\"#9c179e\"],[0.4444444444444444,\"#bd3786\"],[0.5555555555555556,\"#d8576b\"],[0.6666666666666666,\"#ed7953\"],[0.7777777777777778,\"#fb9f3a\"],[0.8888888888888888,\"#fdca26\"],[1.0,\"#f0f921\"]],\"type\":\"surface\"}],\"table\":[{\"cells\":{\"fill\":{\"color\":\"#EBF0F8\"},\"line\":{\"color\":\"white\"}},\"header\":{\"fill\":{\"color\":\"#C8D4E3\"},\"line\":{\"color\":\"white\"}},\"type\":\"table\"}]},\"layout\":{\"annotationdefaults\":{\"arrowcolor\":\"#2a3f5f\",\"arrowhead\":0,\"arrowwidth\":1},\"autotypenumbers\":\"strict\",\"coloraxis\":{\"colorbar\":{\"outlinewidth\":0,\"ticks\":\"\"}},\"colorscale\":{\"diverging\":[[0,\"#8e0152\"],[0.1,\"#c51b7d\"],[0.2,\"#de77ae\"],[0.3,\"#f1b6da\"],[0.4,\"#fde0ef\"],[0.5,\"#f7f7f7\"],[0.6,\"#e6f5d0\"],[0.7,\"#b8e186\"],[0.8,\"#7fbc41\"],[0.9,\"#4d9221\"],[1,\"#276419\"]],\"sequential\":[[0.0,\"#0d0887\"],[0.1111111111111111,\"#46039f\"],[0.2222222222222222,\"#7201a8\"],[0.3333333333333333,\"#9c179e\"],[0.4444444444444444,\"#bd3786\"],[0.5555555555555556,\"#d8576b\"],[0.6666666666666666,\"#ed7953\"],[0.7777777777777778,\"#fb9f3a\"],[0.8888888888888888,\"#fdca26\"],[1.0,\"#f0f921\"]],\"sequentialminus\":[[0.0,\"#0d0887\"],[0.1111111111111111,\"#46039f\"],[0.2222222222222222,\"#7201a8\"],[0.3333333333333333,\"#9c179e\"],[0.4444444444444444,\"#bd3786\"],[0.5555555555555556,\"#d8576b\"],[0.6666666666666666,\"#ed7953\"],[0.7777777777777778,\"#fb9f3a\"],[0.8888888888888888,\"#fdca26\"],[1.0,\"#f0f921\"]]},\"colorway\":[\"#636efa\",\"#EF553B\",\"#00cc96\",\"#ab63fa\",\"#FFA15A\",\"#19d3f3\",\"#FF6692\",\"#B6E880\",\"#FF97FF\",\"#FECB52\"],\"font\":{\"color\":\"#2a3f5f\"},\"geo\":{\"bgcolor\":\"white\",\"lakecolor\":\"white\",\"landcolor\":\"#E5ECF6\",\"showlakes\":true,\"showland\":true,\"subunitcolor\":\"white\"},\"hoverlabel\":{\"align\":\"left\"},\"hovermode\":\"closest\",\"mapbox\":{\"style\":\"light\"},\"paper_bgcolor\":\"white\",\"plot_bgcolor\":\"#E5ECF6\",\"polar\":{\"angularaxis\":{\"gridcolor\":\"white\",\"linecolor\":\"white\",\"ticks\":\"\"},\"bgcolor\":\"#E5ECF6\",\"radialaxis\":{\"gridcolor\":\"white\",\"linecolor\":\"white\",\"ticks\":\"\"}},\"scene\":{\"xaxis\":{\"backgroundcolor\":\"#E5ECF6\",\"gridcolor\":\"white\",\"gridwidth\":2,\"linecolor\":\"white\",\"showbackground\":true,\"ticks\":\"\",\"zerolinecolor\":\"white\"},\"yaxis\":{\"backgroundcolor\":\"#E5ECF6\",\"gridcolor\":\"white\",\"gridwidth\":2,\"linecolor\":\"white\",\"showbackground\":true,\"ticks\":\"\",\"zerolinecolor\":\"white\"},\"zaxis\":{\"backgroundcolor\":\"#E5ECF6\",\"gridcolor\":\"white\",\"gridwidth\":2,\"linecolor\":\"white\",\"showbackground\":true,\"ticks\":\"\",\"zerolinecolor\":\"white\"}},\"shapedefaults\":{\"line\":{\"color\":\"#2a3f5f\"}},\"ternary\":{\"aaxis\":{\"gridcolor\":\"white\",\"linecolor\":\"white\",\"ticks\":\"\"},\"baxis\":{\"gridcolor\":\"white\",\"linecolor\":\"white\",\"ticks\":\"\"},\"bgcolor\":\"#E5ECF6\",\"caxis\":{\"gridcolor\":\"white\",\"linecolor\":\"white\",\"ticks\":\"\"}},\"title\":{\"x\":0.05},\"xaxis\":{\"automargin\":true,\"gridcolor\":\"white\",\"linecolor\":\"white\",\"ticks\":\"\",\"title\":{\"standoff\":15},\"zerolinecolor\":\"white\",\"zerolinewidth\":2},\"yaxis\":{\"automargin\":true,\"gridcolor\":\"white\",\"linecolor\":\"white\",\"ticks\":\"\",\"title\":{\"standoff\":15},\"zerolinecolor\":\"white\",\"zerolinewidth\":2}}},\"xaxis\":{\"anchor\":\"y\",\"domain\":[0.0,1.0],\"scaleanchor\":\"y\",\"constrain\":\"domain\",\"title\":{\"text\":\"Arrondisement\"},\"side\":\"top\"},\"yaxis\":{\"anchor\":\"x\",\"domain\":[0.0,1.0],\"autorange\":\"reversed\",\"constrain\":\"domain\",\"title\":{\"text\":\"Nombre de pi\\u00e8ces\"}},\"coloraxis\":{\"colorbar\":{\"title\":{\"text\":\"Prix au m2\"}},\"colorscale\":[[0.0,\"#0d0887\"],[0.1111111111111111,\"#46039f\"],[0.2222222222222222,\"#7201a8\"],[0.3333333333333333,\"#9c179e\"],[0.4444444444444444,\"#bd3786\"],[0.5555555555555556,\"#d8576b\"],[0.6666666666666666,\"#ed7953\"],[0.7777777777777778,\"#fb9f3a\"],[0.8888888888888888,\"#fdca26\"],[1.0,\"#f0f921\"]]},\"margin\":{\"t\":60}},                        {\"responsive\": true}                    ).then(function(){\n",
       "                            \n",
       "var gd = document.getElementById('253f1a8c-94ba-43f0-8b6b-5253eb4561eb');\n",
       "var x = new MutationObserver(function (mutations, observer) {{\n",
       "        var display = window.getComputedStyle(gd).display;\n",
       "        if (!display || display === 'none') {{\n",
       "            console.log([gd, 'removed!']);\n",
       "            Plotly.purge(gd);\n",
       "            observer.disconnect();\n",
       "        }}\n",
       "}});\n",
       "\n",
       "// Listen for the removal of the full notebook cells\n",
       "var notebookContainer = gd.closest('#notebook-container');\n",
       "if (notebookContainer) {{\n",
       "    x.observe(notebookContainer, {childList: true});\n",
       "}}\n",
       "\n",
       "// Listen for the clearing of the current output cell\n",
       "var outputEl = gd.closest('.output');\n",
       "if (outputEl) {{\n",
       "    x.observe(outputEl, {childList: true});\n",
       "}}\n",
       "\n",
       "                        })                };                });            </script>        </div>"
      ]
     },
     "metadata": {},
     "output_type": "display_data"
    }
   ],
   "source": [
    "fig = px.imshow(data,\n",
    "                labels=dict(x=\"Arrondisement\", y=\"Nombre de pièces\", color=\"Prix au m2\"),\n",
    "                x=df_heatmap.columns,\n",
    "                y=df_heatmap.index\n",
    "               )\n",
    "fig.update_xaxes(side=\"top\")\n",
    "fig.show()"
   ]
  },
  {
   "cell_type": "code",
   "execution_count": 86,
   "metadata": {},
   "outputs": [
    {
     "data": {
      "text/html": [
       "<div>\n",
       "<style scoped>\n",
       "    .dataframe tbody tr th:only-of-type {\n",
       "        vertical-align: middle;\n",
       "    }\n",
       "\n",
       "    .dataframe tbody tr th {\n",
       "        vertical-align: top;\n",
       "    }\n",
       "\n",
       "    .dataframe thead th {\n",
       "        text-align: right;\n",
       "    }\n",
       "</style>\n",
       "<table border=\"1\" class=\"dataframe\">\n",
       "  <thead>\n",
       "    <tr style=\"text-align: right;\">\n",
       "      <th></th>\n",
       "      <th>0</th>\n",
       "      <th>1</th>\n",
       "      <th>2</th>\n",
       "      <th>3</th>\n",
       "      <th>4</th>\n",
       "      <th>5</th>\n",
       "      <th>6</th>\n",
       "      <th>7</th>\n",
       "      <th>8</th>\n",
       "      <th>9</th>\n",
       "      <th>10</th>\n",
       "      <th>11</th>\n",
       "      <th>12</th>\n",
       "    </tr>\n",
       "  </thead>\n",
       "  <tbody>\n",
       "    <tr>\n",
       "      <th>0</th>\n",
       "      <td>3815.226</td>\n",
       "      <td>9994.081</td>\n",
       "      <td>10455.683</td>\n",
       "      <td>10219.371</td>\n",
       "      <td>12006.636</td>\n",
       "      <td>14611.499</td>\n",
       "      <td>10723.950</td>\n",
       "      <td>nan</td>\n",
       "      <td>nan</td>\n",
       "      <td>nan</td>\n",
       "      <td>nan</td>\n",
       "      <td>nan</td>\n",
       "      <td>nan</td>\n",
       "    </tr>\n",
       "    <tr>\n",
       "      <th>1</th>\n",
       "      <td>13771.213</td>\n",
       "      <td>8829.212</td>\n",
       "      <td>9612.469</td>\n",
       "      <td>9271.830</td>\n",
       "      <td>10159.209</td>\n",
       "      <td>8992.806</td>\n",
       "      <td>8209.894</td>\n",
       "      <td>nan</td>\n",
       "      <td>nan</td>\n",
       "      <td>nan</td>\n",
       "      <td>nan</td>\n",
       "      <td>nan</td>\n",
       "      <td>nan</td>\n",
       "    </tr>\n",
       "    <tr>\n",
       "      <th>2</th>\n",
       "      <td>nan</td>\n",
       "      <td>10471.078</td>\n",
       "      <td>10575.051</td>\n",
       "      <td>10197.812</td>\n",
       "      <td>11251.961</td>\n",
       "      <td>11438.849</td>\n",
       "      <td>8855.836</td>\n",
       "      <td>11218.750</td>\n",
       "      <td>nan</td>\n",
       "      <td>nan</td>\n",
       "      <td>nan</td>\n",
       "      <td>12220.339</td>\n",
       "      <td>nan</td>\n",
       "    </tr>\n",
       "    <tr>\n",
       "      <th>3</th>\n",
       "      <td>nan</td>\n",
       "      <td>9129.255</td>\n",
       "      <td>10164.753</td>\n",
       "      <td>9748.336</td>\n",
       "      <td>10506.690</td>\n",
       "      <td>11707.141</td>\n",
       "      <td>11200.435</td>\n",
       "      <td>8701.299</td>\n",
       "      <td>8571.429</td>\n",
       "      <td>nan</td>\n",
       "      <td>nan</td>\n",
       "      <td>nan</td>\n",
       "      <td>nan</td>\n",
       "    </tr>\n",
       "    <tr>\n",
       "      <th>4</th>\n",
       "      <td>nan</td>\n",
       "      <td>10667.431</td>\n",
       "      <td>10419.826</td>\n",
       "      <td>10167.627</td>\n",
       "      <td>10381.733</td>\n",
       "      <td>11896.552</td>\n",
       "      <td>11705.758</td>\n",
       "      <td>nan</td>\n",
       "      <td>nan</td>\n",
       "      <td>nan</td>\n",
       "      <td>nan</td>\n",
       "      <td>nan</td>\n",
       "      <td>nan</td>\n",
       "    </tr>\n",
       "    <tr>\n",
       "      <th>5</th>\n",
       "      <td>15469.373</td>\n",
       "      <td>15809.524</td>\n",
       "      <td>15306.491</td>\n",
       "      <td>14863.645</td>\n",
       "      <td>14549.476</td>\n",
       "      <td>17222.483</td>\n",
       "      <td>18153.068</td>\n",
       "      <td>nan</td>\n",
       "      <td>nan</td>\n",
       "      <td>nan</td>\n",
       "      <td>nan</td>\n",
       "      <td>nan</td>\n",
       "      <td>1527.027</td>\n",
       "    </tr>\n",
       "    <tr>\n",
       "      <th>6</th>\n",
       "      <td>nan</td>\n",
       "      <td>12034.337</td>\n",
       "      <td>12836.374</td>\n",
       "      <td>11945.686</td>\n",
       "      <td>12380.141</td>\n",
       "      <td>12140.145</td>\n",
       "      <td>12143.451</td>\n",
       "      <td>nan</td>\n",
       "      <td>nan</td>\n",
       "      <td>nan</td>\n",
       "      <td>nan</td>\n",
       "      <td>nan</td>\n",
       "      <td>nan</td>\n",
       "    </tr>\n",
       "    <tr>\n",
       "      <th>7</th>\n",
       "      <td>25000.000</td>\n",
       "      <td>15437.500</td>\n",
       "      <td>13766.590</td>\n",
       "      <td>15323.175</td>\n",
       "      <td>12749.367</td>\n",
       "      <td>nan</td>\n",
       "      <td>14221.154</td>\n",
       "      <td>nan</td>\n",
       "      <td>nan</td>\n",
       "      <td>nan</td>\n",
       "      <td>nan</td>\n",
       "      <td>nan</td>\n",
       "      <td>nan</td>\n",
       "    </tr>\n",
       "    <tr>\n",
       "      <th>8</th>\n",
       "      <td>nan</td>\n",
       "      <td>12493.923</td>\n",
       "      <td>14634.911</td>\n",
       "      <td>10746.282</td>\n",
       "      <td>16150.119</td>\n",
       "      <td>14477.133</td>\n",
       "      <td>12882.919</td>\n",
       "      <td>22064.057</td>\n",
       "      <td>nan</td>\n",
       "      <td>nan</td>\n",
       "      <td>nan</td>\n",
       "      <td>nan</td>\n",
       "      <td>24488.636</td>\n",
       "    </tr>\n",
       "    <tr>\n",
       "      <th>9</th>\n",
       "      <td>nan</td>\n",
       "      <td>11843.707</td>\n",
       "      <td>11119.783</td>\n",
       "      <td>10912.631</td>\n",
       "      <td>12057.918</td>\n",
       "      <td>4953.861</td>\n",
       "      <td>10688.241</td>\n",
       "      <td>nan</td>\n",
       "      <td>nan</td>\n",
       "      <td>7333.333</td>\n",
       "      <td>nan</td>\n",
       "      <td>nan</td>\n",
       "      <td>nan</td>\n",
       "    </tr>\n",
       "    <tr>\n",
       "      <th>10</th>\n",
       "      <td>nan</td>\n",
       "      <td>9618.933</td>\n",
       "      <td>10860.753</td>\n",
       "      <td>12188.356</td>\n",
       "      <td>12777.775</td>\n",
       "      <td>12741.327</td>\n",
       "      <td>11638.221</td>\n",
       "      <td>nan</td>\n",
       "      <td>nan</td>\n",
       "      <td>nan</td>\n",
       "      <td>nan</td>\n",
       "      <td>nan</td>\n",
       "      <td>nan</td>\n",
       "    </tr>\n",
       "    <tr>\n",
       "      <th>11</th>\n",
       "      <td>10481.283</td>\n",
       "      <td>14065.056</td>\n",
       "      <td>11180.716</td>\n",
       "      <td>10922.681</td>\n",
       "      <td>11504.078</td>\n",
       "      <td>7001.375</td>\n",
       "      <td>16748.566</td>\n",
       "      <td>6000.000</td>\n",
       "      <td>nan</td>\n",
       "      <td>7333.333</td>\n",
       "      <td>nan</td>\n",
       "      <td>nan</td>\n",
       "      <td>nan</td>\n",
       "    </tr>\n",
       "    <tr>\n",
       "      <th>12</th>\n",
       "      <td>1046.774</td>\n",
       "      <td>11489.829</td>\n",
       "      <td>14903.060</td>\n",
       "      <td>18077.830</td>\n",
       "      <td>13870.968</td>\n",
       "      <td>nan</td>\n",
       "      <td>10255.952</td>\n",
       "      <td>nan</td>\n",
       "      <td>nan</td>\n",
       "      <td>nan</td>\n",
       "      <td>1400.000</td>\n",
       "      <td>1629.032</td>\n",
       "      <td>nan</td>\n",
       "    </tr>\n",
       "    <tr>\n",
       "      <th>13</th>\n",
       "      <td>13590.909</td>\n",
       "      <td>11603.001</td>\n",
       "      <td>10955.233</td>\n",
       "      <td>12226.045</td>\n",
       "      <td>13272.278</td>\n",
       "      <td>13879.560</td>\n",
       "      <td>12542.450</td>\n",
       "      <td>15129.412</td>\n",
       "      <td>nan</td>\n",
       "      <td>nan</td>\n",
       "      <td>25.667</td>\n",
       "      <td>nan</td>\n",
       "      <td>13507.692</td>\n",
       "    </tr>\n",
       "    <tr>\n",
       "      <th>14</th>\n",
       "      <td>nan</td>\n",
       "      <td>10731.596</td>\n",
       "      <td>10909.743</td>\n",
       "      <td>11264.723</td>\n",
       "      <td>11457.443</td>\n",
       "      <td>9522.034</td>\n",
       "      <td>10893.595</td>\n",
       "      <td>nan</td>\n",
       "      <td>nan</td>\n",
       "      <td>nan</td>\n",
       "      <td>nan</td>\n",
       "      <td>nan</td>\n",
       "      <td>nan</td>\n",
       "    </tr>\n",
       "    <tr>\n",
       "      <th>15</th>\n",
       "      <td>13862.967</td>\n",
       "      <td>15496.351</td>\n",
       "      <td>14485.808</td>\n",
       "      <td>18420.510</td>\n",
       "      <td>16378.468</td>\n",
       "      <td>14476.744</td>\n",
       "      <td>nan</td>\n",
       "      <td>nan</td>\n",
       "      <td>nan</td>\n",
       "      <td>nan</td>\n",
       "      <td>nan</td>\n",
       "      <td>nan</td>\n",
       "      <td>nan</td>\n",
       "    </tr>\n",
       "    <tr>\n",
       "      <th>16</th>\n",
       "      <td>8751.152</td>\n",
       "      <td>10934.010</td>\n",
       "      <td>11660.907</td>\n",
       "      <td>11162.845</td>\n",
       "      <td>11856.951</td>\n",
       "      <td>11393.443</td>\n",
       "      <td>11381.069</td>\n",
       "      <td>nan</td>\n",
       "      <td>nan</td>\n",
       "      <td>nan</td>\n",
       "      <td>nan</td>\n",
       "      <td>nan</td>\n",
       "      <td>nan</td>\n",
       "    </tr>\n",
       "    <tr>\n",
       "      <th>17</th>\n",
       "      <td>nan</td>\n",
       "      <td>nan</td>\n",
       "      <td>13935.367</td>\n",
       "      <td>13040.499</td>\n",
       "      <td>13025.393</td>\n",
       "      <td>nan</td>\n",
       "      <td>nan</td>\n",
       "      <td>nan</td>\n",
       "      <td>nan</td>\n",
       "      <td>nan</td>\n",
       "      <td>nan</td>\n",
       "      <td>nan</td>\n",
       "      <td>nan</td>\n",
       "    </tr>\n",
       "    <tr>\n",
       "      <th>18</th>\n",
       "      <td>nan</td>\n",
       "      <td>14284.252</td>\n",
       "      <td>15942.140</td>\n",
       "      <td>13831.598</td>\n",
       "      <td>11421.501</td>\n",
       "      <td>16283.062</td>\n",
       "      <td>16152.679</td>\n",
       "      <td>11238.095</td>\n",
       "      <td>nan</td>\n",
       "      <td>nan</td>\n",
       "      <td>nan</td>\n",
       "      <td>nan</td>\n",
       "      <td>1903.030</td>\n",
       "    </tr>\n",
       "    <tr>\n",
       "      <th>19</th>\n",
       "      <td>nan</td>\n",
       "      <td>16180.060</td>\n",
       "      <td>15227.261</td>\n",
       "      <td>15986.428</td>\n",
       "      <td>13798.111</td>\n",
       "      <td>13043.478</td>\n",
       "      <td>3424.658</td>\n",
       "      <td>nan</td>\n",
       "      <td>nan</td>\n",
       "      <td>nan</td>\n",
       "      <td>nan</td>\n",
       "      <td>nan</td>\n",
       "      <td>nan</td>\n",
       "    </tr>\n",
       "    <tr>\n",
       "      <th>20</th>\n",
       "      <td>nan</td>\n",
       "      <td>12447.385</td>\n",
       "      <td>13743.335</td>\n",
       "      <td>12813.738</td>\n",
       "      <td>12190.466</td>\n",
       "      <td>nan</td>\n",
       "      <td>14251.417</td>\n",
       "      <td>nan</td>\n",
       "      <td>nan</td>\n",
       "      <td>nan</td>\n",
       "      <td>nan</td>\n",
       "      <td>nan</td>\n",
       "      <td>nan</td>\n",
       "    </tr>\n",
       "    <tr>\n",
       "      <th>21</th>\n",
       "      <td>nan</td>\n",
       "      <td>14076.087</td>\n",
       "      <td>12704.918</td>\n",
       "      <td>9381.075</td>\n",
       "      <td>12028.219</td>\n",
       "      <td>nan</td>\n",
       "      <td>nan</td>\n",
       "      <td>nan</td>\n",
       "      <td>nan</td>\n",
       "      <td>nan</td>\n",
       "      <td>nan</td>\n",
       "      <td>nan</td>\n",
       "      <td>nan</td>\n",
       "    </tr>\n",
       "    <tr>\n",
       "      <th>22</th>\n",
       "      <td>nan</td>\n",
       "      <td>9081.081</td>\n",
       "      <td>9300.000</td>\n",
       "      <td>8291.667</td>\n",
       "      <td>nan</td>\n",
       "      <td>nan</td>\n",
       "      <td>nan</td>\n",
       "      <td>nan</td>\n",
       "      <td>nan</td>\n",
       "      <td>nan</td>\n",
       "      <td>nan</td>\n",
       "      <td>nan</td>\n",
       "      <td>nan</td>\n",
       "    </tr>\n",
       "    <tr>\n",
       "      <th>23</th>\n",
       "      <td>nan</td>\n",
       "      <td>nan</td>\n",
       "      <td>12500.000</td>\n",
       "      <td>12878.788</td>\n",
       "      <td>nan</td>\n",
       "      <td>nan</td>\n",
       "      <td>nan</td>\n",
       "      <td>nan</td>\n",
       "      <td>nan</td>\n",
       "      <td>nan</td>\n",
       "      <td>nan</td>\n",
       "      <td>nan</td>\n",
       "      <td>nan</td>\n",
       "    </tr>\n",
       "    <tr>\n",
       "      <th>24</th>\n",
       "      <td>nan</td>\n",
       "      <td>nan</td>\n",
       "      <td>nan</td>\n",
       "      <td>9454.545</td>\n",
       "      <td>12500.000</td>\n",
       "      <td>nan</td>\n",
       "      <td>7526.316</td>\n",
       "      <td>nan</td>\n",
       "      <td>nan</td>\n",
       "      <td>nan</td>\n",
       "      <td>nan</td>\n",
       "      <td>nan</td>\n",
       "      <td>nan</td>\n",
       "    </tr>\n",
       "    <tr>\n",
       "      <th>25</th>\n",
       "      <td>nan</td>\n",
       "      <td>nan</td>\n",
       "      <td>18444.444</td>\n",
       "      <td>nan</td>\n",
       "      <td>nan</td>\n",
       "      <td>nan</td>\n",
       "      <td>nan</td>\n",
       "      <td>nan</td>\n",
       "      <td>nan</td>\n",
       "      <td>nan</td>\n",
       "      <td>nan</td>\n",
       "      <td>nan</td>\n",
       "      <td>nan</td>\n",
       "    </tr>\n",
       "    <tr>\n",
       "      <th>26</th>\n",
       "      <td>nan</td>\n",
       "      <td>9833.333</td>\n",
       "      <td>nan</td>\n",
       "      <td>7032.787</td>\n",
       "      <td>7812.500</td>\n",
       "      <td>nan</td>\n",
       "      <td>nan</td>\n",
       "      <td>nan</td>\n",
       "      <td>nan</td>\n",
       "      <td>nan</td>\n",
       "      <td>nan</td>\n",
       "      <td>nan</td>\n",
       "      <td>nan</td>\n",
       "    </tr>\n",
       "  </tbody>\n",
       "</table>\n",
       "</div>"
      ],
      "text/plain": [
       "          0         1         2         3         4         5         6   \\\n",
       "0   3815.226  9994.081 10455.683 10219.371 12006.636 14611.499 10723.950   \n",
       "1  13771.213  8829.212  9612.469  9271.830 10159.209  8992.806  8209.894   \n",
       "2        nan 10471.078 10575.051 10197.812 11251.961 11438.849  8855.836   \n",
       "3        nan  9129.255 10164.753  9748.336 10506.690 11707.141 11200.435   \n",
       "4        nan 10667.431 10419.826 10167.627 10381.733 11896.552 11705.758   \n",
       "5  15469.373 15809.524 15306.491 14863.645 14549.476 17222.483 18153.068   \n",
       "6        nan 12034.337 12836.374 11945.686 12380.141 12140.145 12143.451   \n",
       "7  25000.000 15437.500 13766.590 15323.175 12749.367       nan 14221.154   \n",
       "8        nan 12493.923 14634.911 10746.282 16150.119 14477.133 12882.919   \n",
       "9        nan 11843.707 11119.783 10912.631 12057.918  4953.861 10688.241   \n",
       "10       nan  9618.933 10860.753 12188.356 12777.775 12741.327 11638.221   \n",
       "11 10481.283 14065.056 11180.716 10922.681 11504.078  7001.375 16748.566   \n",
       "12  1046.774 11489.829 14903.060 18077.830 13870.968       nan 10255.952   \n",
       "13 13590.909 11603.001 10955.233 12226.045 13272.278 13879.560 12542.450   \n",
       "14       nan 10731.596 10909.743 11264.723 11457.443  9522.034 10893.595   \n",
       "15 13862.967 15496.351 14485.808 18420.510 16378.468 14476.744       nan   \n",
       "16  8751.152 10934.010 11660.907 11162.845 11856.951 11393.443 11381.069   \n",
       "17       nan       nan 13935.367 13040.499 13025.393       nan       nan   \n",
       "18       nan 14284.252 15942.140 13831.598 11421.501 16283.062 16152.679   \n",
       "19       nan 16180.060 15227.261 15986.428 13798.111 13043.478  3424.658   \n",
       "20       nan 12447.385 13743.335 12813.738 12190.466       nan 14251.417   \n",
       "21       nan 14076.087 12704.918  9381.075 12028.219       nan       nan   \n",
       "22       nan  9081.081  9300.000  8291.667       nan       nan       nan   \n",
       "23       nan       nan 12500.000 12878.788       nan       nan       nan   \n",
       "24       nan       nan       nan  9454.545 12500.000       nan  7526.316   \n",
       "25       nan       nan 18444.444       nan       nan       nan       nan   \n",
       "26       nan  9833.333       nan  7032.787  7812.500       nan       nan   \n",
       "\n",
       "          7        8        9        10        11        12  \n",
       "0        nan      nan      nan      nan       nan       nan  \n",
       "1        nan      nan      nan      nan       nan       nan  \n",
       "2  11218.750      nan      nan      nan 12220.339       nan  \n",
       "3   8701.299 8571.429      nan      nan       nan       nan  \n",
       "4        nan      nan      nan      nan       nan       nan  \n",
       "5        nan      nan      nan      nan       nan  1527.027  \n",
       "6        nan      nan      nan      nan       nan       nan  \n",
       "7        nan      nan      nan      nan       nan       nan  \n",
       "8  22064.057      nan      nan      nan       nan 24488.636  \n",
       "9        nan      nan 7333.333      nan       nan       nan  \n",
       "10       nan      nan      nan      nan       nan       nan  \n",
       "11  6000.000      nan 7333.333      nan       nan       nan  \n",
       "12       nan      nan      nan 1400.000  1629.032       nan  \n",
       "13 15129.412      nan      nan   25.667       nan 13507.692  \n",
       "14       nan      nan      nan      nan       nan       nan  \n",
       "15       nan      nan      nan      nan       nan       nan  \n",
       "16       nan      nan      nan      nan       nan       nan  \n",
       "17       nan      nan      nan      nan       nan       nan  \n",
       "18 11238.095      nan      nan      nan       nan  1903.030  \n",
       "19       nan      nan      nan      nan       nan       nan  \n",
       "20       nan      nan      nan      nan       nan       nan  \n",
       "21       nan      nan      nan      nan       nan       nan  \n",
       "22       nan      nan      nan      nan       nan       nan  \n",
       "23       nan      nan      nan      nan       nan       nan  \n",
       "24       nan      nan      nan      nan       nan       nan  \n",
       "25       nan      nan      nan      nan       nan       nan  \n",
       "26       nan      nan      nan      nan       nan       nan  "
      ]
     },
     "execution_count": 86,
     "metadata": {},
     "output_type": "execute_result"
    }
   ],
   "source": [
    "pd.DataFrame(data)"
   ]
  },
  {
   "cell_type": "code",
   "execution_count": null,
   "metadata": {},
   "outputs": [],
   "source": [
    "import plotly.express as px\n",
    "data=[[1, 25, 30, 50, 1], [20, 1, 60, 80, 30], [30, 60, 1, 5, 20]]\n",
    "fig = px.imshow(data,\n",
    "                labels=dict(x=\"Day of Week\", y=\"Time of Day\", color=\"Productivity\"),\n",
    "                x=['Monday', 'Tuesday', 'Wednesday', 'Thursday', 'Friday'],\n",
    "                y=['Morning', 'Afternoon', 'Evening']\n",
    "               )\n",
    "fig.update_xaxes(side=\"top\")\n",
    "fig.show()"
   ]
  },
  {
   "cell_type": "code",
   "execution_count": null,
   "metadata": {},
   "outputs": [],
   "source": []
  },
  {
   "cell_type": "code",
   "execution_count": 63,
   "metadata": {},
   "outputs": [
    {
     "data": {
      "application/vnd.plotly.v1+json": {
       "config": {
        "plotlyServerURL": "https://plot.ly"
       },
       "data": [
        {
         "alignmentgroup": "True",
         "hovertemplate": "pieces=%{x}<br>prix au m2=%{y}<extra></extra>",
         "legendgroup": "",
         "marker": {
          "color": "#636efa",
          "pattern": {
           "shape": ""
          }
         },
         "name": "",
         "offsetgroup": "",
         "orientation": "v",
         "showlegend": false,
         "textposition": "auto",
         "type": "bar",
         "x": [
          1,
          2,
          3,
          4,
          5,
          6,
          7,
          8,
          9,
          10,
          11,
          12,
          13
         ],
         "xaxis": "x",
         "y": [
          6262.841896515148,
          4822.264437196431,
          4550.241740692351,
          4683.881674470658,
          4568.98088263042,
          4713.020038292061,
          4341.973321775145,
          4711.917115694289,
          2397.0068948534845,
          3196.6894160646716,
          6966.666666666667,
          2590,
          4192
         ],
         "yaxis": "y"
        }
       ],
       "layout": {
        "autosize": true,
        "barmode": "relative",
        "legend": {
         "tracegroupgap": 0
        },
        "margin": {
         "t": 60
        },
        "template": {
         "data": {
          "bar": [
           {
            "error_x": {
             "color": "#2a3f5f"
            },
            "error_y": {
             "color": "#2a3f5f"
            },
            "marker": {
             "line": {
              "color": "#E5ECF6",
              "width": 0.5
             },
             "pattern": {
              "fillmode": "overlay",
              "size": 10,
              "solidity": 0.2
             }
            },
            "type": "bar"
           }
          ],
          "barpolar": [
           {
            "marker": {
             "line": {
              "color": "#E5ECF6",
              "width": 0.5
             },
             "pattern": {
              "fillmode": "overlay",
              "size": 10,
              "solidity": 0.2
             }
            },
            "type": "barpolar"
           }
          ],
          "carpet": [
           {
            "aaxis": {
             "endlinecolor": "#2a3f5f",
             "gridcolor": "white",
             "linecolor": "white",
             "minorgridcolor": "white",
             "startlinecolor": "#2a3f5f"
            },
            "baxis": {
             "endlinecolor": "#2a3f5f",
             "gridcolor": "white",
             "linecolor": "white",
             "minorgridcolor": "white",
             "startlinecolor": "#2a3f5f"
            },
            "type": "carpet"
           }
          ],
          "choropleth": [
           {
            "colorbar": {
             "outlinewidth": 0,
             "ticks": ""
            },
            "type": "choropleth"
           }
          ],
          "contour": [
           {
            "colorbar": {
             "outlinewidth": 0,
             "ticks": ""
            },
            "colorscale": [
             [
              0,
              "#0d0887"
             ],
             [
              0.1111111111111111,
              "#46039f"
             ],
             [
              0.2222222222222222,
              "#7201a8"
             ],
             [
              0.3333333333333333,
              "#9c179e"
             ],
             [
              0.4444444444444444,
              "#bd3786"
             ],
             [
              0.5555555555555556,
              "#d8576b"
             ],
             [
              0.6666666666666666,
              "#ed7953"
             ],
             [
              0.7777777777777778,
              "#fb9f3a"
             ],
             [
              0.8888888888888888,
              "#fdca26"
             ],
             [
              1,
              "#f0f921"
             ]
            ],
            "type": "contour"
           }
          ],
          "contourcarpet": [
           {
            "colorbar": {
             "outlinewidth": 0,
             "ticks": ""
            },
            "type": "contourcarpet"
           }
          ],
          "heatmap": [
           {
            "colorbar": {
             "outlinewidth": 0,
             "ticks": ""
            },
            "colorscale": [
             [
              0,
              "#0d0887"
             ],
             [
              0.1111111111111111,
              "#46039f"
             ],
             [
              0.2222222222222222,
              "#7201a8"
             ],
             [
              0.3333333333333333,
              "#9c179e"
             ],
             [
              0.4444444444444444,
              "#bd3786"
             ],
             [
              0.5555555555555556,
              "#d8576b"
             ],
             [
              0.6666666666666666,
              "#ed7953"
             ],
             [
              0.7777777777777778,
              "#fb9f3a"
             ],
             [
              0.8888888888888888,
              "#fdca26"
             ],
             [
              1,
              "#f0f921"
             ]
            ],
            "type": "heatmap"
           }
          ],
          "heatmapgl": [
           {
            "colorbar": {
             "outlinewidth": 0,
             "ticks": ""
            },
            "colorscale": [
             [
              0,
              "#0d0887"
             ],
             [
              0.1111111111111111,
              "#46039f"
             ],
             [
              0.2222222222222222,
              "#7201a8"
             ],
             [
              0.3333333333333333,
              "#9c179e"
             ],
             [
              0.4444444444444444,
              "#bd3786"
             ],
             [
              0.5555555555555556,
              "#d8576b"
             ],
             [
              0.6666666666666666,
              "#ed7953"
             ],
             [
              0.7777777777777778,
              "#fb9f3a"
             ],
             [
              0.8888888888888888,
              "#fdca26"
             ],
             [
              1,
              "#f0f921"
             ]
            ],
            "type": "heatmapgl"
           }
          ],
          "histogram": [
           {
            "marker": {
             "pattern": {
              "fillmode": "overlay",
              "size": 10,
              "solidity": 0.2
             }
            },
            "type": "histogram"
           }
          ],
          "histogram2d": [
           {
            "colorbar": {
             "outlinewidth": 0,
             "ticks": ""
            },
            "colorscale": [
             [
              0,
              "#0d0887"
             ],
             [
              0.1111111111111111,
              "#46039f"
             ],
             [
              0.2222222222222222,
              "#7201a8"
             ],
             [
              0.3333333333333333,
              "#9c179e"
             ],
             [
              0.4444444444444444,
              "#bd3786"
             ],
             [
              0.5555555555555556,
              "#d8576b"
             ],
             [
              0.6666666666666666,
              "#ed7953"
             ],
             [
              0.7777777777777778,
              "#fb9f3a"
             ],
             [
              0.8888888888888888,
              "#fdca26"
             ],
             [
              1,
              "#f0f921"
             ]
            ],
            "type": "histogram2d"
           }
          ],
          "histogram2dcontour": [
           {
            "colorbar": {
             "outlinewidth": 0,
             "ticks": ""
            },
            "colorscale": [
             [
              0,
              "#0d0887"
             ],
             [
              0.1111111111111111,
              "#46039f"
             ],
             [
              0.2222222222222222,
              "#7201a8"
             ],
             [
              0.3333333333333333,
              "#9c179e"
             ],
             [
              0.4444444444444444,
              "#bd3786"
             ],
             [
              0.5555555555555556,
              "#d8576b"
             ],
             [
              0.6666666666666666,
              "#ed7953"
             ],
             [
              0.7777777777777778,
              "#fb9f3a"
             ],
             [
              0.8888888888888888,
              "#fdca26"
             ],
             [
              1,
              "#f0f921"
             ]
            ],
            "type": "histogram2dcontour"
           }
          ],
          "mesh3d": [
           {
            "colorbar": {
             "outlinewidth": 0,
             "ticks": ""
            },
            "type": "mesh3d"
           }
          ],
          "parcoords": [
           {
            "line": {
             "colorbar": {
              "outlinewidth": 0,
              "ticks": ""
             }
            },
            "type": "parcoords"
           }
          ],
          "pie": [
           {
            "automargin": true,
            "type": "pie"
           }
          ],
          "scatter": [
           {
            "marker": {
             "colorbar": {
              "outlinewidth": 0,
              "ticks": ""
             }
            },
            "type": "scatter"
           }
          ],
          "scatter3d": [
           {
            "line": {
             "colorbar": {
              "outlinewidth": 0,
              "ticks": ""
             }
            },
            "marker": {
             "colorbar": {
              "outlinewidth": 0,
              "ticks": ""
             }
            },
            "type": "scatter3d"
           }
          ],
          "scattercarpet": [
           {
            "marker": {
             "colorbar": {
              "outlinewidth": 0,
              "ticks": ""
             }
            },
            "type": "scattercarpet"
           }
          ],
          "scattergeo": [
           {
            "marker": {
             "colorbar": {
              "outlinewidth": 0,
              "ticks": ""
             }
            },
            "type": "scattergeo"
           }
          ],
          "scattergl": [
           {
            "marker": {
             "colorbar": {
              "outlinewidth": 0,
              "ticks": ""
             }
            },
            "type": "scattergl"
           }
          ],
          "scattermapbox": [
           {
            "marker": {
             "colorbar": {
              "outlinewidth": 0,
              "ticks": ""
             }
            },
            "type": "scattermapbox"
           }
          ],
          "scatterpolar": [
           {
            "marker": {
             "colorbar": {
              "outlinewidth": 0,
              "ticks": ""
             }
            },
            "type": "scatterpolar"
           }
          ],
          "scatterpolargl": [
           {
            "marker": {
             "colorbar": {
              "outlinewidth": 0,
              "ticks": ""
             }
            },
            "type": "scatterpolargl"
           }
          ],
          "scatterternary": [
           {
            "marker": {
             "colorbar": {
              "outlinewidth": 0,
              "ticks": ""
             }
            },
            "type": "scatterternary"
           }
          ],
          "surface": [
           {
            "colorbar": {
             "outlinewidth": 0,
             "ticks": ""
            },
            "colorscale": [
             [
              0,
              "#0d0887"
             ],
             [
              0.1111111111111111,
              "#46039f"
             ],
             [
              0.2222222222222222,
              "#7201a8"
             ],
             [
              0.3333333333333333,
              "#9c179e"
             ],
             [
              0.4444444444444444,
              "#bd3786"
             ],
             [
              0.5555555555555556,
              "#d8576b"
             ],
             [
              0.6666666666666666,
              "#ed7953"
             ],
             [
              0.7777777777777778,
              "#fb9f3a"
             ],
             [
              0.8888888888888888,
              "#fdca26"
             ],
             [
              1,
              "#f0f921"
             ]
            ],
            "type": "surface"
           }
          ],
          "table": [
           {
            "cells": {
             "fill": {
              "color": "#EBF0F8"
             },
             "line": {
              "color": "white"
             }
            },
            "header": {
             "fill": {
              "color": "#C8D4E3"
             },
             "line": {
              "color": "white"
             }
            },
            "type": "table"
           }
          ]
         },
         "layout": {
          "annotationdefaults": {
           "arrowcolor": "#2a3f5f",
           "arrowhead": 0,
           "arrowwidth": 1
          },
          "autotypenumbers": "strict",
          "coloraxis": {
           "colorbar": {
            "outlinewidth": 0,
            "ticks": ""
           }
          },
          "colorscale": {
           "diverging": [
            [
             0,
             "#8e0152"
            ],
            [
             0.1,
             "#c51b7d"
            ],
            [
             0.2,
             "#de77ae"
            ],
            [
             0.3,
             "#f1b6da"
            ],
            [
             0.4,
             "#fde0ef"
            ],
            [
             0.5,
             "#f7f7f7"
            ],
            [
             0.6,
             "#e6f5d0"
            ],
            [
             0.7,
             "#b8e186"
            ],
            [
             0.8,
             "#7fbc41"
            ],
            [
             0.9,
             "#4d9221"
            ],
            [
             1,
             "#276419"
            ]
           ],
           "sequential": [
            [
             0,
             "#0d0887"
            ],
            [
             0.1111111111111111,
             "#46039f"
            ],
            [
             0.2222222222222222,
             "#7201a8"
            ],
            [
             0.3333333333333333,
             "#9c179e"
            ],
            [
             0.4444444444444444,
             "#bd3786"
            ],
            [
             0.5555555555555556,
             "#d8576b"
            ],
            [
             0.6666666666666666,
             "#ed7953"
            ],
            [
             0.7777777777777778,
             "#fb9f3a"
            ],
            [
             0.8888888888888888,
             "#fdca26"
            ],
            [
             1,
             "#f0f921"
            ]
           ],
           "sequentialminus": [
            [
             0,
             "#0d0887"
            ],
            [
             0.1111111111111111,
             "#46039f"
            ],
            [
             0.2222222222222222,
             "#7201a8"
            ],
            [
             0.3333333333333333,
             "#9c179e"
            ],
            [
             0.4444444444444444,
             "#bd3786"
            ],
            [
             0.5555555555555556,
             "#d8576b"
            ],
            [
             0.6666666666666666,
             "#ed7953"
            ],
            [
             0.7777777777777778,
             "#fb9f3a"
            ],
            [
             0.8888888888888888,
             "#fdca26"
            ],
            [
             1,
             "#f0f921"
            ]
           ]
          },
          "colorway": [
           "#636efa",
           "#EF553B",
           "#00cc96",
           "#ab63fa",
           "#FFA15A",
           "#19d3f3",
           "#FF6692",
           "#B6E880",
           "#FF97FF",
           "#FECB52"
          ],
          "font": {
           "color": "#2a3f5f"
          },
          "geo": {
           "bgcolor": "white",
           "lakecolor": "white",
           "landcolor": "#E5ECF6",
           "showlakes": true,
           "showland": true,
           "subunitcolor": "white"
          },
          "hoverlabel": {
           "align": "left"
          },
          "hovermode": "closest",
          "mapbox": {
           "style": "light"
          },
          "paper_bgcolor": "white",
          "plot_bgcolor": "#E5ECF6",
          "polar": {
           "angularaxis": {
            "gridcolor": "white",
            "linecolor": "white",
            "ticks": ""
           },
           "bgcolor": "#E5ECF6",
           "radialaxis": {
            "gridcolor": "white",
            "linecolor": "white",
            "ticks": ""
           }
          },
          "scene": {
           "xaxis": {
            "backgroundcolor": "#E5ECF6",
            "gridcolor": "white",
            "gridwidth": 2,
            "linecolor": "white",
            "showbackground": true,
            "ticks": "",
            "zerolinecolor": "white"
           },
           "yaxis": {
            "backgroundcolor": "#E5ECF6",
            "gridcolor": "white",
            "gridwidth": 2,
            "linecolor": "white",
            "showbackground": true,
            "ticks": "",
            "zerolinecolor": "white"
           },
           "zaxis": {
            "backgroundcolor": "#E5ECF6",
            "gridcolor": "white",
            "gridwidth": 2,
            "linecolor": "white",
            "showbackground": true,
            "ticks": "",
            "zerolinecolor": "white"
           }
          },
          "shapedefaults": {
           "line": {
            "color": "#2a3f5f"
           }
          },
          "ternary": {
           "aaxis": {
            "gridcolor": "white",
            "linecolor": "white",
            "ticks": ""
           },
           "baxis": {
            "gridcolor": "white",
            "linecolor": "white",
            "ticks": ""
           },
           "bgcolor": "#E5ECF6",
           "caxis": {
            "gridcolor": "white",
            "linecolor": "white",
            "ticks": ""
           }
          },
          "title": {
           "x": 0.05
          },
          "xaxis": {
           "automargin": true,
           "gridcolor": "white",
           "linecolor": "white",
           "ticks": "",
           "title": {
            "standoff": 15
           },
           "zerolinecolor": "white",
           "zerolinewidth": 2
          },
          "yaxis": {
           "automargin": true,
           "gridcolor": "white",
           "linecolor": "white",
           "ticks": "",
           "title": {
            "standoff": 15
           },
           "zerolinecolor": "white",
           "zerolinewidth": 2
          }
         }
        },
        "xaxis": {
         "anchor": "y",
         "autorange": true,
         "domain": [
          0,
          1
         ],
         "range": [
          0.5,
          13.5
         ],
         "title": {
          "text": "pieces"
         },
         "type": "linear"
        },
        "yaxis": {
         "anchor": "x",
         "autorange": true,
         "domain": [
          0,
          1
         ],
         "range": [
          0,
          7333.333333333334
         ],
         "title": {
          "text": "prix au m2"
         },
         "type": "linear"
        }
       }
      },
      "image/png": "[encoded data removed]",
      "text/html": [
       "<div>                            <div id=\"40f2dfaa-d6f2-4d86-886e-c21a2e888142\" class=\"plotly-graph-div\" style=\"height:525px; width:100%;\"></div>            <script type=\"text/javascript\">                require([\"plotly\"], function(Plotly) {                    window.PLOTLYENV=window.PLOTLYENV || {};                                    if (document.getElementById(\"40f2dfaa-d6f2-4d86-886e-c21a2e888142\")) {                    Plotly.newPlot(                        \"40f2dfaa-d6f2-4d86-886e-c21a2e888142\",                        [{\"alignmentgroup\":\"True\",\"hovertemplate\":\"pieces=%{x}<br>prix au m2=%{y}<extra></extra>\",\"legendgroup\":\"\",\"marker\":{\"color\":\"#636efa\",\"pattern\":{\"shape\":\"\"}},\"name\":\"\",\"offsetgroup\":\"\",\"orientation\":\"v\",\"showlegend\":false,\"textposition\":\"auto\",\"x\":[1,2,3,4,5,6,7,8,9,10,11,12,13],\"xaxis\":\"x\",\"y\":[6262.841896515148,4822.264437196431,4550.241740692351,4683.881674470658,4568.98088263042,4713.020038292061,4341.973321775145,4711.917115694289,2397.0068948534845,3196.6894160646716,6966.666666666667,2590.0,4192.0],\"yaxis\":\"y\",\"type\":\"bar\"}],                        {\"template\":{\"data\":{\"bar\":[{\"error_x\":{\"color\":\"#2a3f5f\"},\"error_y\":{\"color\":\"#2a3f5f\"},\"marker\":{\"line\":{\"color\":\"#E5ECF6\",\"width\":0.5},\"pattern\":{\"fillmode\":\"overlay\",\"size\":10,\"solidity\":0.2}},\"type\":\"bar\"}],\"barpolar\":[{\"marker\":{\"line\":{\"color\":\"#E5ECF6\",\"width\":0.5},\"pattern\":{\"fillmode\":\"overlay\",\"size\":10,\"solidity\":0.2}},\"type\":\"barpolar\"}],\"carpet\":[{\"aaxis\":{\"endlinecolor\":\"#2a3f5f\",\"gridcolor\":\"white\",\"linecolor\":\"white\",\"minorgridcolor\":\"white\",\"startlinecolor\":\"#2a3f5f\"},\"baxis\":{\"endlinecolor\":\"#2a3f5f\",\"gridcolor\":\"white\",\"linecolor\":\"white\",\"minorgridcolor\":\"white\",\"startlinecolor\":\"#2a3f5f\"},\"type\":\"carpet\"}],\"choropleth\":[{\"colorbar\":{\"outlinewidth\":0,\"ticks\":\"\"},\"type\":\"choropleth\"}],\"contour\":[{\"colorbar\":{\"outlinewidth\":0,\"ticks\":\"\"},\"colorscale\":[[0.0,\"#0d0887\"],[0.1111111111111111,\"#46039f\"],[0.2222222222222222,\"#7201a8\"],[0.3333333333333333,\"#9c179e\"],[0.4444444444444444,\"#bd3786\"],[0.5555555555555556,\"#d8576b\"],[0.6666666666666666,\"#ed7953\"],[0.7777777777777778,\"#fb9f3a\"],[0.8888888888888888,\"#fdca26\"],[1.0,\"#f0f921\"]],\"type\":\"contour\"}],\"contourcarpet\":[{\"colorbar\":{\"outlinewidth\":0,\"ticks\":\"\"},\"type\":\"contourcarpet\"}],\"heatmap\":[{\"colorbar\":{\"outlinewidth\":0,\"ticks\":\"\"},\"colorscale\":[[0.0,\"#0d0887\"],[0.1111111111111111,\"#46039f\"],[0.2222222222222222,\"#7201a8\"],[0.3333333333333333,\"#9c179e\"],[0.4444444444444444,\"#bd3786\"],[0.5555555555555556,\"#d8576b\"],[0.6666666666666666,\"#ed7953\"],[0.7777777777777778,\"#fb9f3a\"],[0.8888888888888888,\"#fdca26\"],[1.0,\"#f0f921\"]],\"type\":\"heatmap\"}],\"heatmapgl\":[{\"colorbar\":{\"outlinewidth\":0,\"ticks\":\"\"},\"colorscale\":[[0.0,\"#0d0887\"],[0.1111111111111111,\"#46039f\"],[0.2222222222222222,\"#7201a8\"],[0.3333333333333333,\"#9c179e\"],[0.4444444444444444,\"#bd3786\"],[0.5555555555555556,\"#d8576b\"],[0.6666666666666666,\"#ed7953\"],[0.7777777777777778,\"#fb9f3a\"],[0.8888888888888888,\"#fdca26\"],[1.0,\"#f0f921\"]],\"type\":\"heatmapgl\"}],\"histogram\":[{\"marker\":{\"pattern\":{\"fillmode\":\"overlay\",\"size\":10,\"solidity\":0.2}},\"type\":\"histogram\"}],\"histogram2d\":[{\"colorbar\":{\"outlinewidth\":0,\"ticks\":\"\"},\"colorscale\":[[0.0,\"#0d0887\"],[0.1111111111111111,\"#46039f\"],[0.2222222222222222,\"#7201a8\"],[0.3333333333333333,\"#9c179e\"],[0.4444444444444444,\"#bd3786\"],[0.5555555555555556,\"#d8576b\"],[0.6666666666666666,\"#ed7953\"],[0.7777777777777778,\"#fb9f3a\"],[0.8888888888888888,\"#fdca26\"],[1.0,\"#f0f921\"]],\"type\":\"histogram2d\"}],\"histogram2dcontour\":[{\"colorbar\":{\"outlinewidth\":0,\"ticks\":\"\"},\"colorscale\":[[0.0,\"#0d0887\"],[0.1111111111111111,\"#46039f\"],[0.2222222222222222,\"#7201a8\"],[0.3333333333333333,\"#9c179e\"],[0.4444444444444444,\"#bd3786\"],[0.5555555555555556,\"#d8576b\"],[0.6666666666666666,\"#ed7953\"],[0.7777777777777778,\"#fb9f3a\"],[0.8888888888888888,\"#fdca26\"],[1.0,\"#f0f921\"]],\"type\":\"histogram2dcontour\"}],\"mesh3d\":[{\"colorbar\":{\"outlinewidth\":0,\"ticks\":\"\"},\"type\":\"mesh3d\"}],\"parcoords\":[{\"line\":{\"colorbar\":{\"outlinewidth\":0,\"ticks\":\"\"}},\"type\":\"parcoords\"}],\"pie\":[{\"automargin\":true,\"type\":\"pie\"}],\"scatter\":[{\"marker\":{\"colorbar\":{\"outlinewidth\":0,\"ticks\":\"\"}},\"type\":\"scatter\"}],\"scatter3d\":[{\"line\":{\"colorbar\":{\"outlinewidth\":0,\"ticks\":\"\"}},\"marker\":{\"colorbar\":{\"outlinewidth\":0,\"ticks\":\"\"}},\"type\":\"scatter3d\"}],\"scattercarpet\":[{\"marker\":{\"colorbar\":{\"outlinewidth\":0,\"ticks\":\"\"}},\"type\":\"scattercarpet\"}],\"scattergeo\":[{\"marker\":{\"colorbar\":{\"outlinewidth\":0,\"ticks\":\"\"}},\"type\":\"scattergeo\"}],\"scattergl\":[{\"marker\":{\"colorbar\":{\"outlinewidth\":0,\"ticks\":\"\"}},\"type\":\"scattergl\"}],\"scattermapbox\":[{\"marker\":{\"colorbar\":{\"outlinewidth\":0,\"ticks\":\"\"}},\"type\":\"scattermapbox\"}],\"scatterpolar\":[{\"marker\":{\"colorbar\":{\"outlinewidth\":0,\"ticks\":\"\"}},\"type\":\"scatterpolar\"}],\"scatterpolargl\":[{\"marker\":{\"colorbar\":{\"outlinewidth\":0,\"ticks\":\"\"}},\"type\":\"scatterpolargl\"}],\"scatterternary\":[{\"marker\":{\"colorbar\":{\"outlinewidth\":0,\"ticks\":\"\"}},\"type\":\"scatterternary\"}],\"surface\":[{\"colorbar\":{\"outlinewidth\":0,\"ticks\":\"\"},\"colorscale\":[[0.0,\"#0d0887\"],[0.1111111111111111,\"#46039f\"],[0.2222222222222222,\"#7201a8\"],[0.3333333333333333,\"#9c179e\"],[0.4444444444444444,\"#bd3786\"],[0.5555555555555556,\"#d8576b\"],[0.6666666666666666,\"#ed7953\"],[0.7777777777777778,\"#fb9f3a\"],[0.8888888888888888,\"#fdca26\"],[1.0,\"#f0f921\"]],\"type\":\"surface\"}],\"table\":[{\"cells\":{\"fill\":{\"color\":\"#EBF0F8\"},\"line\":{\"color\":\"white\"}},\"header\":{\"fill\":{\"color\":\"#C8D4E3\"},\"line\":{\"color\":\"white\"}},\"type\":\"table\"}]},\"layout\":{\"annotationdefaults\":{\"arrowcolor\":\"#2a3f5f\",\"arrowhead\":0,\"arrowwidth\":1},\"autotypenumbers\":\"strict\",\"coloraxis\":{\"colorbar\":{\"outlinewidth\":0,\"ticks\":\"\"}},\"colorscale\":{\"diverging\":[[0,\"#8e0152\"],[0.1,\"#c51b7d\"],[0.2,\"#de77ae\"],[0.3,\"#f1b6da\"],[0.4,\"#fde0ef\"],[0.5,\"#f7f7f7\"],[0.6,\"#e6f5d0\"],[0.7,\"#b8e186\"],[0.8,\"#7fbc41\"],[0.9,\"#4d9221\"],[1,\"#276419\"]],\"sequential\":[[0.0,\"#0d0887\"],[0.1111111111111111,\"#46039f\"],[0.2222222222222222,\"#7201a8\"],[0.3333333333333333,\"#9c179e\"],[0.4444444444444444,\"#bd3786\"],[0.5555555555555556,\"#d8576b\"],[0.6666666666666666,\"#ed7953\"],[0.7777777777777778,\"#fb9f3a\"],[0.8888888888888888,\"#fdca26\"],[1.0,\"#f0f921\"]],\"sequentialminus\":[[0.0,\"#0d0887\"],[0.1111111111111111,\"#46039f\"],[0.2222222222222222,\"#7201a8\"],[0.3333333333333333,\"#9c179e\"],[0.4444444444444444,\"#bd3786\"],[0.5555555555555556,\"#d8576b\"],[0.6666666666666666,\"#ed7953\"],[0.7777777777777778,\"#fb9f3a\"],[0.8888888888888888,\"#fdca26\"],[1.0,\"#f0f921\"]]},\"colorway\":[\"#636efa\",\"#EF553B\",\"#00cc96\",\"#ab63fa\",\"#FFA15A\",\"#19d3f3\",\"#FF6692\",\"#B6E880\",\"#FF97FF\",\"#FECB52\"],\"font\":{\"color\":\"#2a3f5f\"},\"geo\":{\"bgcolor\":\"white\",\"lakecolor\":\"white\",\"landcolor\":\"#E5ECF6\",\"showlakes\":true,\"showland\":true,\"subunitcolor\":\"white\"},\"hoverlabel\":{\"align\":\"left\"},\"hovermode\":\"closest\",\"mapbox\":{\"style\":\"light\"},\"paper_bgcolor\":\"white\",\"plot_bgcolor\":\"#E5ECF6\",\"polar\":{\"angularaxis\":{\"gridcolor\":\"white\",\"linecolor\":\"white\",\"ticks\":\"\"},\"bgcolor\":\"#E5ECF6\",\"radialaxis\":{\"gridcolor\":\"white\",\"linecolor\":\"white\",\"ticks\":\"\"}},\"scene\":{\"xaxis\":{\"backgroundcolor\":\"#E5ECF6\",\"gridcolor\":\"white\",\"gridwidth\":2,\"linecolor\":\"white\",\"showbackground\":true,\"ticks\":\"\",\"zerolinecolor\":\"white\"},\"yaxis\":{\"backgroundcolor\":\"#E5ECF6\",\"gridcolor\":\"white\",\"gridwidth\":2,\"linecolor\":\"white\",\"showbackground\":true,\"ticks\":\"\",\"zerolinecolor\":\"white\"},\"zaxis\":{\"backgroundcolor\":\"#E5ECF6\",\"gridcolor\":\"white\",\"gridwidth\":2,\"linecolor\":\"white\",\"showbackground\":true,\"ticks\":\"\",\"zerolinecolor\":\"white\"}},\"shapedefaults\":{\"line\":{\"color\":\"#2a3f5f\"}},\"ternary\":{\"aaxis\":{\"gridcolor\":\"white\",\"linecolor\":\"white\",\"ticks\":\"\"},\"baxis\":{\"gridcolor\":\"white\",\"linecolor\":\"white\",\"ticks\":\"\"},\"bgcolor\":\"#E5ECF6\",\"caxis\":{\"gridcolor\":\"white\",\"linecolor\":\"white\",\"ticks\":\"\"}},\"title\":{\"x\":0.05},\"xaxis\":{\"automargin\":true,\"gridcolor\":\"white\",\"linecolor\":\"white\",\"ticks\":\"\",\"title\":{\"standoff\":15},\"zerolinecolor\":\"white\",\"zerolinewidth\":2},\"yaxis\":{\"automargin\":true,\"gridcolor\":\"white\",\"linecolor\":\"white\",\"ticks\":\"\",\"title\":{\"standoff\":15},\"zerolinecolor\":\"white\",\"zerolinewidth\":2}}},\"xaxis\":{\"anchor\":\"y\",\"domain\":[0.0,1.0],\"title\":{\"text\":\"pieces\"}},\"yaxis\":{\"anchor\":\"x\",\"domain\":[0.0,1.0],\"title\":{\"text\":\"prix au m2\"}},\"legend\":{\"tracegroupgap\":0},\"margin\":{\"t\":60},\"barmode\":\"relative\"},                        {\"responsive\": true}                    ).then(function(){\n",
       "                            \n",
       "var gd = document.getElementById('40f2dfaa-d6f2-4d86-886e-c21a2e888142');\n",
       "var x = new MutationObserver(function (mutations, observer) {{\n",
       "        var display = window.getComputedStyle(gd).display;\n",
       "        if (!display || display === 'none') {{\n",
       "            console.log([gd, 'removed!']);\n",
       "            Plotly.purge(gd);\n",
       "            observer.disconnect();\n",
       "        }}\n",
       "}});\n",
       "\n",
       "// Listen for the removal of the full notebook cells\n",
       "var notebookContainer = gd.closest('#notebook-container');\n",
       "if (notebookContainer) {{\n",
       "    x.observe(notebookContainer, {childList: true});\n",
       "}}\n",
       "\n",
       "// Listen for the clearing of the current output cell\n",
       "var outputEl = gd.closest('.output');\n",
       "if (outputEl) {{\n",
       "    x.observe(outputEl, {childList: true});\n",
       "}}\n",
       "\n",
       "                        })                };                });            </script>        </div>"
      ]
     },
     "metadata": {},
     "output_type": "display_data"
    }
   ],
   "source": [
    "fig = px.bar(df_price_surface, x=df_price_surface.index, y=\"prix au m2\")\n",
    "fig.show()"
   ]
  },
  {
   "cell_type": "code",
   "execution_count": 36,
   "metadata": {},
   "outputs": [
    {
     "data": {
      "text/html": [
       "<div>\n",
       "<style scoped>\n",
       "    .dataframe tbody tr th:only-of-type {\n",
       "        vertical-align: middle;\n",
       "    }\n",
       "\n",
       "    .dataframe tbody tr th {\n",
       "        vertical-align: top;\n",
       "    }\n",
       "\n",
       "    .dataframe thead th {\n",
       "        text-align: right;\n",
       "    }\n",
       "</style>\n",
       "<table border=\"1\" class=\"dataframe\">\n",
       "  <thead>\n",
       "    <tr style=\"text-align: right;\">\n",
       "      <th></th>\n",
       "      <th>price</th>\n",
       "      <th>surface</th>\n",
       "      <th>pieces</th>\n",
       "      <th>prix au m2</th>\n",
       "    </tr>\n",
       "    <tr>\n",
       "      <th>code postal</th>\n",
       "      <th></th>\n",
       "      <th></th>\n",
       "      <th></th>\n",
       "      <th></th>\n",
       "    </tr>\n",
       "  </thead>\n",
       "  <tbody>\n",
       "    <tr>\n",
       "      <th>Rennes (35000)</th>\n",
       "      <td>412207.782</td>\n",
       "      <td>91.519</td>\n",
       "      <td>3.821</td>\n",
       "      <td>4722.373</td>\n",
       "    </tr>\n",
       "    <tr>\n",
       "      <th>Rennes (35200)</th>\n",
       "      <td>320715.391</td>\n",
       "      <td>85.652</td>\n",
       "      <td>3.870</td>\n",
       "      <td>3631.034</td>\n",
       "    </tr>\n",
       "    <tr>\n",
       "      <th>Rennes (35700)</th>\n",
       "      <td>333686.696</td>\n",
       "      <td>76.826</td>\n",
       "      <td>3.522</td>\n",
       "      <td>4423.801</td>\n",
       "    </tr>\n",
       "  </tbody>\n",
       "</table>\n",
       "</div>"
      ],
      "text/plain": [
       "                    price  surface  pieces  prix au m2\n",
       "code postal                                           \n",
       "Rennes (35000) 412207.782   91.519   3.821    4722.373\n",
       "Rennes (35200) 320715.391   85.652   3.870    3631.034\n",
       "Rennes (35700) 333686.696   76.826   3.522    4423.801"
      ]
     },
     "execution_count": 36,
     "metadata": {},
     "output_type": "execute_result"
    }
   ],
   "source": [
    "df.groupby(\"code postal\").mean()"
   ]
  },
  {
   "cell_type": "code",
   "execution_count": 37,
   "metadata": {},
   "outputs": [
    {
     "name": "stderr",
     "output_type": "stream",
     "text": [
      "/Users/adrien/opt/anaconda3/lib/python3.8/site-packages/seaborn/_decorators.py:36: FutureWarning: Pass the following variable as a keyword arg: x. From version 0.12, the only valid positional argument will be `data`, and passing other arguments without an explicit keyword will result in an error or misinterpretation.\n",
      "  warnings.warn(\n"
     ]
    },
    {
     "data": {
      "text/plain": [
       "<AxesSubplot:xlabel='prix au m2'>"
      ]
     },
     "execution_count": 37,
     "metadata": {},
     "output_type": "execute_result"
    },
    {
     "data": {
      "image/png": "[encoded data removed]",
      "text/plain": [
       "<Figure size 432x288 with 1 Axes>"
      ]
     },
     "metadata": {
      "needs_background": "light"
     },
     "output_type": "display_data"
    }
   ],
   "source": [
    "sns.boxplot(df[\"prix au m2\"])"
   ]
  },
  {
   "cell_type": "code",
   "execution_count": 39,
   "metadata": {},
   "outputs": [
    {
     "data": {
      "text/html": [
       "<div>\n",
       "<style scoped>\n",
       "    .dataframe tbody tr th:only-of-type {\n",
       "        vertical-align: middle;\n",
       "    }\n",
       "\n",
       "    .dataframe tbody tr th {\n",
       "        vertical-align: top;\n",
       "    }\n",
       "\n",
       "    .dataframe thead th {\n",
       "        text-align: right;\n",
       "    }\n",
       "</style>\n",
       "<table border=\"1\" class=\"dataframe\">\n",
       "  <thead>\n",
       "    <tr style=\"text-align: right;\">\n",
       "      <th></th>\n",
       "      <th>price</th>\n",
       "      <th>surface</th>\n",
       "      <th>pieces</th>\n",
       "      <th>types</th>\n",
       "      <th>code postal</th>\n",
       "      <th>prix au m2</th>\n",
       "    </tr>\n",
       "  </thead>\n",
       "  <tbody>\n",
       "    <tr>\n",
       "      <th>21</th>\n",
       "      <td>185000</td>\n",
       "      <td>31</td>\n",
       "      <td>1</td>\n",
       "      <td>Appartement</td>\n",
       "      <td>Rennes (35000)</td>\n",
       "      <td>5967.742</td>\n",
       "    </tr>\n",
       "    <tr>\n",
       "      <th>32</th>\n",
       "      <td>177650</td>\n",
       "      <td>30</td>\n",
       "      <td>1</td>\n",
       "      <td>Appartement</td>\n",
       "      <td>Rennes (35000)</td>\n",
       "      <td>5921.667</td>\n",
       "    </tr>\n",
       "    <tr>\n",
       "      <th>43</th>\n",
       "      <td>182500</td>\n",
       "      <td>27</td>\n",
       "      <td>1</td>\n",
       "      <td>Appartement</td>\n",
       "      <td>Rennes (35000)</td>\n",
       "      <td>6759.259</td>\n",
       "    </tr>\n",
       "    <tr>\n",
       "      <th>53</th>\n",
       "      <td>131000</td>\n",
       "      <td>21</td>\n",
       "      <td>1</td>\n",
       "      <td>Appartement</td>\n",
       "      <td>Rennes (35000)</td>\n",
       "      <td>6238.095</td>\n",
       "    </tr>\n",
       "    <tr>\n",
       "      <th>64</th>\n",
       "      <td>127000</td>\n",
       "      <td>30</td>\n",
       "      <td>1</td>\n",
       "      <td>Appartement</td>\n",
       "      <td>Rennes (35000)</td>\n",
       "      <td>4233.333</td>\n",
       "    </tr>\n",
       "  </tbody>\n",
       "</table>\n",
       "</div>"
      ],
      "text/plain": [
       "     price  surface  pieces        types     code postal  prix au m2\n",
       "21  185000       31       1  Appartement  Rennes (35000)    5967.742\n",
       "32  177650       30       1  Appartement  Rennes (35000)    5921.667\n",
       "43  182500       27       1  Appartement  Rennes (35000)    6759.259\n",
       "53  131000       21       1  Appartement  Rennes (35000)    6238.095\n",
       "64  127000       30       1  Appartement  Rennes (35000)    4233.333"
      ]
     },
     "execution_count": 39,
     "metadata": {},
     "output_type": "execute_result"
    }
   ],
   "source": [
    "filtre = (df[\"code postal\"] == \"Rennes (35000)\") & (df[\"pieces\"] == 1)\n",
    "\n",
    "\n",
    "df_filtre = df[filtre]\n",
    "df_filtre.head()"
   ]
  },
  {
   "cell_type": "code",
   "execution_count": 41,
   "metadata": {},
   "outputs": [
    {
     "name": "stderr",
     "output_type": "stream",
     "text": [
      "/Users/adrien/opt/anaconda3/lib/python3.8/site-packages/seaborn/_decorators.py:36: FutureWarning: Pass the following variable as a keyword arg: x. From version 0.12, the only valid positional argument will be `data`, and passing other arguments without an explicit keyword will result in an error or misinterpretation.\n",
      "  warnings.warn(\n"
     ]
    },
    {
     "data": {
      "text/plain": [
       "<AxesSubplot:xlabel='prix au m2'>"
      ]
     },
     "execution_count": 41,
     "metadata": {},
     "output_type": "execute_result"
    },
    {
     "data": {
      "image/png": "[encoded data removed]",
      "text/plain": [
       "<Figure size 432x288 with 1 Axes>"
      ]
     },
     "metadata": {
      "needs_background": "light"
     },
     "output_type": "display_data"
    }
   ],
   "source": [
    "sns.boxplot(df_filtre[\"prix au m2\"])"
   ]
  },
  {
   "cell_type": "code",
   "execution_count": 43,
   "metadata": {},
   "outputs": [
    {
     "data": {
      "text/html": [
       "<div>\n",
       "<style scoped>\n",
       "    .dataframe tbody tr th:only-of-type {\n",
       "        vertical-align: middle;\n",
       "    }\n",
       "\n",
       "    .dataframe tbody tr th {\n",
       "        vertical-align: top;\n",
       "    }\n",
       "\n",
       "    .dataframe thead th {\n",
       "        text-align: right;\n",
       "    }\n",
       "</style>\n",
       "<table border=\"1\" class=\"dataframe\">\n",
       "  <thead>\n",
       "    <tr style=\"text-align: right;\">\n",
       "      <th></th>\n",
       "      <th>price</th>\n",
       "      <th>surface</th>\n",
       "      <th>pieces</th>\n",
       "      <th>types</th>\n",
       "      <th>code postal</th>\n",
       "      <th>prix au m2</th>\n",
       "    </tr>\n",
       "  </thead>\n",
       "  <tbody>\n",
       "    <tr>\n",
       "      <th>138</th>\n",
       "      <td>59000</td>\n",
       "      <td>9</td>\n",
       "      <td>1</td>\n",
       "      <td>Appartement</td>\n",
       "      <td>Rennes (35000)</td>\n",
       "      <td>6555.556</td>\n",
       "    </tr>\n",
       "    <tr>\n",
       "      <th>139</th>\n",
       "      <td>59000</td>\n",
       "      <td>9</td>\n",
       "      <td>1</td>\n",
       "      <td>Appartement</td>\n",
       "      <td>Rennes (35000)</td>\n",
       "      <td>6555.556</td>\n",
       "    </tr>\n",
       "    <tr>\n",
       "      <th>154</th>\n",
       "      <td>82900</td>\n",
       "      <td>15</td>\n",
       "      <td>1</td>\n",
       "      <td>Appartement</td>\n",
       "      <td>Rennes (35000)</td>\n",
       "      <td>5526.667</td>\n",
       "    </tr>\n",
       "    <tr>\n",
       "      <th>252</th>\n",
       "      <td>103000</td>\n",
       "      <td>19</td>\n",
       "      <td>1</td>\n",
       "      <td>Appartement</td>\n",
       "      <td>Rennes (35000)</td>\n",
       "      <td>5421.053</td>\n",
       "    </tr>\n",
       "    <tr>\n",
       "      <th>171</th>\n",
       "      <td>113184</td>\n",
       "      <td>20</td>\n",
       "      <td>1</td>\n",
       "      <td>Appartement</td>\n",
       "      <td>Rennes (35000)</td>\n",
       "      <td>5659.200</td>\n",
       "    </tr>\n",
       "    <tr>\n",
       "      <th>208</th>\n",
       "      <td>125700</td>\n",
       "      <td>22</td>\n",
       "      <td>1</td>\n",
       "      <td>Appartement</td>\n",
       "      <td>Rennes (35000)</td>\n",
       "      <td>5713.636</td>\n",
       "    </tr>\n",
       "    <tr>\n",
       "      <th>64</th>\n",
       "      <td>127000</td>\n",
       "      <td>30</td>\n",
       "      <td>1</td>\n",
       "      <td>Appartement</td>\n",
       "      <td>Rennes (35000)</td>\n",
       "      <td>4233.333</td>\n",
       "    </tr>\n",
       "    <tr>\n",
       "      <th>169</th>\n",
       "      <td>131000</td>\n",
       "      <td>16</td>\n",
       "      <td>1</td>\n",
       "      <td>Appartement</td>\n",
       "      <td>Rennes (35000)</td>\n",
       "      <td>8187.500</td>\n",
       "    </tr>\n",
       "    <tr>\n",
       "      <th>53</th>\n",
       "      <td>131000</td>\n",
       "      <td>21</td>\n",
       "      <td>1</td>\n",
       "      <td>Appartement</td>\n",
       "      <td>Rennes (35000)</td>\n",
       "      <td>6238.095</td>\n",
       "    </tr>\n",
       "    <tr>\n",
       "      <th>123</th>\n",
       "      <td>131500</td>\n",
       "      <td>33</td>\n",
       "      <td>1</td>\n",
       "      <td>Appartement</td>\n",
       "      <td>Rennes (35000)</td>\n",
       "      <td>3984.848</td>\n",
       "    </tr>\n",
       "    <tr>\n",
       "      <th>255</th>\n",
       "      <td>137000</td>\n",
       "      <td>26</td>\n",
       "      <td>1</td>\n",
       "      <td>Appartement</td>\n",
       "      <td>Rennes (35000)</td>\n",
       "      <td>5269.231</td>\n",
       "    </tr>\n",
       "    <tr>\n",
       "      <th>357</th>\n",
       "      <td>145000</td>\n",
       "      <td>24</td>\n",
       "      <td>1</td>\n",
       "      <td>Appartement</td>\n",
       "      <td>Rennes (35000)</td>\n",
       "      <td>6041.667</td>\n",
       "    </tr>\n",
       "    <tr>\n",
       "      <th>71</th>\n",
       "      <td>149000</td>\n",
       "      <td>34</td>\n",
       "      <td>1</td>\n",
       "      <td>Appartement</td>\n",
       "      <td>Rennes (35000)</td>\n",
       "      <td>4382.353</td>\n",
       "    </tr>\n",
       "    <tr>\n",
       "      <th>194</th>\n",
       "      <td>159000</td>\n",
       "      <td>26</td>\n",
       "      <td>1</td>\n",
       "      <td>Appartement</td>\n",
       "      <td>Rennes (35000)</td>\n",
       "      <td>6115.385</td>\n",
       "    </tr>\n",
       "    <tr>\n",
       "      <th>269</th>\n",
       "      <td>163000</td>\n",
       "      <td>25</td>\n",
       "      <td>1</td>\n",
       "      <td>Appartement</td>\n",
       "      <td>Rennes (35000)</td>\n",
       "      <td>6520.000</td>\n",
       "    </tr>\n",
       "    <tr>\n",
       "      <th>223</th>\n",
       "      <td>169000</td>\n",
       "      <td>21</td>\n",
       "      <td>1</td>\n",
       "      <td>Appartement</td>\n",
       "      <td>Rennes (35000)</td>\n",
       "      <td>8047.619</td>\n",
       "    </tr>\n",
       "    <tr>\n",
       "      <th>268</th>\n",
       "      <td>172000</td>\n",
       "      <td>25</td>\n",
       "      <td>1</td>\n",
       "      <td>Appartement</td>\n",
       "      <td>Rennes (35000)</td>\n",
       "      <td>6880.000</td>\n",
       "    </tr>\n",
       "    <tr>\n",
       "      <th>192</th>\n",
       "      <td>174000</td>\n",
       "      <td>25</td>\n",
       "      <td>1</td>\n",
       "      <td>Appartement</td>\n",
       "      <td>Rennes (35000)</td>\n",
       "      <td>6960.000</td>\n",
       "    </tr>\n",
       "    <tr>\n",
       "      <th>267</th>\n",
       "      <td>174000</td>\n",
       "      <td>24</td>\n",
       "      <td>1</td>\n",
       "      <td>Appartement</td>\n",
       "      <td>Rennes (35000)</td>\n",
       "      <td>7250.000</td>\n",
       "    </tr>\n",
       "    <tr>\n",
       "      <th>32</th>\n",
       "      <td>177650</td>\n",
       "      <td>30</td>\n",
       "      <td>1</td>\n",
       "      <td>Appartement</td>\n",
       "      <td>Rennes (35000)</td>\n",
       "      <td>5921.667</td>\n",
       "    </tr>\n",
       "    <tr>\n",
       "      <th>43</th>\n",
       "      <td>182500</td>\n",
       "      <td>27</td>\n",
       "      <td>1</td>\n",
       "      <td>Appartement</td>\n",
       "      <td>Rennes (35000)</td>\n",
       "      <td>6759.259</td>\n",
       "    </tr>\n",
       "    <tr>\n",
       "      <th>21</th>\n",
       "      <td>185000</td>\n",
       "      <td>31</td>\n",
       "      <td>1</td>\n",
       "      <td>Appartement</td>\n",
       "      <td>Rennes (35000)</td>\n",
       "      <td>5967.742</td>\n",
       "    </tr>\n",
       "    <tr>\n",
       "      <th>80</th>\n",
       "      <td>193544</td>\n",
       "      <td>30</td>\n",
       "      <td>1</td>\n",
       "      <td>Appartement</td>\n",
       "      <td>Rennes (35000)</td>\n",
       "      <td>6451.467</td>\n",
       "    </tr>\n",
       "  </tbody>\n",
       "</table>\n",
       "</div>"
      ],
      "text/plain": [
       "      price  surface  pieces        types     code postal  prix au m2\n",
       "138   59000        9       1  Appartement  Rennes (35000)    6555.556\n",
       "139   59000        9       1  Appartement  Rennes (35000)    6555.556\n",
       "154   82900       15       1  Appartement  Rennes (35000)    5526.667\n",
       "252  103000       19       1  Appartement  Rennes (35000)    5421.053\n",
       "171  113184       20       1  Appartement  Rennes (35000)    5659.200\n",
       "208  125700       22       1  Appartement  Rennes (35000)    5713.636\n",
       "64   127000       30       1  Appartement  Rennes (35000)    4233.333\n",
       "169  131000       16       1  Appartement  Rennes (35000)    8187.500\n",
       "53   131000       21       1  Appartement  Rennes (35000)    6238.095\n",
       "123  131500       33       1  Appartement  Rennes (35000)    3984.848\n",
       "255  137000       26       1  Appartement  Rennes (35000)    5269.231\n",
       "357  145000       24       1  Appartement  Rennes (35000)    6041.667\n",
       "71   149000       34       1  Appartement  Rennes (35000)    4382.353\n",
       "194  159000       26       1  Appartement  Rennes (35000)    6115.385\n",
       "269  163000       25       1  Appartement  Rennes (35000)    6520.000\n",
       "223  169000       21       1  Appartement  Rennes (35000)    8047.619\n",
       "268  172000       25       1  Appartement  Rennes (35000)    6880.000\n",
       "192  174000       25       1  Appartement  Rennes (35000)    6960.000\n",
       "267  174000       24       1  Appartement  Rennes (35000)    7250.000\n",
       "32   177650       30       1  Appartement  Rennes (35000)    5921.667\n",
       "43   182500       27       1  Appartement  Rennes (35000)    6759.259\n",
       "21   185000       31       1  Appartement  Rennes (35000)    5967.742\n",
       "80   193544       30       1  Appartement  Rennes (35000)    6451.467"
      ]
     },
     "execution_count": 43,
     "metadata": {},
     "output_type": "execute_result"
    }
   ],
   "source": [
    "df_filtre.sort_values(by=\"price\")"
   ]
  },
  {
   "cell_type": "code",
   "execution_count": 44,
   "metadata": {},
   "outputs": [
    {
     "data": {
      "text/html": [
       "<div>\n",
       "<style scoped>\n",
       "    .dataframe tbody tr th:only-of-type {\n",
       "        vertical-align: middle;\n",
       "    }\n",
       "\n",
       "    .dataframe tbody tr th {\n",
       "        vertical-align: top;\n",
       "    }\n",
       "\n",
       "    .dataframe thead th {\n",
       "        text-align: right;\n",
       "    }\n",
       "</style>\n",
       "<table border=\"1\" class=\"dataframe\">\n",
       "  <thead>\n",
       "    <tr style=\"text-align: right;\">\n",
       "      <th></th>\n",
       "      <th>price</th>\n",
       "      <th>surface</th>\n",
       "      <th>pieces</th>\n",
       "      <th>types</th>\n",
       "      <th>code postal</th>\n",
       "      <th>prix au m2</th>\n",
       "    </tr>\n",
       "  </thead>\n",
       "  <tbody>\n",
       "    <tr>\n",
       "      <th>123</th>\n",
       "      <td>131500</td>\n",
       "      <td>33</td>\n",
       "      <td>1</td>\n",
       "      <td>Appartement</td>\n",
       "      <td>Rennes (35000)</td>\n",
       "      <td>3984.848</td>\n",
       "    </tr>\n",
       "    <tr>\n",
       "      <th>64</th>\n",
       "      <td>127000</td>\n",
       "      <td>30</td>\n",
       "      <td>1</td>\n",
       "      <td>Appartement</td>\n",
       "      <td>Rennes (35000)</td>\n",
       "      <td>4233.333</td>\n",
       "    </tr>\n",
       "    <tr>\n",
       "      <th>71</th>\n",
       "      <td>149000</td>\n",
       "      <td>34</td>\n",
       "      <td>1</td>\n",
       "      <td>Appartement</td>\n",
       "      <td>Rennes (35000)</td>\n",
       "      <td>4382.353</td>\n",
       "    </tr>\n",
       "    <tr>\n",
       "      <th>255</th>\n",
       "      <td>137000</td>\n",
       "      <td>26</td>\n",
       "      <td>1</td>\n",
       "      <td>Appartement</td>\n",
       "      <td>Rennes (35000)</td>\n",
       "      <td>5269.231</td>\n",
       "    </tr>\n",
       "    <tr>\n",
       "      <th>252</th>\n",
       "      <td>103000</td>\n",
       "      <td>19</td>\n",
       "      <td>1</td>\n",
       "      <td>Appartement</td>\n",
       "      <td>Rennes (35000)</td>\n",
       "      <td>5421.053</td>\n",
       "    </tr>\n",
       "    <tr>\n",
       "      <th>154</th>\n",
       "      <td>82900</td>\n",
       "      <td>15</td>\n",
       "      <td>1</td>\n",
       "      <td>Appartement</td>\n",
       "      <td>Rennes (35000)</td>\n",
       "      <td>5526.667</td>\n",
       "    </tr>\n",
       "    <tr>\n",
       "      <th>171</th>\n",
       "      <td>113184</td>\n",
       "      <td>20</td>\n",
       "      <td>1</td>\n",
       "      <td>Appartement</td>\n",
       "      <td>Rennes (35000)</td>\n",
       "      <td>5659.200</td>\n",
       "    </tr>\n",
       "    <tr>\n",
       "      <th>208</th>\n",
       "      <td>125700</td>\n",
       "      <td>22</td>\n",
       "      <td>1</td>\n",
       "      <td>Appartement</td>\n",
       "      <td>Rennes (35000)</td>\n",
       "      <td>5713.636</td>\n",
       "    </tr>\n",
       "    <tr>\n",
       "      <th>32</th>\n",
       "      <td>177650</td>\n",
       "      <td>30</td>\n",
       "      <td>1</td>\n",
       "      <td>Appartement</td>\n",
       "      <td>Rennes (35000)</td>\n",
       "      <td>5921.667</td>\n",
       "    </tr>\n",
       "    <tr>\n",
       "      <th>21</th>\n",
       "      <td>185000</td>\n",
       "      <td>31</td>\n",
       "      <td>1</td>\n",
       "      <td>Appartement</td>\n",
       "      <td>Rennes (35000)</td>\n",
       "      <td>5967.742</td>\n",
       "    </tr>\n",
       "    <tr>\n",
       "      <th>357</th>\n",
       "      <td>145000</td>\n",
       "      <td>24</td>\n",
       "      <td>1</td>\n",
       "      <td>Appartement</td>\n",
       "      <td>Rennes (35000)</td>\n",
       "      <td>6041.667</td>\n",
       "    </tr>\n",
       "    <tr>\n",
       "      <th>194</th>\n",
       "      <td>159000</td>\n",
       "      <td>26</td>\n",
       "      <td>1</td>\n",
       "      <td>Appartement</td>\n",
       "      <td>Rennes (35000)</td>\n",
       "      <td>6115.385</td>\n",
       "    </tr>\n",
       "    <tr>\n",
       "      <th>53</th>\n",
       "      <td>131000</td>\n",
       "      <td>21</td>\n",
       "      <td>1</td>\n",
       "      <td>Appartement</td>\n",
       "      <td>Rennes (35000)</td>\n",
       "      <td>6238.095</td>\n",
       "    </tr>\n",
       "    <tr>\n",
       "      <th>80</th>\n",
       "      <td>193544</td>\n",
       "      <td>30</td>\n",
       "      <td>1</td>\n",
       "      <td>Appartement</td>\n",
       "      <td>Rennes (35000)</td>\n",
       "      <td>6451.467</td>\n",
       "    </tr>\n",
       "    <tr>\n",
       "      <th>269</th>\n",
       "      <td>163000</td>\n",
       "      <td>25</td>\n",
       "      <td>1</td>\n",
       "      <td>Appartement</td>\n",
       "      <td>Rennes (35000)</td>\n",
       "      <td>6520.000</td>\n",
       "    </tr>\n",
       "    <tr>\n",
       "      <th>138</th>\n",
       "      <td>59000</td>\n",
       "      <td>9</td>\n",
       "      <td>1</td>\n",
       "      <td>Appartement</td>\n",
       "      <td>Rennes (35000)</td>\n",
       "      <td>6555.556</td>\n",
       "    </tr>\n",
       "    <tr>\n",
       "      <th>139</th>\n",
       "      <td>59000</td>\n",
       "      <td>9</td>\n",
       "      <td>1</td>\n",
       "      <td>Appartement</td>\n",
       "      <td>Rennes (35000)</td>\n",
       "      <td>6555.556</td>\n",
       "    </tr>\n",
       "    <tr>\n",
       "      <th>43</th>\n",
       "      <td>182500</td>\n",
       "      <td>27</td>\n",
       "      <td>1</td>\n",
       "      <td>Appartement</td>\n",
       "      <td>Rennes (35000)</td>\n",
       "      <td>6759.259</td>\n",
       "    </tr>\n",
       "    <tr>\n",
       "      <th>268</th>\n",
       "      <td>172000</td>\n",
       "      <td>25</td>\n",
       "      <td>1</td>\n",
       "      <td>Appartement</td>\n",
       "      <td>Rennes (35000)</td>\n",
       "      <td>6880.000</td>\n",
       "    </tr>\n",
       "    <tr>\n",
       "      <th>192</th>\n",
       "      <td>174000</td>\n",
       "      <td>25</td>\n",
       "      <td>1</td>\n",
       "      <td>Appartement</td>\n",
       "      <td>Rennes (35000)</td>\n",
       "      <td>6960.000</td>\n",
       "    </tr>\n",
       "    <tr>\n",
       "      <th>267</th>\n",
       "      <td>174000</td>\n",
       "      <td>24</td>\n",
       "      <td>1</td>\n",
       "      <td>Appartement</td>\n",
       "      <td>Rennes (35000)</td>\n",
       "      <td>7250.000</td>\n",
       "    </tr>\n",
       "    <tr>\n",
       "      <th>223</th>\n",
       "      <td>169000</td>\n",
       "      <td>21</td>\n",
       "      <td>1</td>\n",
       "      <td>Appartement</td>\n",
       "      <td>Rennes (35000)</td>\n",
       "      <td>8047.619</td>\n",
       "    </tr>\n",
       "    <tr>\n",
       "      <th>169</th>\n",
       "      <td>131000</td>\n",
       "      <td>16</td>\n",
       "      <td>1</td>\n",
       "      <td>Appartement</td>\n",
       "      <td>Rennes (35000)</td>\n",
       "      <td>8187.500</td>\n",
       "    </tr>\n",
       "  </tbody>\n",
       "</table>\n",
       "</div>"
      ],
      "text/plain": [
       "      price  surface  pieces        types     code postal  prix au m2\n",
       "123  131500       33       1  Appartement  Rennes (35000)    3984.848\n",
       "64   127000       30       1  Appartement  Rennes (35000)    4233.333\n",
       "71   149000       34       1  Appartement  Rennes (35000)    4382.353\n",
       "255  137000       26       1  Appartement  Rennes (35000)    5269.231\n",
       "252  103000       19       1  Appartement  Rennes (35000)    5421.053\n",
       "154   82900       15       1  Appartement  Rennes (35000)    5526.667\n",
       "171  113184       20       1  Appartement  Rennes (35000)    5659.200\n",
       "208  125700       22       1  Appartement  Rennes (35000)    5713.636\n",
       "32   177650       30       1  Appartement  Rennes (35000)    5921.667\n",
       "21   185000       31       1  Appartement  Rennes (35000)    5967.742\n",
       "357  145000       24       1  Appartement  Rennes (35000)    6041.667\n",
       "194  159000       26       1  Appartement  Rennes (35000)    6115.385\n",
       "53   131000       21       1  Appartement  Rennes (35000)    6238.095\n",
       "80   193544       30       1  Appartement  Rennes (35000)    6451.467\n",
       "269  163000       25       1  Appartement  Rennes (35000)    6520.000\n",
       "138   59000        9       1  Appartement  Rennes (35000)    6555.556\n",
       "139   59000        9       1  Appartement  Rennes (35000)    6555.556\n",
       "43   182500       27       1  Appartement  Rennes (35000)    6759.259\n",
       "268  172000       25       1  Appartement  Rennes (35000)    6880.000\n",
       "192  174000       25       1  Appartement  Rennes (35000)    6960.000\n",
       "267  174000       24       1  Appartement  Rennes (35000)    7250.000\n",
       "223  169000       21       1  Appartement  Rennes (35000)    8047.619\n",
       "169  131000       16       1  Appartement  Rennes (35000)    8187.500"
      ]
     },
     "execution_count": 44,
     "metadata": {},
     "output_type": "execute_result"
    }
   ],
   "source": [
    "df_filtre.sort_values(by=\"prix au m2\")"
   ]
  },
  {
   "cell_type": "code",
   "execution_count": null,
   "metadata": {},
   "outputs": [],
   "source": []
  }
 ],
 "metadata": {
  "kernelspec": {
   "display_name": "Python 3",
   "language": "python",
   "name": "python3"
  },
  "language_info": {
   "codemirror_mode": {
    "name": "ipython",
    "version": 3
   },
   "file_extension": ".py",
   "mimetype": "text/x-python",
   "name": "python",
   "nbconvert_exporter": "python",
   "pygments_lexer": "ipython3",
   "version": "3.8.3"
  }
 },
 "nbformat": 4,
 "nbformat_minor": 5
}
